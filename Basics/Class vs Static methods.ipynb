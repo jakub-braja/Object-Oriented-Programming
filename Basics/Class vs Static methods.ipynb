{
 "cells": [
  {
   "cell_type": "markdown",
   "metadata": {},
   "source": [
    "# Static vs Class Methods"
   ]
  },
  {
   "cell_type": "markdown",
   "metadata": {},
   "source": [
    "In Python, both class methods and static methods are ways to define methods that are bound to a class rather than an instance of the class. However, they are used in different scenarios.\n",
    "\n",
    "### Class Methods:\n",
    "\n",
    "`Class methods are used when a method needs to access or modify the class itself, rather than instances of the class.`\n",
    "\n",
    "* **Decorator**: You define a class method using the @classmethod decorator.\n",
    "* **First Parameter**: The first parameter of a class method is always the class itself, conventionally named cls.\n",
    "* **Accessing Class Attributes** Class methods can access and modify class-level attributes.\n",
    "\n",
    "Example:\n",
    "`class MyClass:\n",
    "    class_variable = 0\n",
    "\n",
    "    @classmethod\n",
    "    def class_method(cls, x):\n",
    "        cls.class_variable += x`\n",
    "\n",
    "\n",
    "### Static Methods:\n",
    "\n",
    "`Static methods are used when a method does not depend on the class or its instances. It behaves like a regular function but is defined inside a class for organization purposes.`\n",
    "\n",
    "* **Decorator**: You define a static method using the @staticmethod decorator.\n",
    "* **No First Parameter for Class**: Unlike class methods, static methods don't have a reference to the class itself as the first parameter.\n",
    "\n",
    "Example:\n",
    "\n",
    "`\n",
    "class MyClass:\n",
    "    @staticmethod\n",
    "    def static_method(x, y):    \n",
    "        return x + y\n",
    "`\n",
    "\n",
    "        \n",
    "### Choosing Between Class and Static Methods:\n",
    "\n",
    "Use a class method when you need access to or modification of class-level attributes or when you want to perform some operation related to the class itself.\n",
    "Use a static method when the method does not depend on class-level attributes and is more like a utility function that logically belongs to the class.\n",
    "Here's an example to illustrate the difference:\n",
    "\n",
    "\n",
    "`class MathOperations:\n",
    "    pi = 3.14  `\n",
    "\n",
    "    @classmethod\n",
    "    def modify_pi(cls, new_value):\n",
    "        cls.pi = new_value\n",
    "\n",
    "    @staticmethod\n",
    "    def add(x, y):\n",
    "        return x + y`\n",
    "\n",
    "In this example, modify_pi is a class method because it modifies the class variable pi. On the other hand, add is a static method because it doesn't depend on any class-specific attribute; it's a standalone function that happens to be organized inside the class.\n",
    "\n",
    "\n",
    "\n",
    "A typical usage of @classmethod is also when we instantiate new values for our instances from a datatype, for example a table etc..\n",
    "\n",
    "\n",
    "\n",
    "\n"
   ]
  }
 ],
 "metadata": {
  "kernelspec": {
   "display_name": "Python 3",
   "language": "python",
   "name": "python3"
  },
  "language_info": {
   "codemirror_mode": {
    "name": "ipython",
    "version": 3
   },
   "file_extension": ".py",
   "mimetype": "text/x-python",
   "name": "python",
   "nbconvert_exporter": "python",
   "pygments_lexer": "ipython3",
   "version": "3.11.2"
  }
 },
 "nbformat": 4,
 "nbformat_minor": 2
}
