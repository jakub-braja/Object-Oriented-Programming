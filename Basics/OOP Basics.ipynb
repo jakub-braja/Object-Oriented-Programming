{
 "cells": [
  {
   "cell_type": "markdown",
   "metadata": {},
   "source": [
    "# Poker Probability check\n",
    "\n",
    "We are going to evaluate perforing some simualations is the rank of the poker hands is justifiesd by propability\n",
    "\n",
    "At first let's just open the files we are going to need for this. Basically some cheatsheets"
   ]
  },
  {
   "cell_type": "code",
   "execution_count": 1,
   "metadata": {},
   "outputs": [],
   "source": [
    "# import the typical directories we always use\n",
    "\n",
    "import os\n",
    "import subprocess as sp\n",
    "import PyPDF2\n",
    "import numpy as np\n",
    "import pprint as pp\n",
    "import csv"
   ]
  },
  {
   "cell_type": "code",
   "execution_count": 2,
   "metadata": {},
   "outputs": [
    {
     "data": {
      "text/plain": [
       "'c:\\\\Users\\\\jakub\\\\OneDrive\\\\Jakub.Personal\\\\02.Python\\\\02.Object-Oriented-Programming\\\\Basics'"
      ]
     },
     "execution_count": 2,
     "metadata": {},
     "output_type": "execute_result"
    }
   ],
   "source": [
    "os.getcwd()"
   ]
  },
  {
   "cell_type": "code",
   "execution_count": 3,
   "metadata": {},
   "outputs": [
    {
     "data": {
      "text/plain": [
       "['Dash.pdf',\n",
       " 'MatplotLib.pdf',\n",
       " 'Numpy.pdf',\n",
       " 'Plotly Express.pdf',\n",
       " 'Plotly.pdf',\n",
       " 'Polars.pdf',\n",
       " 'Polars_cheat_sheet.pdf',\n",
       " 'Python_Basics.pdf',\n",
       " 'Selected_Indicies.txt',\n",
       " 'VSCode.pdf']"
      ]
     },
     "execution_count": 3,
     "metadata": {},
     "output_type": "execute_result"
    }
   ],
   "source": [
    "# Let's add the cheatsheets as usual so we dom t have to open them evey time \n",
    "\n",
    "directory = r\"C:\\Users\\jakub\\OneDrive\\Jakub.Personal\\02.Python\\99.Cheatsheets\"\n",
    "\n",
    "files = os.listdir(directory)\n",
    "\n",
    "files\n"
   ]
  },
  {
   "cell_type": "code",
   "execution_count": 3,
   "metadata": {},
   "outputs": [],
   "source": [
    "for file in files :\n",
    "    sp.Popen(os.path.join(directory,file), shell=True)"
   ]
  },
  {
   "cell_type": "markdown",
   "metadata": {},
   "source": [
    "Let's creata our first class, the poker game"
   ]
  },
  {
   "cell_type": "code",
   "execution_count": 4,
   "metadata": {},
   "outputs": [],
   "source": [
    "class pokerGame:\n",
    "    pass"
   ]
  },
  {
   "cell_type": "markdown",
   "metadata": {},
   "source": [
    "We can instantiate the first instance of the poker game just to get a feel of what we are doing "
   ]
  },
  {
   "cell_type": "code",
   "execution_count": 5,
   "metadata": {},
   "outputs": [],
   "source": [
    "game1 = pokerGame()\n",
    "game1.numberOfGames = 50\n",
    "game1.numberOfHands = 10\n",
    "game1.numberOfPlayers = 4\n",
    "game1.name = \"First_game\"\n",
    "\n",
    "game2 = pokerGame()\n",
    "game2.numberOfGames = 50\n",
    "game2.numberOfHands = 10\n",
    "game2.numberOfPlayers = 4\n",
    "game2.name = \"Second_game\""
   ]
  },
  {
   "cell_type": "code",
   "execution_count": 6,
   "metadata": {},
   "outputs": [
    {
     "name": "stdout",
     "output_type": "stream",
     "text": [
      "\n",
      "\n",
      "<class 'int'> \n",
      "<class 'int'>\n",
      "<class 'int'>\n",
      "<class 'str'>\n",
      "<class '__main__.pokerGame'>\n",
      "\n",
      "    \n"
     ]
    }
   ],
   "source": [
    "print(f\"\"\"\n",
    "\n",
    "{type(game1.numberOfGames)} \n",
    "{type(game1.numberOfHands)}\n",
    "{type(game1.numberOfPlayers)}\n",
    "{type(game1.name)}\n",
    "{type(game1)}\n",
    "\n",
    "    \"\"\")"
   ]
  },
  {
   "cell_type": "markdown",
   "metadata": {},
   "source": [
    " The **<class '__main__.pokerGame'>** notation you're seeing indicates that the class pokerGame was defined in the main module (i.e., the top-level script you are running), and it's not part of a separate module or package. In Python, when you define a class at the top level of a script or module (i.e., not within a function or nested within another class), it is associated with the module in which it is defined. When you print the type of the class using the type() function, you'll see it displayed as <class '__main__.pokerGame'>, where '__main__' is the name of the top-level script or module."
   ]
  },
  {
   "cell_type": "code",
   "execution_count": 7,
   "metadata": {},
   "outputs": [
    {
     "data": {
      "text/plain": [
       "'SFERQDAFR'"
      ]
     },
     "execution_count": 7,
     "metadata": {},
     "output_type": "execute_result"
    }
   ],
   "source": [
    "b = \"sfeRQDAFr\"\n",
    "\n",
    "b.upper()\n",
    "\n",
    "# Here i used the method that is available for my string class"
   ]
  },
  {
   "cell_type": "markdown",
   "metadata": {},
   "source": [
    "Let's create our first method\n",
    "We have to pass at least the **self** argument has to be placed in a method for a class, if we do not do that we get an error. Why? The first argmuent self is needed ad once a method is called the first thing that it does is to pass the class itself to the function. **We have to pass the object itself as first parameter**\n",
    "\n",
    "*It is just a convention to call it \"self\", we could have called anyhow*\n",
    " "
   ]
  },
  {
   "cell_type": "code",
   "execution_count": 8,
   "metadata": {},
   "outputs": [],
   "source": [
    "class pokerGame:\n",
    "    \n",
    "    def totalNumberOfGames(self, x , y):\n",
    "        return x * y\n",
    "        \n",
    "     "
   ]
  },
  {
   "cell_type": "code",
   "execution_count": 9,
   "metadata": {},
   "outputs": [],
   "source": [
    "game1 = pokerGame()\n",
    "game1.numberOfGames = 50\n",
    "game1.numberOfHands = 10\n",
    "game1.numberOfPlayers = 4\n",
    "game1.name = \"First_game\"\n",
    "\n",
    "game2 = pokerGame()\n",
    "game2.numberOfGames = 70\n",
    "game2.numberOfHands = 10\n",
    "game2.numberOfPlayers = 4\n",
    "game2.name = \"Second_game\""
   ]
  },
  {
   "cell_type": "code",
   "execution_count": 10,
   "metadata": {},
   "outputs": [
    {
     "name": "stdout",
     "output_type": "stream",
     "text": [
      "500\n",
      "700\n"
     ]
    }
   ],
   "source": [
    "print(game1.totalNumberOfGames(game1.numberOfGames,game2.numberOfHands))\n",
    "print(game2.totalNumberOfGames(game2.numberOfGames,game2.numberOfHands))"
   ]
  },
  {
   "cell_type": "markdown",
   "metadata": {},
   "source": [
    "Let's see how we can create the class in a different way in order to not to have to hardcode the attributes of my class everytime. This is obtained by using the **__init__** method, also known as the **constructor**, is a special method in Python classes. It is used to initialize the attributes (or properties) of an object when an instance of the class is created. \n",
    "\n",
    "The __init__ method simply is used and it is automatically/dynamically executed whenever a class is instancietad.\n",
    "\n",
    "This means that we could assign the attributes of a method directly when initiating the class i\n",
    "Instead of havinf to type them every time. Let's see hoe it is done"
   ]
  },
  {
   "cell_type": "code",
   "execution_count": 11,
   "metadata": {},
   "outputs": [],
   "source": [
    "class pokerGame:\n",
    "\n",
    "    def __init__(self,\n",
    "                 numberOfGames = 1,\n",
    "                 numberOfHands = 10,\n",
    "                 numberOfPlayers = 2,\n",
    "                 name = \"Game\"):\n",
    "        \n",
    "        self.numberOfGames = numberOfGames\n",
    "        self.numberOfHands = numberOfHands\n",
    "        self.numberOfPlayers = numberOfPlayers\n",
    "        self.name = name\n",
    "    \n",
    "    def totalNumberOfGames(self):\n",
    "        return self.numberOfGames * self.numberOfHands\n",
    "        \n",
    "     "
   ]
  },
  {
   "cell_type": "code",
   "execution_count": 12,
   "metadata": {},
   "outputs": [
    {
     "data": {
      "text/plain": [
       "500"
      ]
     },
     "execution_count": 12,
     "metadata": {},
     "output_type": "execute_result"
    }
   ],
   "source": [
    "game3 = pokerGame(10,50,4, \"First.Game\")\n",
    "game3.totalNumberOfGames()\n",
    "\n",
    "# game3.numberOfGames"
   ]
  },
  {
   "cell_type": "markdown",
   "metadata": {},
   "source": [
    "we can still assign attributes away from the constructor. If we want to assign other parameter we can still assign it just like before"
   ]
  },
  {
   "cell_type": "code",
   "execution_count": 13,
   "metadata": {},
   "outputs": [
    {
     "data": {
      "text/plain": [
       "'banana'"
      ]
     },
     "execution_count": 13,
     "metadata": {},
     "output_type": "execute_result"
    }
   ],
   "source": [
    "game1.taste = \"banana\"\n",
    "\n",
    "game1.taste"
   ]
  },
  {
   "cell_type": "markdown",
   "metadata": {},
   "source": [
    "#### Data validation\n",
    "\n",
    "We have to assure that we are using the correct datatype in order to run the program without errors.\n",
    "This can be done in two ways\n",
    "\n",
    "1. assigning the data type at the very beginning by setting it directly (variable: datatype)\n",
    "2. by using **assert** statements\n",
    "\n",
    "One important thing is that if we already specified a default value in Python we do not need to provide a datatype as Python will detect the datatype directly.\n",
    "\n",
    "One thing to be carefull is to not provide a defalut argument prior to an argument that has a specified datatype so for example:\n",
    "\n",
    "\n",
    "    def __init__(self,\n",
    "                 numberOfGames: float,\n",
    "                 numberOfHands = 10,\n",
    "                 numberOfPlayers = 2,\n",
    "                 name: str):\n",
    "    \n",
    "The code above will rise an error as the name argument is passed after other argumnets for which we are not explicetly defining the datatype.\n",
    "\n",
    "To solve the issue we have to pute the name argument before the arguments with decalred values instead of those with declared datatype:\n",
    "\n",
    "\n",
    "    def __init__(self,\n",
    "                 numberOfGames: float,\n",
    "                 name: str,\n",
    "                 numberOfHands = 10,\n",
    "                 numberOfPlayers = 2):\n",
    "\n"
   ]
  },
  {
   "cell_type": "code",
   "execution_count": 14,
   "metadata": {},
   "outputs": [],
   "source": [
    "class pokerGame:\n",
    "\n",
    "    def __init__(self,\n",
    "                 numberOfGames: float,\n",
    "                 name: str,\n",
    "                 numberOfHands = 10,\n",
    "                 numberOfPlayers = 2):\n",
    "        \n",
    "        self.numberOfGames = numberOfGames\n",
    "        self.numberOfHands = numberOfHands\n",
    "        self.numberOfPlayers = numberOfPlayers\n",
    "        self.name = name\n",
    "    \n",
    "    def totalNumberOfGames(self):\n",
    "        return self.numberOfGames * self.numberOfHands\n",
    "        \n",
    "     "
   ]
  },
  {
   "cell_type": "code",
   "execution_count": 16,
   "metadata": {},
   "outputs": [
    {
     "data": {
      "text/plain": [
       "'sta'"
      ]
     },
     "execution_count": 16,
     "metadata": {},
     "output_type": "execute_result"
    }
   ],
   "source": [
    "game4 = pokerGame(\"sta\", 56)\n",
    "\n",
    "game4.name\n",
    "game4.numberOfGames"
   ]
  },
  {
   "cell_type": "markdown",
   "metadata": {},
   "source": [
    "Below we have an example of how to use an assert statement. It is basically made od two parts one is oprional the other mandatory.\n",
    "\n",
    "1. A condition that a varailble must meet\n",
    "2. A message in case the condition is not met (**optional**)"
   ]
  },
  {
   "cell_type": "code",
   "execution_count": 17,
   "metadata": {},
   "outputs": [],
   "source": [
    "class pokerGame:\n",
    "\n",
    "    def __init__(self,\n",
    "                 numberOfGames = 1,\n",
    "                 numberOfHands = 10,\n",
    "                 numberOfPlayers = 2,\n",
    "                 name = \"Game\"):\n",
    "        \n",
    "        assert numberOfGames >= 1, f\"Minimum numberOfGames >= 1, Current: {numberOfGames}\"\n",
    "        assert numberOfHands >= 1, f\"Minimum numberOfHands >= 1, Current: {numberOfHands}\"\n",
    "        assert numberOfPlayers >= 2, f\"Minimum numberOfPlayers >= 2, Current: {numberOfPlayers}\"\n",
    "        assert str(name) == True, f\"Name is not a string , Current datatype: {type(name)}\"\n",
    "        \n",
    "        self.numberOfGames = numberOfGames\n",
    "        self.numberOfHands = numberOfHands\n",
    "        self.numberOfPlayers = numberOfPlayers\n",
    "        self.name = name\n",
    "    \n",
    "    def totalNumberOfGames(self):\n",
    "        return self.numberOfGames * self.numberOfHands\n",
    "        \n",
    "     "
   ]
  },
  {
   "cell_type": "code",
   "execution_count": 18,
   "metadata": {},
   "outputs": [
    {
     "ename": "AssertionError",
     "evalue": "Name is not a string , Current datatype: <class 'int'>",
     "output_type": "error",
     "traceback": [
      "\u001b[1;31m---------------------------------------------------------------------------\u001b[0m",
      "\u001b[1;31mAssertionError\u001b[0m                            Traceback (most recent call last)",
      "Cell \u001b[1;32mIn[18], line 5\u001b[0m\n\u001b[0;32m      1\u001b[0m \u001b[38;5;66;03m# This is just an example of the use of the assert statement. As we can see there is an error message that simplifies a lot \u001b[39;00m\n\u001b[0;32m      2\u001b[0m \u001b[38;5;66;03m# the process of finding the issue\u001b[39;00m\n\u001b[0;32m      3\u001b[0m \n\u001b[0;32m      4\u001b[0m \u001b[38;5;66;03m#game5 = pokerGame(1, 1, 1)\u001b[39;00m\n\u001b[1;32m----> 5\u001b[0m game5 \u001b[38;5;241m=\u001b[39m \u001b[43mpokerGame\u001b[49m\u001b[43m(\u001b[49m\u001b[38;5;241;43m2\u001b[39;49m\u001b[43m,\u001b[49m\u001b[43m \u001b[49m\u001b[38;5;241;43m10\u001b[39;49m\u001b[43m,\u001b[49m\u001b[43m \u001b[49m\u001b[38;5;241;43m5\u001b[39;49m\u001b[43m,\u001b[49m\u001b[43m \u001b[49m\u001b[38;5;241;43m5\u001b[39;49m\u001b[43m)\u001b[49m\n",
      "Cell \u001b[1;32mIn[17], line 12\u001b[0m, in \u001b[0;36mpokerGame.__init__\u001b[1;34m(self, numberOfGames, numberOfHands, numberOfPlayers, name)\u001b[0m\n\u001b[0;32m     10\u001b[0m \u001b[38;5;28;01massert\u001b[39;00m numberOfHands \u001b[38;5;241m>\u001b[39m\u001b[38;5;241m=\u001b[39m \u001b[38;5;241m1\u001b[39m, \u001b[38;5;124mf\u001b[39m\u001b[38;5;124m\"\u001b[39m\u001b[38;5;124mMinimum numberOfHands >= 1, Current: \u001b[39m\u001b[38;5;132;01m{\u001b[39;00mnumberOfHands\u001b[38;5;132;01m}\u001b[39;00m\u001b[38;5;124m\"\u001b[39m\n\u001b[0;32m     11\u001b[0m \u001b[38;5;28;01massert\u001b[39;00m numberOfPlayers \u001b[38;5;241m>\u001b[39m\u001b[38;5;241m=\u001b[39m \u001b[38;5;241m2\u001b[39m, \u001b[38;5;124mf\u001b[39m\u001b[38;5;124m\"\u001b[39m\u001b[38;5;124mMinimum numberOfPlayers >= 2, Current: \u001b[39m\u001b[38;5;132;01m{\u001b[39;00mnumberOfPlayers\u001b[38;5;132;01m}\u001b[39;00m\u001b[38;5;124m\"\u001b[39m\n\u001b[1;32m---> 12\u001b[0m \u001b[38;5;28;01massert\u001b[39;00m \u001b[38;5;28mstr\u001b[39m(name) \u001b[38;5;241m==\u001b[39m \u001b[38;5;28;01mTrue\u001b[39;00m, \u001b[38;5;124mf\u001b[39m\u001b[38;5;124m\"\u001b[39m\u001b[38;5;124mName is not a string , Current datatype: \u001b[39m\u001b[38;5;132;01m{\u001b[39;00m\u001b[38;5;28mtype\u001b[39m(name)\u001b[38;5;132;01m}\u001b[39;00m\u001b[38;5;124m\"\u001b[39m\n\u001b[0;32m     14\u001b[0m \u001b[38;5;28mself\u001b[39m\u001b[38;5;241m.\u001b[39mnumberOfGames \u001b[38;5;241m=\u001b[39m numberOfGames\n\u001b[0;32m     15\u001b[0m \u001b[38;5;28mself\u001b[39m\u001b[38;5;241m.\u001b[39mnumberOfHands \u001b[38;5;241m=\u001b[39m numberOfHands\n",
      "\u001b[1;31mAssertionError\u001b[0m: Name is not a string , Current datatype: <class 'int'>"
     ]
    }
   ],
   "source": [
    "# This is just an example of the use of the assert statement. As we can see there is an error message that simplifies a lot \n",
    "# the process of finding the issue\n",
    "\n",
    "#game5 = pokerGame(1, 1, 1)\n",
    "game5 = pokerGame(2, 10, 5, 5)"
   ]
  },
  {
   "cell_type": "markdown",
   "metadata": {},
   "source": [
    "### Class Attributes\n",
    "Those are attributes that belong to the class itself. Meaning that such an attribute will impact all my instances at once instead of just one instance.\n",
    "\n",
    "Key characteristics of class attributes:\n",
    "\n",
    "1. Shared Among Instances: Class attributes are shared by all instances of the class. Any modification to the attribute made by one instance will affect the attribute for all instances.\n",
    "\n",
    "2. Defined at the Class Level: Class attributes are defined directly within the class definition but outside of any instance methods (such as  `__init__` ) using the class name.\n",
    "\n",
    "3. Accessed via the Class or Instances: You can access class attributes using either the class name or an instance of the class. However, when accessed via an instance, it's typically recommended to access them through the class name to make it clear that you're referring to a class attribute.\n",
    "\n",
    "One class attribute that we might need here is for example a multiplier of the number of hands that have to be played. So we want to define such a class attribute in order to control all the instances"
   ]
  },
  {
   "cell_type": "code",
   "execution_count": 19,
   "metadata": {},
   "outputs": [],
   "source": [
    "class pokerGame:\n",
    "\n",
    "    game_rate = 0.2   # this is just to see how a class attribute works\n",
    "\n",
    "    def __init__(self,\n",
    "                 numberOfGames = 1,\n",
    "                 numberOfHands = 10,\n",
    "                 numberOfPlayers = 2,\n",
    "                 name = \"Game\"):\n",
    "        \n",
    "        assert numberOfGames >= 1, f\"Minimum numberOfGames >= 1, Current: {numberOfGames}\"\n",
    "        assert numberOfHands >= 1, f\"Minimum numberOfHands >= 1, Current: {numberOfHands}\"\n",
    "        assert numberOfPlayers >= 2, f\"Minimum numberOfPlayers >= 2, Current: {numberOfPlayers}\"\n",
    "        \n",
    "        self.numberOfGames = numberOfGames\n",
    "        self.numberOfHands = numberOfHands\n",
    "        self.numberOfPlayers = numberOfPlayers\n",
    "        self.name = name\n",
    "    \n",
    "    def totalNumberOfGames(self):\n",
    "        return self.numberOfGames * self.numberOfHands\n",
    "     "
   ]
  },
  {
   "cell_type": "code",
   "execution_count": 21,
   "metadata": {},
   "outputs": [
    {
     "data": {
      "text/plain": [
       "0.2"
      ]
     },
     "execution_count": 21,
     "metadata": {},
     "output_type": "execute_result"
    }
   ],
   "source": [
    "# I can access the class itself like this\n",
    "\n",
    "pokerGame.game_rate"
   ]
  },
  {
   "cell_type": "markdown",
   "metadata": {},
   "source": [
    "Basically the instance tries to find the attribute in the instance level, if it cannot find it they will search for that in a class level."
   ]
  },
  {
   "cell_type": "code",
   "execution_count": 20,
   "metadata": {},
   "outputs": [
    {
     "data": {
      "text/plain": [
       "0.2"
      ]
     },
     "execution_count": 20,
     "metadata": {},
     "output_type": "execute_result"
    }
   ],
   "source": [
    "# Or i can access it form the instace level\n",
    "game5 = pokerGame(5,20, 4)\n",
    "\n",
    "game5.game_rate"
   ]
  },
  {
   "cell_type": "markdown",
   "metadata": {},
   "source": [
    "We can visualize all the attributes that are part of an instance using the `__dict__` macig method.\n",
    "I can do this at a class level and at an instance level.\n",
    "\n",
    "*This can be very usefull for debuggind reasons as i cann see all the attributes pertaining an object*"
   ]
  },
  {
   "cell_type": "code",
   "execution_count": 21,
   "metadata": {},
   "outputs": [
    {
     "name": "stdout",
     "output_type": "stream",
     "text": [
      "{'__module__': '__main__', 'game_rate': 0.2, '__init__': <function pokerGame.__init__ at 0x000001FE9FB7CCC0>, 'totalNumberOfGames': <function pokerGame.totalNumberOfGames at 0x000001FE9FB7D120>, '__dict__': <attribute '__dict__' of 'pokerGame' objects>, '__weakref__': <attribute '__weakref__' of 'pokerGame' objects>, '__doc__': None}\n",
      "{'numberOfGames': 5, 'numberOfHands': 20, 'numberOfPlayers': 4, 'name': 'Game'}\n"
     ]
    }
   ],
   "source": [
    "print(pokerGame.__dict__)   # this will give me the attributes at a class level\n",
    "print(game5.__dict__)       # this will do the same but at an instance level"
   ]
  },
  {
   "cell_type": "markdown",
   "metadata": {},
   "source": [
    "Let's add the class parameter to a method in order to ovveride the numer of games for our simulationm"
   ]
  },
  {
   "cell_type": "code",
   "execution_count": 22,
   "metadata": {},
   "outputs": [],
   "source": [
    "class pokerGame:\n",
    "\n",
    "    game_rate = 0.2   # this is just to see how a class attribute works\n",
    "\n",
    "    def __init__(self,\n",
    "                 numberOfGames = 1,\n",
    "                 numberOfHands = 10,\n",
    "                 numberOfPlayers = 2,\n",
    "                 name = \"Game\"):\n",
    "        \n",
    "        assert numberOfGames >= 1, f\"Minimum numberOfGames >= 1, Current: {numberOfGames}\"\n",
    "        assert numberOfHands >= 1, f\"Minimum numberOfHands >= 1, Current: {numberOfHands}\"\n",
    "        assert numberOfPlayers >= 2, f\"Minimum numberOfPlayers >= 2, Current: {numberOfPlayers}\"\n",
    "        \n",
    "        self.numberOfGames = numberOfGames\n",
    "        self.numberOfHands = numberOfHands\n",
    "        self.numberOfPlayers = numberOfPlayers\n",
    "        self.name = name\n",
    "    \n",
    "    def totalNumberOfGames(self):\n",
    "        return self.numberOfGames * self.numberOfHands\n",
    "    \n",
    "    def reduceNumberOfGames(self):\n",
    "        self.numberOfGames = self.numberOfGames * (1 - pokerGame.game_rate)\n",
    "     "
   ]
  },
  {
   "cell_type": "code",
   "execution_count": 23,
   "metadata": {},
   "outputs": [
    {
     "data": {
      "text/plain": [
       "8.0"
      ]
     },
     "execution_count": 23,
     "metadata": {},
     "output_type": "execute_result"
    }
   ],
   "source": [
    "game5 = pokerGame(10, 100, 4)\n",
    "\n",
    "game5.reduceNumberOfGames()\n",
    "game5.numberOfGames"
   ]
  },
  {
   "cell_type": "markdown",
   "metadata": {},
   "source": [
    "Of course we can assign the same attribute to one of our instances in case we want to assign a different valu to the game_rate varible. Let's see how to do this.\n",
    "\n",
    "\n",
    "I have two instances game4 and game5 and one of them will have a game_rate of 0.8 and the other a game_rate of say 0.4 but i have to keep in mind that i have assigned a class attribute of 0.8 to all my instances\n",
    "\n",
    "To effectively change the code i have to assign an attribute of the same name  (game_rate ) to my game4 instance"
   ]
  },
  {
   "cell_type": "code",
   "execution_count": null,
   "metadata": {},
   "outputs": [
    {
     "name": "stdout",
     "output_type": "stream",
     "text": [
      "\n",
      "Instance attribute : 0.4\n",
      "Class attribute: 0.2\n",
      "\n"
     ]
    }
   ],
   "source": [
    "game4 = pokerGame(20, 90, 3)\n",
    "\n",
    "game4.game_rate = 0.4  # here by assigning an attribute with the same name to the instance i bacisally overwrite the class attribute\n",
    "\n",
    "print(f\"\"\"\n",
    "Instance attribute : {game4.game_rate}\n",
    "Class attribute: {pokerGame.game_rate}\n",
    "\"\"\")\n",
    "\n"
   ]
  },
  {
   "cell_type": "code",
   "execution_count": 25,
   "metadata": {},
   "outputs": [
    {
     "data": {
      "text/plain": [
       "16.0"
      ]
     },
     "execution_count": 25,
     "metadata": {},
     "output_type": "execute_result"
    }
   ],
   "source": [
    "# i now apply the method with reduced vlues of game_rate and the result should be\n",
    "# that the game_rate should be equal to 0.4\n",
    "\n",
    "game4.reduceNumberOfGames()\n",
    "game4.numberOfGames"
   ]
  },
  {
   "cell_type": "markdown",
   "metadata": {},
   "source": [
    "As we can see it is still appling the 0.2 game_rate this is due of how we defines our method to reduce the gameNumber. This is because I am accesing the game_rate at an instance level but in the instance I have a reference to the class attribute game_rate =  0.4. It get the class attribute as i have `pokerGame.game_rate` attribute in the instance. To avoid this behaviour we should reference the instance itself in the method by replacing **pokerGame.game_rate** with **self.game_rate**, this should give us the certainity of applying the correct attribute to the instance"
   ]
  },
  {
   "cell_type": "code",
   "execution_count": 26,
   "metadata": {},
   "outputs": [],
   "source": [
    "class pokerGame:\n",
    "\n",
    "    game_rate = 0.2   # this is just to see how a class attribute works\n",
    "\n",
    "    def __init__(self,\n",
    "                 numberOfGames = 1,\n",
    "                 numberOfHands = 10,\n",
    "                 numberOfPlayers = 2,\n",
    "                 name = \"Game\"):\n",
    "        \n",
    "        assert numberOfGames >= 1, f\"Minimum numberOfGames >= 1, Current: {numberOfGames}\"\n",
    "        assert numberOfHands >= 1, f\"Minimum numberOfHands >= 1, Current: {numberOfHands}\"\n",
    "        assert numberOfPlayers >= 2, f\"Minimum numberOfPlayers >= 2, Current: {numberOfPlayers}\"\n",
    "        \n",
    "        self.numberOfGames = numberOfGames\n",
    "        self.numberOfHands = numberOfHands\n",
    "        self.numberOfPlayers = numberOfPlayers\n",
    "        self.name = name\n",
    "    \n",
    "    def totalNumberOfGames(self):\n",
    "        return self.numberOfGames * self.numberOfHands\n",
    "    \n",
    "    def reduceNumberOfGames(self):\n",
    "        self.numberOfGames = self.numberOfGames * (1 - self.game_rate) # wE made the change here, it wad pokergame.game_rate now it is self.game_rate\n",
    "        # this is really simple if if finds a game rate defined on an instance level it will use it, instead if it does not find it it will use a class level parameter!!!\n",
    "        \n",
    "     "
   ]
  },
  {
   "cell_type": "code",
   "execution_count": 27,
   "metadata": {},
   "outputs": [
    {
     "data": {
      "text/plain": [
       "20"
      ]
     },
     "execution_count": 27,
     "metadata": {},
     "output_type": "execute_result"
    }
   ],
   "source": [
    "game6 = pokerGame(20,50,10)\n",
    "game6.game_rate = 0.4\n",
    "\n",
    "game6.numberOfGames"
   ]
  },
  {
   "cell_type": "code",
   "execution_count": 28,
   "metadata": {},
   "outputs": [],
   "source": [
    "# Let's apply the game_rate to game6 and compare it to game4\n",
    "\n",
    "game6.reduceNumberOfGames()"
   ]
  },
  {
   "cell_type": "code",
   "execution_count": 29,
   "metadata": {},
   "outputs": [
    {
     "data": {
      "text/plain": [
       "12.0"
      ]
     },
     "execution_count": 29,
     "metadata": {},
     "output_type": "execute_result"
    }
   ],
   "source": [
    "# now it correctly reduces the number of game by 40% from 20 to 12.\n",
    "game6.numberOfGames\n"
   ]
  },
  {
   "cell_type": "markdown",
   "metadata": {},
   "source": [
    "Let's say that we want to create a list of all our objects created up to now. WE can do this by creating a class attribute that is going to store all this information for us. \n",
    "\n",
    "We have to keep in mind that the `__init__` function/method is executed everythim we create an instance, so if we want to add an object/instance to a list to keep track of the object we might want ot add a function inside the `__init__` method that does that in order to allow us to retrieve this inforamtion later on."
   ]
  },
  {
   "cell_type": "code",
   "execution_count": 30,
   "metadata": {},
   "outputs": [],
   "source": [
    "class pokerGame:\n",
    "    \n",
    "    # We decide a game rate\n",
    "    \n",
    "    game_rate = 0.2   # this is just to see how a class attribute works\n",
    "    \n",
    "    # Here we can create an \"all lsit that will store the inforamtions about our crated instances\"\n",
    "\n",
    "    all = []\n",
    "\n",
    "    # Definition of the attributes of our instances\n",
    "    \n",
    "    def __init__(self,\n",
    "                 numberOfGames = 1,\n",
    "                 numberOfHands = 10,\n",
    "                 numberOfPlayers = 2,\n",
    "                 name = \"Game\"):\n",
    "        \n",
    "    # Data validation of the input\n",
    "    \n",
    "        assert numberOfGames >= 1, f\"Minimum numberOfGames >= 1, Current: {numberOfGames}\"\n",
    "        assert numberOfHands >= 1, f\"Minimum numberOfHands >= 1, Current: {numberOfHands}\"\n",
    "        assert numberOfPlayers >= 2, f\"Minimum numberOfPlayers >= 2, Current: {numberOfPlayers}\"\n",
    "        \n",
    "    # Assignation of the arguments to self\n",
    "    \n",
    "        self.numberOfGames = numberOfGames\n",
    "        self.numberOfHands = numberOfHands\n",
    "        self.numberOfPlayers = numberOfPlayers\n",
    "        self.name = name\n",
    "    \n",
    "    # We can append whatever inforamtion we want from our object to the new list\n",
    "    \n",
    "\n",
    "    # all.append(self.name)   this will not work because we won't be able to locate \"all\", we have to specify the class as well\n",
    "    # the code below should work as now \"all\" is clearly identified by also referencing the class\n",
    "        \n",
    "        if self.name not in pokerGame.all:    # Check if the name is already in the list\n",
    "\n",
    "            pokerGame.all.append(self.name)\n",
    "\n",
    "\n",
    "    # Methods\n",
    "\n",
    "    def totalNumberOfGames(self):\n",
    "        return self.numberOfGames * self.numberOfHands\n",
    "    \n",
    "    def reduceNumberOfGames(self):\n",
    "        self.numberOfGames = self.numberOfGames * (1 - self.game_rate)\n",
    "     "
   ]
  },
  {
   "cell_type": "code",
   "execution_count": 31,
   "metadata": {},
   "outputs": [],
   "source": [
    "game1 = pokerGame(1,100,3,\"Game1\")\n",
    "game2 = pokerGame(4,200,4,\"Game2\")\n",
    "game3 = pokerGame(6,90,4,\"Game3\")\n",
    "game4 = pokerGame(3,70,2,\"Game4\")\n",
    "game5 = pokerGame(3,100,5,\"Game5\")\n",
    "game6 = pokerGame(2,50,5,\"Game6\")"
   ]
  },
  {
   "cell_type": "markdown",
   "metadata": {},
   "source": [
    "Now if we try to retrive the \"all\" list it is just necessary to reference the class. But instead of just retreiving the instance name and adding it into the \"All\" list we can extract all the instance!!"
   ]
  },
  {
   "cell_type": "code",
   "execution_count": 32,
   "metadata": {},
   "outputs": [
    {
     "data": {
      "text/plain": [
       "['Game1', 'Game2', 'Game3', 'Game4', 'Game5', 'Game6']"
      ]
     },
     "execution_count": 32,
     "metadata": {},
     "output_type": "execute_result"
    }
   ],
   "source": [
    "pokerGame.all"
   ]
  },
  {
   "cell_type": "code",
   "execution_count": 33,
   "metadata": {},
   "outputs": [],
   "source": [
    "class pokerGame:\n",
    "    \n",
    "    # We decide a game rate\n",
    "    \n",
    "    game_rate = 0.2   # this is just to see how a class attribute works\n",
    "    \n",
    "    # Here we can create an \"all lsit that will store the inforamtions about our crated instances\"\n",
    "\n",
    "    all = []\n",
    "\n",
    "    # Definition of the attributes of our instances\n",
    "    \n",
    "    def __init__(self,\n",
    "                 numberOfGames = 1,\n",
    "                 numberOfHands = 10,\n",
    "                 numberOfPlayers = 2,\n",
    "                 name = \"Game\"):\n",
    "        \n",
    "    # Data validation of the input\n",
    "    \n",
    "        assert numberOfGames >= 1, f\"Minimum numberOfGames >= 1, Current: {numberOfGames}\"\n",
    "        assert numberOfHands >= 1, f\"Minimum numberOfHands >= 1, Current: {numberOfHands}\"\n",
    "        assert numberOfPlayers >= 2, f\"Minimum numberOfPlayers >= 2, Current: {numberOfPlayers}\"\n",
    "        \n",
    "    # Assignation of the arguments to self\n",
    "    \n",
    "        self.numberOfGames = numberOfGames\n",
    "        self.numberOfHands = numberOfHands\n",
    "        self.numberOfPlayers = numberOfPlayers\n",
    "        self.name = name\n",
    "    \n",
    "    # We can append whatever inforamtion we want from our object to the new list\n",
    "    \n",
    "\n",
    "   # WE can extract all the INSTANCE instead of just the name\n",
    "        \n",
    "        if self not in pokerGame.all:    # Check if the name is already in the list\n",
    "\n",
    "            pokerGame.all.append(self)\n",
    "\n",
    "\n",
    "    # Methods\n",
    "\n",
    "    def totalNumberOfGames(self):\n",
    "        return self.numberOfGames * self.numberOfHands\n",
    "    \n",
    "    def reduceNumberOfGames(self):\n",
    "        self.numberOfGames = self.numberOfGames * (1 - self.game_rate)\n",
    "     "
   ]
  },
  {
   "cell_type": "code",
   "execution_count": 36,
   "metadata": {},
   "outputs": [],
   "source": [
    "game1 = pokerGame(1,100,3,\"Game1\")\n",
    "game2 = pokerGame(4,200,4,\"Game2\")\n",
    "game3 = pokerGame(6,90,4,\"Game3\")\n",
    "game4 = pokerGame(3,70,2,\"Game4\")\n",
    "game5 = pokerGame(3,100,5,\"Game5\")\n",
    "game6 = pokerGame(2,50,5,\"Game6\")"
   ]
  },
  {
   "cell_type": "code",
   "execution_count": 37,
   "metadata": {},
   "outputs": [
    {
     "data": {
      "text/plain": [
       "[<__main__.pokerGame at 0x1a59d422150>,\n",
       " <__main__.pokerGame at 0x1a59d421950>,\n",
       " <__main__.pokerGame at 0x1a5b42f1550>,\n",
       " <__main__.pokerGame at 0x1a5b3d01c50>,\n",
       " <__main__.pokerGame at 0x1a5b3c653d0>,\n",
       " <__main__.pokerGame at 0x1a5b3d0b790>]"
      ]
     },
     "execution_count": 37,
     "metadata": {},
     "output_type": "execute_result"
    }
   ],
   "source": [
    "# as we can see right now we are showing the instances instead of just the names\n",
    "pokerGame.all"
   ]
  },
  {
   "cell_type": "markdown",
   "metadata": {},
   "source": [
    "If we want let's say a particular attribute from the list we can just use a for loop"
   ]
  },
  {
   "cell_type": "code",
   "execution_count": 38,
   "metadata": {},
   "outputs": [
    {
     "name": "stdout",
     "output_type": "stream",
     "text": [
      "The name of the instance is: Game1\n",
      "The name of the instance is: Game2\n",
      "The name of the instance is: Game3\n",
      "The name of the instance is: Game4\n",
      "The name of the instance is: Game5\n",
      "The name of the instance is: Game6\n"
     ]
    }
   ],
   "source": [
    "for instance in pokerGame.all:\n",
    "    print(f\"The name of the instance is: {instance.name}\")"
   ]
  },
  {
   "cell_type": "markdown",
   "metadata": {},
   "source": [
    "The one thing that is not optimal is the way the instances are represented in the all list. The output is not readable though it is representative of our instances. To make the output more readable we can use the `__repr__` magic method that allows us to choose the way in which our instances will be represented"
   ]
  },
  {
   "cell_type": "code",
   "execution_count": 34,
   "metadata": {},
   "outputs": [],
   "source": [
    "class pokerGame:\n",
    "    \n",
    "    # We decide a game rate\n",
    "    \n",
    "    game_rate = 0.2   # this is just to see how a class attribute works\n",
    "    \n",
    "    # Here we can create an \"all lsit that will store the inforamtions about our crated instances\"\n",
    "\n",
    "    all = []\n",
    "\n",
    "    # Definition of the attributes of our instances\n",
    "    \n",
    "    def __init__(self,\n",
    "                 numberOfGames = 1,\n",
    "                 numberOfHands = 10,\n",
    "                 numberOfPlayers = 2,\n",
    "                 name = \"Game\"):\n",
    "        \n",
    "    # Data validation of the input\n",
    "    \n",
    "        assert numberOfGames >= 1, f\"Minimum numberOfGames >= 1, Current: {numberOfGames}\"\n",
    "        assert numberOfHands >= 1, f\"Minimum numberOfHands >= 1, Current: {numberOfHands}\"\n",
    "        assert numberOfPlayers >= 2, f\"Minimum numberOfPlayers >= 2, Current: {numberOfPlayers}\"\n",
    "        \n",
    "    # Assignation of the arguments to self\n",
    "    \n",
    "        self.numberOfGames = numberOfGames\n",
    "        self.numberOfHands = numberOfHands\n",
    "        self.numberOfPlayers = numberOfPlayers\n",
    "        self.name = name\n",
    "    \n",
    "    # We can append whatever inforamtion we want from our object to the new list\n",
    "    \n",
    "\n",
    "   # WE can extract all the INSTANCE instead of just the name\n",
    "        \n",
    "        if self not in pokerGame.all:    # Check if the name is already in the list\n",
    "\n",
    "            pokerGame.all.append(self)\n",
    "\n",
    "\n",
    "    # Methods\n",
    "\n",
    "    def totalNumberOfGames(self):\n",
    "        return self.numberOfGames * self.numberOfHands\n",
    "    \n",
    "    def reduceNumberOfGames(self):\n",
    "        self.numberOfGames = self.numberOfGames * (1 - self.game_rate)\n",
    "    \n",
    "    # it is ggood practive to prepresent the instances the same way they are created!!!!\n",
    "    # for example game1 = pokerGame(1,100,3,\"Game1\")\n",
    "    \n",
    "    def __repr__(self):\n",
    "        return f\"pokerGame({self.numberOfGames},{self.numberOfHands}, {self.numberOfPlayers}, '{self.name}')\""
   ]
  },
  {
   "cell_type": "code",
   "execution_count": 35,
   "metadata": {},
   "outputs": [],
   "source": [
    "game1 = pokerGame(1,100,3,\"Game1\")\n",
    "game2 = pokerGame(4,200,4,\"Game2\")\n",
    "game3 = pokerGame(6,90,4,\"Game3\")\n",
    "game4 = pokerGame(3,70,2,\"Game4\")\n",
    "game5 = pokerGame(3,100,5,\"Game5\")\n",
    "game6 = pokerGame(2,50,5,\"Game6\")"
   ]
  },
  {
   "cell_type": "code",
   "execution_count": 36,
   "metadata": {},
   "outputs": [
    {
     "data": {
      "text/plain": [
       "[pokerGame(1,100, 3, 'Game1'),\n",
       " pokerGame(4,200, 4, 'Game2'),\n",
       " pokerGame(6,90, 4, 'Game3'),\n",
       " pokerGame(3,70, 2, 'Game4'),\n",
       " pokerGame(3,100, 5, 'Game5'),\n",
       " pokerGame(2,50, 5, 'Game6')]"
      ]
     },
     "execution_count": 36,
     "metadata": {},
     "output_type": "execute_result"
    }
   ],
   "source": [
    "# as we can see now the output is much more readable\n",
    "pokerGame.all"
   ]
  },
  {
   "cell_type": "code",
   "execution_count": 37,
   "metadata": {},
   "outputs": [],
   "source": [
    "import polars as pl"
   ]
  },
  {
   "cell_type": "markdown",
   "metadata": {},
   "source": [
    "We added the list of our poker games that we have just saved to the csv file to a polars dataframe just in case we want to do something with it in the future"
   ]
  },
  {
   "cell_type": "code",
   "execution_count": 38,
   "metadata": {},
   "outputs": [
    {
     "data": {
      "text/plain": [
       "'c:\\\\Users\\\\jakub\\\\OneDrive\\\\Jakub.Personal\\\\02.Python\\\\02.Object-Oriented-Programming\\\\Basics'"
      ]
     },
     "execution_count": 38,
     "metadata": {},
     "output_type": "execute_result"
    }
   ],
   "source": [
    "os.getcwd()   # get the current work directory \n",
    "# os.chdir()  # set the current work direcotory\n"
   ]
  },
  {
   "cell_type": "code",
   "execution_count": 39,
   "metadata": {},
   "outputs": [
    {
     "data": {
      "text/html": [
       "<div><style>\n",
       ".dataframe > thead > tr,\n",
       ".dataframe > tbody > tr {\n",
       "  text-align: right;\n",
       "  white-space: pre-wrap;\n",
       "}\n",
       "</style>\n",
       "<small>shape: (8, 4)</small><table border=\"1\" class=\"dataframe\"><thead><tr><th>column_1</th><th>column_2</th><th>column_3</th><th>column_4</th></tr><tr><td>str</td><td>str</td><td>str</td><td>str</td></tr></thead><tbody><tr><td>&quot;numberOfGames&quot;</td><td>&quot;numberOfHands&quot;</td><td>&quot;numberOfPlayers&quot;</td><td>&quot;name&quot;</td></tr><tr><td>&quot;1&quot;</td><td>&quot;100&quot;</td><td>&quot;3&quot;</td><td>&quot;&#x27;Game1&#x27; &quot;</td></tr><tr><td>&quot;4&quot;</td><td>&quot;200&quot;</td><td>&quot;4&quot;</td><td>&quot;&#x27;Game2&#x27;&quot;</td></tr><tr><td>&quot;6.2&quot;</td><td>&quot;90&quot;</td><td>&quot;4&quot;</td><td>&quot;&#x27;Game3&#x27;&quot;</td></tr><tr><td>&quot;3.0&quot;</td><td>&quot;70&quot;</td><td>&quot;2&quot;</td><td>&quot;&#x27;Game4&#x27;&quot;</td></tr><tr><td>&quot;3&quot;</td><td>&quot;100&quot;</td><td>&quot;5&quot;</td><td>&quot;&#x27;Game5&#x27;&quot;</td></tr><tr><td>&quot;2&quot;</td><td>&quot;50&quot;</td><td>&quot;5&quot;</td><td>&quot;&#x27;Game6&#x27;&quot;</td></tr><tr><td>&quot;2.8&quot;</td><td>&quot;75&quot;</td><td>&quot;3&quot;</td><td>&quot;&#x27;Game7&#x27;&quot;</td></tr></tbody></table></div>"
      ],
      "text/plain": [
       "shape: (8, 4)\n",
       "┌───────────────┬───────────────┬─────────────────┬──────────┐\n",
       "│ column_1      ┆ column_2      ┆ column_3        ┆ column_4 │\n",
       "│ ---           ┆ ---           ┆ ---             ┆ ---      │\n",
       "│ str           ┆ str           ┆ str             ┆ str      │\n",
       "╞═══════════════╪═══════════════╪═════════════════╪══════════╡\n",
       "│ numberOfGames ┆ numberOfHands ┆ numberOfPlayers ┆ name     │\n",
       "│ 1             ┆ 100           ┆ 3               ┆ 'Game1'  │\n",
       "│ 4             ┆ 200           ┆ 4               ┆ 'Game2'  │\n",
       "│ 6.2           ┆ 90            ┆ 4               ┆ 'Game3'  │\n",
       "│ 3.0           ┆ 70            ┆ 2               ┆ 'Game4'  │\n",
       "│ 3             ┆ 100           ┆ 5               ┆ 'Game5'  │\n",
       "│ 2             ┆ 50            ┆ 5               ┆ 'Game6'  │\n",
       "│ 2.8           ┆ 75            ┆ 3               ┆ 'Game7'  │\n",
       "└───────────────┴───────────────┴─────────────────┴──────────┘"
      ]
     },
     "execution_count": 39,
     "metadata": {},
     "output_type": "execute_result"
    }
   ],
   "source": [
    "#csv_file = r\"C:\\Users\\jakub\\OneDrive\\Jakub.Personal\\02.Python\\02.Object-Oriented-Programming\"\n",
    "\n",
    "pl.read_csv(os.path.join(os.getcwd(), \"pokerGames.csv\"), has_header= False)"
   ]
  },
  {
   "cell_type": "markdown",
   "metadata": {},
   "source": [
    "we can now create a method that will allow us to instaciate the instances from the csv files. To do this we have to create a `class method` as it would make no sense to create such a method inside an instance, that is because we want to instanciate those instances and so they are not there\n",
    "\n",
    "To create a `class method` we have to use a `decotator`"
   ]
  },
  {
   "cell_type": "code",
   "execution_count": 40,
   "metadata": {},
   "outputs": [],
   "source": [
    "\n",
    "class pokerGame:\n",
    "    \n",
    "    # We decide a game rate\n",
    "    \n",
    "    game_rate = 0.2   # this is just to see how a class attribute works\n",
    "    \n",
    "    # Here we can create an \"all lsit that will store the inforamtions about our crated instances\"\n",
    "\n",
    "    all = []\n",
    "\n",
    "    # Definition of the attributes of our instances\n",
    "    \n",
    "    def __init__(self,\n",
    "                 numberOfGames = 1,\n",
    "                 numberOfHands = 10,\n",
    "                 numberOfPlayers = 2,\n",
    "                 name = \"Game\"):\n",
    "        \n",
    "    # Data validation of the input\n",
    "    \n",
    "        assert numberOfGames >= 1, f\"Minimum numberOfGames >= 1, Current: {numberOfGames}\"\n",
    "        assert numberOfHands >= 1, f\"Minimum numberOfHands >= 1, Current: {numberOfHands}\"\n",
    "        assert numberOfPlayers >= 2, f\"Minimum numberOfPlayers >= 2, Current: {numberOfPlayers}\"\n",
    "        \n",
    "    # Assignation of the arguments to self\n",
    "    \n",
    "        self.numberOfGames = numberOfGames\n",
    "        self.numberOfHands = numberOfHands\n",
    "        self.numberOfPlayers = numberOfPlayers\n",
    "        self.name = name\n",
    "    \n",
    "    # We can append whatever inforamtion we want from our object to the new list\n",
    "    \n",
    "\n",
    "   # WE can extract all the INSTANCE instead of just the name\n",
    "        \n",
    "        if self not in pokerGame.all:    # Check if the name is already in the list\n",
    "\n",
    "            pokerGame.all.append(self)\n",
    "\n",
    "\n",
    "    # Methods\n",
    "\n",
    "    def totalNumberOfGames(self):\n",
    "        return self.numberOfGames * self.numberOfHands\n",
    "    \n",
    "    def reduceNumberOfGames(self):\n",
    "        self.numberOfGames = self.numberOfGames * (1 - self.game_rate)\n",
    "    \n",
    "    @classmethod\n",
    "    def instance_iterator_csv(cls, file):\n",
    "        with open(file, 'r') as f:\n",
    "            reader = csv.DictReader(f)\n",
    "            items = list(reader)\n",
    "\n",
    "        for item in items:\n",
    "\n",
    "            existing_instance = next(\n",
    "                (instance for instance in cls.all if instance.name == item.get(\"name\")), None)\n",
    "            \n",
    "            if existing_instance is None:\n",
    "                \n",
    "                pokerGame(                \n",
    "                float(item.get(\"numberOfGames\")),\n",
    "                int(item.get(\"numberOfHands\")),\n",
    "                int(item.get(\"numberOfPlayers\")),\n",
    "                str(item.get(\"name\"))\n",
    "\n",
    "            )\n",
    "\n",
    "\n",
    "     # We could have done it using a dataframe as well but in this situation the other appriac seems better   \n",
    "        #with open(\"pokerGames.csv\", \"r\") as f:\n",
    "        #    df = pl.read_csv(\"f\")\n",
    "        #    for column in df.col():\n",
    "        #        for row in df.rows():\n",
    "\n",
    "\n",
    "    # Let's create a method \n",
    "\n",
    "    # it is ggood practive to prepresent the instances the same way they are created!!!!\n",
    "    # for example game1 = pokerGame(1,100,3,\"Game1\")\n",
    "    \n",
    "    def __repr__(self):\n",
    "        return f\"pokerGame({self.numberOfGames},{self.numberOfHands}, {self.numberOfPlayers}, '{self.name}')\"\n",
    "    \n"
   ]
  },
  {
   "cell_type": "code",
   "execution_count": 41,
   "metadata": {},
   "outputs": [
    {
     "data": {
      "text/plain": [
       "[pokerGame(1.0,100, 3, ''Game1' '),\n",
       " pokerGame(4.0,200, 4, ''Game2''),\n",
       " pokerGame(6.2,90, 4, ''Game3''),\n",
       " pokerGame(3.0,70, 2, ''Game4''),\n",
       " pokerGame(3.0,100, 5, ''Game5''),\n",
       " pokerGame(2.0,50, 5, ''Game6''),\n",
       " pokerGame(2.8,75, 3, ''Game7'')]"
      ]
     },
     "execution_count": 41,
     "metadata": {},
     "output_type": "execute_result"
    }
   ],
   "source": [
    "file = \"pokerGames.csv\"\n",
    "\n",
    "pokerGame.instance_iterator_csv(file)\n",
    "\n",
    "pokerGame.all\n",
    "\n"
   ]
  },
  {
   "cell_type": "code",
   "execution_count": 44,
   "metadata": {},
   "outputs": [
    {
     "name": "stdout",
     "output_type": "stream",
     "text": [
      "2\n"
     ]
    }
   ],
   "source": [
    "numbers = [1, 2, 3, 4, 5]\n",
    "\n",
    "# Using next to get the next item from the list\n",
    "next_number = next((number for number in numbers if number != 1), None)\n",
    "print(next_number)  # Output: 1\n"
   ]
  },
  {
   "cell_type": "code",
   "execution_count": 45,
   "metadata": {},
   "outputs": [],
   "source": [
    "# Creating an iterator\n",
    "my_iterator = iter([1, 2, 3, 4, 5])"
   ]
  },
  {
   "cell_type": "code",
   "execution_count": 58,
   "metadata": {},
   "outputs": [
    {
     "data": {
      "text/plain": [
       "[None]"
      ]
     },
     "execution_count": 58,
     "metadata": {},
     "output_type": "execute_result"
    }
   ],
   "source": [
    "\n",
    "\n",
    "collected_items = []\n",
    "\n",
    "collected_items.append(next(my_iterator,None))\n",
    "\n",
    "collected_items\n"
   ]
  },
  {
   "cell_type": "markdown",
   "metadata": {},
   "source": [
    "### next() Function\n",
    "The `next() function`` is used to retrieve the next item from an iterable.  \n",
    "It takes two arguments:\n",
    "* **iterable** to extract from \n",
    "* **default** value to return if the iterable is exhausted.\n",
    "\n",
    "Syntax:\n",
    "\n",
    "`next(iterable, default)`\n",
    "\n",
    "\n",
    "* iterable: The iterable from which to retrieve the next item.\n",
    "* default: An optional argument specifying the value to be returned if the iterable is exhausted.\n",
    "\n",
    "Example:\n",
    "\n",
    "#### Example using a list\n",
    "`\n",
    "numbers = [1, 2, 3, 4, 5]\n",
    "iterator = iter(numbers)\n",
    "`\n",
    "#### Retrieve the next item from the iterator\n",
    "`next_number = next(iterator, None)\n",
    "print(next_number)  # Output: 1`\n",
    "\n",
    "\n",
    "In this example, next() is used to get the first element from the iterator iterator. The second argument, None, is the default value returned if the iterator is exhausted."
   ]
  },
  {
   "cell_type": "markdown",
   "metadata": {},
   "source": [
    "Let's add a static method, they are different from the class methos even thoug they look alike"
   ]
  },
  {
   "cell_type": "code",
   "execution_count": 59,
   "metadata": {},
   "outputs": [],
   "source": [
    "\n",
    "class pokerGame:\n",
    "    \n",
    "    # We decide a game rate\n",
    "    \n",
    "    game_rate = 0.2   # this is just to see how a class attribute works\n",
    "    \n",
    "    # Here we can create an \"all lsit that will store the inforamtions about our crated instances\"\n",
    "\n",
    "    all = []\n",
    "\n",
    "    # Definition of the attributes of our instances\n",
    "    \n",
    "    def __init__(self,\n",
    "                 numberOfGames = 1,\n",
    "                 numberOfHands = 10,\n",
    "                 numberOfPlayers = 2,\n",
    "                 name = \"Game\"):\n",
    "        \n",
    "    # Data validation of the input\n",
    "    \n",
    "        assert numberOfGames >= 1, f\"Minimum numberOfGames >= 1, Current: {numberOfGames}\"\n",
    "        assert numberOfHands >= 1, f\"Minimum numberOfHands >= 1, Current: {numberOfHands}\"\n",
    "        assert numberOfPlayers >= 2, f\"Minimum numberOfPlayers >= 2, Current: {numberOfPlayers}\"\n",
    "        \n",
    "    # Assignation of the arguments to self\n",
    "    \n",
    "        self.numberOfGames = numberOfGames\n",
    "        self.numberOfHands = numberOfHands\n",
    "        self.numberOfPlayers = numberOfPlayers\n",
    "        self.name = name\n",
    "    \n",
    "    # We can append whatever inforamtion we want from our object to the new list\n",
    "    \n",
    "\n",
    "   # WE can extract all the INSTANCE instead of just the name\n",
    "        \n",
    "        if self not in pokerGame.all:    # Check if the name is already in the list\n",
    "\n",
    "            pokerGame.all.append(self)\n",
    "\n",
    "\n",
    "    # Methods\n",
    "\n",
    "    def totalNumberOfGames(self):\n",
    "        return self.numberOfGames * self.numberOfHands\n",
    "    \n",
    "    def reduceNumberOfGames(self):\n",
    "        self.numberOfGames = self.numberOfGames * (1 - self.game_rate)\n",
    "    \n",
    "    @classmethod\n",
    "    def instance_iterator_csv(cls, file):\n",
    "        with open(file, 'r') as f:\n",
    "            reader = csv.DictReader(f)\n",
    "            items = list(reader)\n",
    "\n",
    "        for item in items:\n",
    "\n",
    "            existing_instance = next(\n",
    "                (instance for instance in cls.all if instance.name == item.get(\"name\")), None)\n",
    "            \n",
    "            if existing_instance is None:\n",
    "                \n",
    "                pokerGame(                \n",
    "                float(item.get(\"numberOfGames\")),\n",
    "                int(item.get(\"numberOfHands\")),\n",
    "                int(item.get(\"numberOfPlayers\")),\n",
    "                str(item.get(\"name\"))\n",
    "\n",
    "            )\n",
    "    # we are addding another method to check if the number is integer or float\n",
    "   \n",
    "    # STATIC METHODS DO NOT RECEIVE THE OBJECT AS THE FIRST PARAMETER, THEY WORK JUST LIKE REGULAR FUNCTIONS \n",
    "    # THUS IN ORDER TO USE THEM WE NEED TO PROVIDE A SET OF ARGUMENTS, IN FACT IF WE LOOK AT IT THE \"self\" ARGUMENT \n",
    "    # IS COLORED DARK BLUE AS UNLIKE OTHER METHODES DEFINED IN THE CLASS HERE WE ARE NOT PASSING THE SELF PARAMETER AUTOMATICALLY\n",
    "   \n",
    "    @staticmethod\n",
    "    def isInteger(num):  \n",
    "\n",
    "    # I cannopt use the self parameter\n",
    "    # We will count out the flaots that are point zero\n",
    "        \n",
    "        if isinstance(num, float):\n",
    "            return num.is_integer()\n",
    "        \n",
    "        elif isinstance(num, int):\n",
    "            return True\n",
    "        \n",
    "        else:\n",
    "            return False\n",
    "\n",
    "    # it is ggood practive to prepresent the instances the same way they are created!!!!\n",
    "    # for example game1 = pokerGame(1,100,3,\"Game1\")\n",
    "    \n",
    "    def __repr__(self):\n",
    "        return f\"pokerGame({self.numberOfGames},{self.numberOfHands}, {self.numberOfPlayers}, '{self.name}')\"\n",
    "    \n"
   ]
  },
  {
   "cell_type": "code",
   "execution_count": 60,
   "metadata": {},
   "outputs": [
    {
     "data": {
      "text/plain": [
       "[pokerGame(1.0,100, 3, ''Game1' '),\n",
       " pokerGame(4.0,200, 4, ''Game2''),\n",
       " pokerGame(6.2,90, 4, ''Game3''),\n",
       " pokerGame(3.0,70, 2, ''Game4''),\n",
       " pokerGame(3.0,100, 5, ''Game5''),\n",
       " pokerGame(2.0,50, 5, ''Game6''),\n",
       " pokerGame(2.8,75, 3, ''Game7'')]"
      ]
     },
     "execution_count": 60,
     "metadata": {},
     "output_type": "execute_result"
    }
   ],
   "source": [
    "file = \"pokerGames.csv\"\n",
    "\n",
    "pokerGame.instance_iterator_csv(file)\n",
    "\n",
    "pokerGame.all\n",
    "\n"
   ]
  },
  {
   "cell_type": "code",
   "execution_count": 61,
   "metadata": {},
   "outputs": [
    {
     "name": "stdout",
     "output_type": "stream",
     "text": [
      "False\n"
     ]
    }
   ],
   "source": [
    "print(pokerGame.isInteger(7.5))"
   ]
  },
  {
   "cell_type": "code",
   "execution_count": 62,
   "metadata": {},
   "outputs": [
    {
     "data": {
      "text/plain": [
       "True"
      ]
     },
     "execution_count": 62,
     "metadata": {},
     "output_type": "execute_result"
    }
   ],
   "source": [
    "7.0.is_integer()"
   ]
  },
  {
   "cell_type": "code",
   "execution_count": 63,
   "metadata": {},
   "outputs": [],
   "source": [
    "\n",
    "class pokerGame:\n",
    "    \n",
    "    # We decide a game rate\n",
    "    \n",
    "    game_rate = 0.2   # this is just to see how a class attribute works\n",
    "    \n",
    "    # Here we can create an \"all lsit that will store the inforamtions about our crated instances\"\n",
    "\n",
    "    all = []\n",
    "\n",
    "    # Definition of the attributes of our instances\n",
    "    \n",
    "    def __init__(self,\n",
    "                 numberOfGames = 1,\n",
    "                 numberOfHands = 10,\n",
    "                 numberOfPlayers = 2,\n",
    "                 name = \"Game\"):\n",
    "        \n",
    "    # Data validation of the input\n",
    "    \n",
    "        assert numberOfGames >= 1, f\"Minimum numberOfGames >= 1, Current: {numberOfGames}\"\n",
    "        assert numberOfHands >= 1, f\"Minimum numberOfHands >= 1, Current: {numberOfHands}\"\n",
    "        assert numberOfPlayers >= 2, f\"Minimum numberOfPlayers >= 2, Current: {numberOfPlayers}\"\n",
    "        \n",
    "    # Assignation of the arguments to self\n",
    "    \n",
    "        self.numberOfGames = numberOfGames\n",
    "        self.numberOfHands = numberOfHands\n",
    "        self.numberOfPlayers = numberOfPlayers\n",
    "        self.name = name\n",
    "    \n",
    "    # We can append whatever inforamtion we want from our object to the new list\n",
    "    \n",
    "\n",
    "   # WE can extract all the INSTANCE instead of just the name\n",
    "        \n",
    "        if self not in pokerGame.all:    # Check if the name is already in the list\n",
    "\n",
    "            pokerGame.all.append(self)\n",
    "\n",
    "\n",
    "    # Methods\n",
    "\n",
    "    def totalNumberOfGames(self):\n",
    "        return self.numberOfGames * self.numberOfHands\n",
    "    \n",
    "    def reduceNumberOfGames(self):\n",
    "        self.numberOfGames = self.numberOfGames * (1 - self.game_rate)\n",
    "    \n",
    "    @classmethod\n",
    "    def instance_iterator_csv(cls, file):\n",
    "        with open(file, 'r') as f:\n",
    "            reader = csv.DictReader(f)\n",
    "            items = list(reader)\n",
    "\n",
    "        for item in items:\n",
    "\n",
    "            existing_instance = next(\n",
    "                (instance for instance in cls.all if instance.name == item.get(\"name\")), None)\n",
    "            \n",
    "            if existing_instance is None:\n",
    "                \n",
    "                pokerGame(                \n",
    "                float(item.get(\"numberOfGames\")),\n",
    "                int(item.get(\"numberOfHands\")),\n",
    "                int(item.get(\"numberOfPlayers\")),\n",
    "                str(item.get(\"name\"))\n",
    "\n",
    "            )\n",
    "    # we are addding another method to check if the number is integer or float\n",
    "   \n",
    "    # STATIC METHODS DO NOT RECEIVE THE BJECT AS THE FIRST PARAMETER, THEY WORK JUST LIKE REGULAR FUNCTIONS \n",
    "    # THUS IN ORDER TO USE THEM WE NEED TO PROVIDE A SET OF ARGUMENTS, IN FACT IF WE LOOK AT IT THE \"self\" ARGUMENT \n",
    "    # IS COLORED DARK BLUE AS UNLIKE OTHER METHODES DEFINED IN THE CLASS HERE WE ARE NOT PASSING THE SELF PARAMETER AUTOMATICALLY\n",
    "   \n",
    "    @staticmethod\n",
    "    def is_integer(num):  \n",
    "\n",
    "    # I cannopt use the self parameter\n",
    "    # We will count out the flaots that are point zero\n",
    "        \n",
    "        if isinstance(num, float):\n",
    "            return num.is_integer()\n",
    "        \n",
    "        elif isinstance(num, int):\n",
    "            return True\n",
    "        \n",
    "        else:\n",
    "            return False\n",
    "\n",
    "    # it is ggood practive to prepresent the instances the same way they are created!!!!\n",
    "    # for example game1 = pokerGame(1,100,3,\"Game1\")\n",
    "    \n",
    "    def __repr__(self):\n",
    "        return f\"pokerGame({self.numberOfGames},{self.numberOfHands}, {self.numberOfPlayers}, '{self.name}')\"\n",
    "    \n"
   ]
  },
  {
   "cell_type": "code",
   "execution_count": 64,
   "metadata": {},
   "outputs": [],
   "source": [
    "class GameType(pokerGame):  # i specify the name od the class and the class from which i am inheriting\n",
    "    pass\n",
    "\n",
    "game1 = pokerGame(name = \"game1\")\n",
    "game1.type = 1\n",
    "game2 = pokerGame(name = \"game2\")\n",
    "game1.type = 0\n",
    "\n",
    "# We do not have a type attributes assigned to the class. \n",
    "# Moreover the attribute may not refer to all the instances but just some of them\n",
    "# So the best way to do this is to use A SEPARATED CLASS \n",
    "\n",
    "\n"
   ]
  },
  {
   "cell_type": "code",
   "execution_count": 65,
   "metadata": {},
   "outputs": [
    {
     "data": {
      "text/plain": [
       "__main__.GameType"
      ]
     },
     "execution_count": 65,
     "metadata": {},
     "output_type": "execute_result"
    }
   ],
   "source": [
    "# If now we instantiate the same items but for the new class we \n",
    "# should be fine as the othr class has inherited everything form thje previous one\n",
    "game1 = GameType(name = \"game1\")\n",
    "game1.type = 1\n",
    "game2 = GameType(name = \"game2\")\n",
    "game1.type = 0\n",
    "\n",
    "\n",
    "type(game1)"
   ]
  },
  {
   "cell_type": "markdown",
   "metadata": {},
   "source": [
    "**It is much better to create the constructor** for the new class instead of just assigning the attributes manually.\n",
    "\n",
    "For now let's just copy the code from the `parent class` as for now we are receiving the exact same patameters from that class \n",
    "\n",
    "Let's add some additional parameters , so the **type** of game taht we are playing ITALIAN or TEXAS HOLDE EM as they are the two most common ways, \"0\" for italian and \"1\" for Texas"
   ]
  },
  {
   "cell_type": "code",
   "execution_count": 66,
   "metadata": {},
   "outputs": [],
   "source": [
    "class GameType(pokerGame):\n",
    "    \n",
    "   \n",
    "    # We decide a game rate\n",
    "    \n",
    "    game_rate = 0.2   # this is just to see how a class attribute works\n",
    "    \n",
    "    # Here we can create an \"all lsit that will store the inforamtions about our crated instances\"\n",
    "\n",
    "    all = []\n",
    "\n",
    "    # Definition of the attributes of our instances\n",
    "    \n",
    "    def __init__(self,\n",
    "                 numberOfGames = 1,\n",
    "                 numberOfHands = 10,\n",
    "                 numberOfPlayers = 2,\n",
    "                 name = \"game\",\n",
    "                 type = 0):  # I added this parameter jsut ot underline the fact that this is another class\n",
    "        \n",
    "    # Data validation of the input\n",
    "    \n",
    "        assert numberOfGames >= 1, f\"Minimum numberOfGames >= 1, Current: {numberOfGames}\"\n",
    "        assert numberOfHands >= 1, f\"Minimum numberOfHands >= 1, Current: {numberOfHands}\"\n",
    "        assert numberOfPlayers >= 2, f\"Minimum numberOfPlayers >= 2, Current: {numberOfPlayers}\"\n",
    "        assert type <= 1, f\"Type is >1 : {numberOfPlayers}\"\n",
    "        \n",
    "    # Assignation of the arguments to self\n",
    "    \n",
    "        self.numberOfGames = numberOfGames\n",
    "        self.numberOfHands = numberOfHands\n",
    "        self.numberOfPlayers = numberOfPlayers\n",
    "        self.name = name\n",
    "        self.type = type\n",
    "    \n",
    "    # We can append whatever inforamtion we want from our object to the new list\n",
    "    \n",
    "\n",
    "   # WE can extract all the INSTANCE instead of just the name\n",
    "        \n",
    "        if self not in GameType.all:    # Check if the name is already in the list\n",
    "\n",
    "            GameType.all.append(self)\n"
   ]
  },
  {
   "cell_type": "markdown",
   "metadata": {},
   "source": [
    "I inherited all the attributes and the methods from the parent (super) class. "
   ]
  },
  {
   "cell_type": "code",
   "execution_count": 67,
   "metadata": {},
   "outputs": [
    {
     "data": {
      "text/plain": [
       "10"
      ]
     },
     "execution_count": 67,
     "metadata": {},
     "output_type": "execute_result"
    }
   ],
   "source": [
    "pokerGame4 = GameType(type = 1)\n",
    "pokerGame4.numberOfGames\n",
    "pokerGame4.totalNumberOfGames()"
   ]
  },
  {
   "cell_type": "markdown",
   "metadata": {},
   "source": [
    "This way of doing this is quite time consauming as we have everytiem to rename the class and\n",
    "copy the same code again and egain.\n",
    "\n",
    "If i were to delete all the lines of the old code an leave just the new ones i will get errors impeding me to run and initiate the new class , **check below**"
   ]
  },
  {
   "cell_type": "code",
   "execution_count": 68,
   "metadata": {},
   "outputs": [],
   "source": [
    "class GameType(pokerGame):\n",
    "    \n",
    "   \n",
    "    # We decide a game rate\n",
    "    \n",
    "    game_rate = 0.2   # this is just to see how a class attribute works\n",
    "    \n",
    "    # Here we can create an \"all lsit that will store the inforamtions about our crated instances\"\n",
    "\n",
    "    all = []\n",
    "\n",
    "    # Definition of the attributes of our instances\n",
    "    \n",
    "    def __init__(self,\n",
    "                 numberOfGames = 1,\n",
    "                 numberOfHands = 10,\n",
    "                 numberOfPlayers = 2,\n",
    "                 name = \"game\",\n",
    "                 type = 0):\n",
    "        \n",
    "    # Data validation of the input\n",
    "\n",
    "        #assert type >= 1, f\"Type is >1 : {type}\"\n",
    "        \n",
    "    # Assignation of the arguments to self\n",
    "\n",
    "        self.type = type\n",
    "    \n",
    "    # We can append whatever inforamtion we want from our object to the new list\n",
    "    \n",
    "\n",
    "   # WE can extract all the INSTANCE instead of just the name\n",
    "        \n",
    "        if self not in GameType.all:    # Check if the name is already in the list\n",
    "\n",
    "            GameType.all.append(self)\n"
   ]
  },
  {
   "cell_type": "markdown",
   "metadata": {},
   "source": [
    "If we remove now the parameters from the code it will not take them from the super class but it will fail to compile"
   ]
  },
  {
   "cell_type": "code",
   "execution_count": 69,
   "metadata": {},
   "outputs": [
    {
     "ename": "AttributeError",
     "evalue": "'GameType' object has no attribute 'numberOfGames'",
     "output_type": "error",
     "traceback": [
      "\u001b[1;31m---------------------------------------------------------------------------\u001b[0m",
      "\u001b[1;31mAttributeError\u001b[0m                            Traceback (most recent call last)",
      "Cell \u001b[1;32mIn[69], line 3\u001b[0m\n\u001b[0;32m      1\u001b[0m pokerGame5 \u001b[38;5;241m=\u001b[39m GameType(\u001b[38;5;28mtype\u001b[39m \u001b[38;5;241m=\u001b[39m \u001b[38;5;241m1\u001b[39m)\n\u001b[1;32m----> 3\u001b[0m \u001b[43mpokerGame5\u001b[49m\u001b[38;5;241;43m.\u001b[39;49m\u001b[43mnumberOfGames\u001b[49m\n",
      "\u001b[1;31mAttributeError\u001b[0m: 'GameType' object has no attribute 'numberOfGames'"
     ]
    }
   ],
   "source": [
    "pokerGame5 = GameType(type = 1)\n",
    "\n",
    "pokerGame5.numberOfGames"
   ]
  },
  {
   "cell_type": "markdown",
   "metadata": {},
   "source": [
    "now as we can see the code is not working as after deleting the parameters and attributes it can no longet find the relevan attributes. But this can be solved by means of the `super function`  "
   ]
  },
  {
   "cell_type": "code",
   "execution_count": 71,
   "metadata": {},
   "outputs": [],
   "source": [
    "class GameType(pokerGame):\n",
    "\n",
    "    # Here we can create an \"all lsit that will store the inforamtions about our crated instances\"\n",
    "\n",
    "    all = []\n",
    "\n",
    "    # Definition of the attributes of our instances\n",
    "    \n",
    "    def __init__(self,\n",
    "                 numberOfGames = 1,\n",
    "                 numberOfHands = 10,\n",
    "                 numberOfPlayers = 2,\n",
    "                 name = \"game\",\n",
    "                 type = 0):\n",
    "    # Call to super function in order to retrive all the past information from the other class\n",
    "    # THis saves our times as we already defined the majority of the utilities for that class\n",
    "    # WE just have to pass as arguments the parameters that we want to inherit\n",
    "        super().__init__(\n",
    "            numberOfGames, numberOfHands, numberOfPlayers, name\n",
    "        )\n",
    "    # Data validation of the input\n",
    "\n",
    "        #assert type >= 1, f\"Type is >1 : {type}\"\n",
    "        \n",
    "    # Assignation of the arguments to self\n",
    "\n",
    "        self.type = type\n",
    "    \n",
    "    # We can append whatever inforamtion we want from our object to the new list\n",
    "    \n",
    "\n",
    "   # WE can extract all the INSTANCE instead of just the name\n",
    "        \n",
    "        if self not in GameType.all:    # Check if the name is already in the list\n",
    "\n",
    "            GameType.all.append(self)\n"
   ]
  },
  {
   "cell_type": "code",
   "execution_count": 72,
   "metadata": {},
   "outputs": [
    {
     "data": {
      "text/plain": [
       "10"
      ]
     },
     "execution_count": 72,
     "metadata": {},
     "output_type": "execute_result"
    }
   ],
   "source": [
    "pokerGame6 = GameType(type = 0)\n",
    "\n",
    "pokerGame6.numberOfGames\n",
    "\n",
    "# now i do nt recevie the error enymore and i also can use the methods that were defined previously\n",
    "\n",
    "pokerGame6.totalNumberOfGames()"
   ]
  },
  {
   "cell_type": "markdown",
   "metadata": {},
   "source": [
    "###  `Super()` function\n",
    "\n",
    "In Python, `super()` is a built-in function that is commonly used in the context of object-oriented programming (OOP) to refer to the parent or superclass. It provides a way to call methods from the parent class within a subclass. **The primary use of super() is to enable cooperative multiple inheritance.**\n",
    "\n",
    "```\n",
    "class ChildClass(ParentClass):\n",
    "    def __init__(self, parameters):\n",
    "        super().__init__(parameters)\n",
    "```\n",
    "1. `Initialization of the Child Class`: The super() function is commonly used in the __init__ method of a subclass to call the __init__ method of its superclass. This ensures that the initialization code of the parent class is executed before the initialization code of the child class.\n",
    "\n",
    "2. `Passing Parameters`: super().__init__(parameters) is used to call the constructor of the parent class with the specified parameters. This is important for maintaining the state of the parent class.\n",
    "\n",
    "\n",
    "As Example:\n",
    "\n",
    "```\n",
    "class Animal:\n",
    "    def __init__(self, name):\n",
    "        self.name = name\n",
    "\n",
    "    def speak(self):\n",
    "        print(f\"{self.name} makes a sound\")\n",
    "\n",
    "class Dog(Animal):\n",
    "    def __init__(self, name, breed):\n",
    "        super().__init__(name)\n",
    "        self.breed = breed\n",
    "\n",
    "    def speak(self):\n",
    "        print(f\"{self.name} barks\")\n",
    "\n",
    "dog = Dog(\"Buddy\", \"Labrador\")\n",
    "dog.speak()  # Outputs: \"Buddy barks\"\n",
    "```\n",
    "\n",
    "### Benefits of super():\n",
    " * **Maintainability**: When you use super(), it allows you to make changes to the inheritance hierarchy without having to update the method calls manually in every subclass.\n",
    " \n",
    "* **Cooperative Multiple Inheritance**: super() is particularly useful in situations where multiple inheritance is involved. It helps in ensuring that the methods of each superclass are called in the correct order.\n",
    "\n",
    "* **Readability**: The use of super() makes the code more readable and maintains a clear connection between the child and parent classes."
   ]
  },
  {
   "cell_type": "code",
   "execution_count": 73,
   "metadata": {},
   "outputs": [],
   "source": [
    "class GameType(pokerGame):\n",
    "\n",
    "    # Here we can create an \"all lsit that will store the inforamtions about our crated instances\"\n",
    "\n",
    "    all = []\n",
    "\n",
    "    # Definition of the attributes of our instances\n",
    "    \n",
    "    def __init__(self,\n",
    "                 numberOfGames = 1,\n",
    "                 numberOfHands = 10,\n",
    "                 numberOfPlayers = 2,\n",
    "                 name = \"game\",\n",
    "                 type = 0):\n",
    "    # Call to super function in order to retrive all the past information from the other class\n",
    "    # THis saves our times as we already defined the majority of the utilities for that class\n",
    "    # WE just have to pass as arguments the parameters that we want to inherit\n",
    "        super().__init__(\n",
    "            numberOfGames, numberOfHands, numberOfPlayers, name\n",
    "        )\n",
    "    # Data validation of the input\n",
    "\n",
    "        #assert type >= 1, f\"Type is >1 : {type}\"\n",
    "        \n",
    "    # Assignation of the arguments to self\n",
    "\n",
    "        self.type = type\n",
    "    \n",
    "    # We can append whatever inforamtion we want from our object to the new list\n",
    "    \n",
    "\n",
    "   # WE can extract all the INSTANCE instead of just the name\n",
    "        \n",
    "       \n",
    "        if self not in GameType.all:    # Check if the name is already in the list\n",
    "\n",
    "           GameType.all.append(self)\n"
   ]
  },
  {
   "cell_type": "code",
   "execution_count": 74,
   "metadata": {},
   "outputs": [
    {
     "data": {
      "text/plain": [
       "[pokerGame(1,10, 2, 'game')]"
      ]
     },
     "execution_count": 74,
     "metadata": {},
     "output_type": "execute_result"
    }
   ],
   "source": [
    "gameType1 = GameType(type=0)\n",
    "\n",
    "GameType.all\n",
    "\n",
    "# Now it shows the __repr_correctly and in a clean way"
   ]
  },
  {
   "cell_type": "markdown",
   "metadata": {},
   "source": [
    "That is why in the __repr__ method instead of using \"pokerGame\" as a suffix we could actually use the name of the class"
   ]
  },
  {
   "cell_type": "code",
   "execution_count": 75,
   "metadata": {},
   "outputs": [],
   "source": [
    "\n",
    "class pokerGame:\n",
    "    \n",
    "    # We decide a game rate\n",
    "    \n",
    "    game_rate = 0.2   # this is just to see how a class attribute works\n",
    "    \n",
    "    # Here we can create an \"all lsit that will store the inforamtions about our crated instances\"\n",
    "\n",
    "    all = []\n",
    "\n",
    "    # Definition of the attributes of our instances\n",
    "    \n",
    "    def __init__(self,\n",
    "                 numberOfGames = 1,\n",
    "                 numberOfHands = 10,\n",
    "                 numberOfPlayers = 2,\n",
    "                 name = \"Game\"):\n",
    "        \n",
    "    # Data validation of the input\n",
    "    \n",
    "        assert numberOfGames >= 1, f\"Minimum numberOfGames >= 1, Current: {numberOfGames}\"\n",
    "        assert numberOfHands >= 1, f\"Minimum numberOfHands >= 1, Current: {numberOfHands}\"\n",
    "        assert numberOfPlayers >= 2, f\"Minimum numberOfPlayers >= 2, Current: {numberOfPlayers}\"\n",
    "        \n",
    "    # Assignation of the arguments to self\n",
    "    \n",
    "        self.numberOfGames = numberOfGames\n",
    "        self.numberOfHands = numberOfHands\n",
    "        self.numberOfPlayers = numberOfPlayers\n",
    "        self.name = name\n",
    "    \n",
    "    # We can append whatever inforamtion we want from our object to the new list\n",
    "    \n",
    "\n",
    "   # WE can extract all the INSTANCE instead of just the name\n",
    "        \n",
    "        if self not in pokerGame.all:    # Check if the name is already in the list\n",
    "\n",
    "            pokerGame.all.append(self)\n",
    "\n",
    "\n",
    "    # Methods\n",
    "\n",
    "    def totalNumberOfGames(self):\n",
    "        return self.numberOfGames * self.numberOfHands\n",
    "    \n",
    "    def reduceNumberOfGames(self):\n",
    "        self.numberOfGames = self.numberOfGames * (1 - self.game_rate)\n",
    "    \n",
    "    @classmethod\n",
    "    def instance_iterator_csv(cls, file):\n",
    "        with open(file, 'r') as f:\n",
    "            reader = csv.DictReader(f)\n",
    "            items = list(reader)\n",
    "\n",
    "        for item in items:\n",
    "\n",
    "            existing_instance = next(\n",
    "                (instance for instance in cls.all if instance.name == item.get(\"name\")), None)\n",
    "            \n",
    "            if existing_instance is None:\n",
    "                \n",
    "                pokerGame(                \n",
    "                float(item.get(\"numberOfGames\")),\n",
    "                int(item.get(\"numberOfHands\")),\n",
    "                int(item.get(\"numberOfPlayers\")),\n",
    "                str(item.get(\"name\"))\n",
    "\n",
    "            )\n",
    "    # we are addding another method to check if the number is integer or float\n",
    "   \n",
    "    # STATIC METHODS DO NOT RECEIVE THE BJECT AS THE FIRST PARAMETER, THEY WORK JUST LIKE REGULAR FUNCTIONS \n",
    "    # THUS IN ORDER TO USE THEM WE NEED TO PROVIDE A SET OF ARGUMENTS, IN FACT IF WE LOOK AT IT THE \"self\" ARGUMENT \n",
    "    # IS COLORED DARK BLUE AS UNLIKE OTHER METHODES DEFINED IN THE CLASS HERE WE ARE NOT PASSING THE SELF PARAMETER AUTOMATICALLY\n",
    "   \n",
    "    @staticmethod\n",
    "    def is_integer(num):  \n",
    "\n",
    "    # I cannopt use the self parameter\n",
    "    # We will count out the flaots that are point zero\n",
    "        \n",
    "        if isinstance(num, float):\n",
    "            return num.is_integer()\n",
    "        \n",
    "        elif isinstance(num, int):\n",
    "            return True\n",
    "        \n",
    "        else:\n",
    "            return False\n",
    "\n",
    "    # it is ggood practive to prepresent the instances the same way they are created!!!!\n",
    "    # for example game1 = pokerGame(1,100,3,\"Game1\")\n",
    "    \n",
    "    def __repr__(self):\n",
    "        return f\"{self.__class__.__name__}({self.numberOfGames},{self.numberOfHands}, {self.numberOfPlayers}, '{self.name}')\"\n",
    "    \n"
   ]
  },
  {
   "cell_type": "code",
   "execution_count": 82,
   "metadata": {},
   "outputs": [],
   "source": [
    "pokerGame.instance_iterator_csv(\"pokerGames.csv\")"
   ]
  },
  {
   "cell_type": "code",
   "execution_count": 83,
   "metadata": {},
   "outputs": [
    {
     "data": {
      "text/plain": [
       "[pokerGame(1.0,100, 3, ''Game1' '),\n",
       " pokerGame(4.0,200, 4, ''Game2''),\n",
       " pokerGame(6.2,90, 4, ''Game3''),\n",
       " pokerGame(3.0,70, 2, ''Game4''),\n",
       " pokerGame(3.0,100, 5, ''Game5''),\n",
       " pokerGame(2.0,50, 5, ''Game6''),\n",
       " pokerGame(2.8,75, 3, ''Game7''),\n",
       " GameType(1,10, 2, 'game')]"
      ]
     },
     "execution_count": 83,
     "metadata": {},
     "output_type": "execute_result"
    }
   ],
   "source": [
    "pokerGame.all"
   ]
  },
  {
   "cell_type": "code",
   "execution_count": 95,
   "metadata": {},
   "outputs": [],
   "source": [
    "class GameType(pokerGame):\n",
    "\n",
    "    # Here we can create an \"all lsit that will store the inforamtions about our crated instances\"\n",
    "\n",
    "   # all = []\n",
    "\n",
    "    # Definition of the attributes of our instances\n",
    "    \n",
    "    def __init__(self,\n",
    "                 numberOfGames = 1,\n",
    "                 numberOfHands = 10,\n",
    "                 numberOfPlayers = 2,\n",
    "                 name = \"game\",\n",
    "                 type = 0):\n",
    "    # Call to super function in order to retrive all the past information from the other class\n",
    "    # THis saves our times as we already defined the majority of the utilities for that class\n",
    "    # WE just have to pass as arguments the parameters that we want to inherit\n",
    "        super().__init__(\n",
    "            numberOfGames, numberOfHands, numberOfPlayers, name\n",
    "        )\n",
    "    # Data validation of the input\n",
    "\n",
    "        #assert type >= 1, f\"Type is >1 : {type}\"\n",
    "        \n",
    "    # Assignation of the arguments to self\n",
    "\n",
    "        self.type = type\n",
    "    \n",
    "    # We can append whatever inforamtion we want from our object to the new list\n",
    "    \n",
    "\n",
    "   # WE can extract all the INSTANCE instead of just the name\n",
    "        \n",
    "        #if self not in GameType.all:    # Check if the name is already in the list\n",
    "\n",
    "         #   GameType.all.append(self)\n"
   ]
  },
  {
   "cell_type": "code",
   "execution_count": 96,
   "metadata": {},
   "outputs": [
    {
     "data": {
      "text/plain": [
       "[pokerGame(1.0,100, 3, ''Game1' '),\n",
       " pokerGame(4.0,200, 4, ''Game2''),\n",
       " pokerGame(6.2,90, 4, ''Game3''),\n",
       " pokerGame(3.0,70, 2, ''Game4''),\n",
       " pokerGame(3.0,100, 5, ''Game5''),\n",
       " pokerGame(2.0,50, 5, ''Game6''),\n",
       " pokerGame(2.8,75, 3, ''Game7''),\n",
       " GameType(1,10, 2, 'game'),\n",
       " GameType(1,10, 2, 'game'),\n",
       " GameType(1,10, 2, 'game'),\n",
       " GameType(1,10, 2, 'game'),\n",
       " GameType(1,10, 2, 'game'),\n",
       " GameType(1,10, 2, 'game'),\n",
       " GameType(1,10, 2, 'game'),\n",
       " GameType(1,10, 2, 'game'),\n",
       " GameType(1,10, 2, 'game'),\n",
       " GameType(1,10, 2, 'game'),\n",
       " GameType(1,10, 2, 'game'),\n",
       " GameType(1,10, 2, 'game')]"
      ]
     },
     "execution_count": 96,
     "metadata": {},
     "output_type": "execute_result"
    }
   ],
   "source": [
    "gameType1 = GameType(type=0)\n",
    "\n",
    "GameType.all\n",
    "\n",
    "# Now it shows the __repr_correctly and in a clean way"
   ]
  },
  {
   "cell_type": "markdown",
   "metadata": {},
   "source": [
    "the \"all = [ ]\" attrbute can be deleted as it will be take anyway from the parent class so we do not need to duble it"
   ]
  },
  {
   "cell_type": "code",
   "execution_count": 97,
   "metadata": {},
   "outputs": [],
   "source": [
    "class GameType(pokerGame):\n",
    "\n",
    "    # Here we can create an \"all lsit that will store the inforamtions about our crated instances\"\n",
    "\n",
    "    #all = [] I JUST COMMENTED IT OUT TO CHECK IF EVERYRTHING WILL WORK ANYWAYS\n",
    "\n",
    "    # Definition of the attributes of our instances\n",
    "    \n",
    "    def __init__(self,\n",
    "                 numberOfGames = 1,\n",
    "                 numberOfHands = 10,\n",
    "                 numberOfPlayers = 2,\n",
    "                 name = \"game\",\n",
    "                 type = 0):\n",
    "    # Call to super function in order to retrive all the past information from the other class\n",
    "    # THis saves our times as we already defined the majority of the utilities for that class\n",
    "    # WE just have to pass as arguments the parameters that we want to inherit\n",
    "        super().__init__(\n",
    "            numberOfGames, numberOfHands, numberOfPlayers, name\n",
    "        )\n",
    "    # Data validation of the input\n",
    "\n",
    "        #assert type >= 1, f\"Type is >1 : {type}\"\n",
    "        \n",
    "    # Assignation of the arguments to self\n",
    "\n",
    "        self.type = type\n",
    "    \n",
    "    # We can append whatever inforamtion we want from our object to the new list\n",
    "    \n",
    "\n",
    "   # WE can extract all the INSTANCE instead of just the name\n",
    "        \n",
    "       # if self not in GameType.all:    # Check if the name is already in the list\n",
    "\n",
    "        #    GameType.all.append(self)\n"
   ]
  },
  {
   "cell_type": "code",
   "execution_count": 98,
   "metadata": {},
   "outputs": [
    {
     "data": {
      "text/plain": [
       "[pokerGame(1.0,100, 3, ''Game1' '),\n",
       " pokerGame(4.0,200, 4, ''Game2''),\n",
       " pokerGame(6.2,90, 4, ''Game3''),\n",
       " pokerGame(3.0,70, 2, ''Game4''),\n",
       " pokerGame(3.0,100, 5, ''Game5''),\n",
       " pokerGame(2.0,50, 5, ''Game6''),\n",
       " pokerGame(2.8,75, 3, ''Game7''),\n",
       " GameType(1,10, 2, 'game'),\n",
       " GameType(1,10, 2, 'game'),\n",
       " GameType(1,10, 2, 'game'),\n",
       " GameType(1,10, 2, 'game'),\n",
       " GameType(1,10, 2, 'game'),\n",
       " GameType(1,10, 2, 'game'),\n",
       " GameType(1,10, 2, 'game'),\n",
       " GameType(1,10, 2, 'game'),\n",
       " GameType(1,10, 2, 'game'),\n",
       " GameType(1,10, 2, 'game'),\n",
       " GameType(1,10, 2, 'game'),\n",
       " GameType(1,10, 2, 'game')]"
      ]
     },
     "execution_count": 98,
     "metadata": {},
     "output_type": "execute_result"
    }
   ],
   "source": [
    "GameType.all\n",
    "\n",
    "# using the super() function we call the __init__ function form the super class and th all.append method is defined in the \n",
    "# chunck of code that is in the __init__"
   ]
  },
  {
   "cell_type": "code",
   "execution_count": 100,
   "metadata": {},
   "outputs": [
    {
     "name": "stdout",
     "output_type": "stream",
     "text": [
      "{}\n"
     ]
    }
   ],
   "source": [
    "def find_duplicates(input_list):\n",
    "    duplicates_count = {}\n",
    "\n",
    "    for value in input_list:\n",
    "        duplicates_count.setdefault(value, 1)\n",
    "\n",
    "    result = {key: count for key, count in duplicates_count.items() if count >= 2}\n",
    "    return result\n",
    "\n",
    "# Example usage:\n",
    "my_list = [1, 1, 1, 1, 4, 5, 67, 3, 2, 2, 2]\n",
    "result_dict = find_duplicates(my_list)\n",
    "print(result_dict)\n"
   ]
  }
 ],
 "metadata": {
  "kernelspec": {
   "display_name": "Python 3",
   "language": "python",
   "name": "python3"
  },
  "language_info": {
   "codemirror_mode": {
    "name": "ipython",
    "version": 3
   },
   "file_extension": ".py",
   "mimetype": "text/x-python",
   "name": "python",
   "nbconvert_exporter": "python",
   "pygments_lexer": "ipython3",
   "version": "3.12.0"
  },
  "orig_nbformat": 4
 },
 "nbformat": 4,
 "nbformat_minor": 2
}
