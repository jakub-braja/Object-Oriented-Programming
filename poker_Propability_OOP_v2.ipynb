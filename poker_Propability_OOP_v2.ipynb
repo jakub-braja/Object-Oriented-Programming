{
 "cells": [
  {
   "cell_type": "markdown",
   "metadata": {},
   "source": [
    "# Poker Probability check\n",
    "\n",
    "We are going to evaluate perforing some simualations is the rank of the poker hands is justifiesd by propability\n",
    "\n",
    "At first let's just open the files we are going to need for this. Basically some cheatsheets"
   ]
  },
  {
   "cell_type": "code",
   "execution_count": 1,
   "metadata": {},
   "outputs": [],
   "source": [
    "# import the typical directories we always use\n",
    "\n",
    "import os\n",
    "import subprocess as sp\n",
    "import PyPDF2\n",
    "import numpy as np\n",
    "import pprint as pp\n",
    "import csv"
   ]
  },
  {
   "cell_type": "code",
   "execution_count": 2,
   "metadata": {},
   "outputs": [
    {
     "data": {
      "text/plain": [
       "['Polars_cheat_sheet.pdf', 'Python_CheatSheet.pdf', 'VSC_cheatsheet.pdf']"
      ]
     },
     "execution_count": 2,
     "metadata": {},
     "output_type": "execute_result"
    }
   ],
   "source": [
    "# Let's add the cheatsheets as usual so we dom t have to open them evey time \n",
    "\n",
    "directory = r\"C:\\Users\\jakub\\OneDrive\\Jakub.Personal\\02.Python\\99.Cheatsheets\"\n",
    "\n",
    "files = os.listdir(directory)\n",
    "\n",
    "files\n"
   ]
  },
  {
   "cell_type": "code",
   "execution_count": 3,
   "metadata": {},
   "outputs": [],
   "source": [
    "for file in files :\n",
    "    sp.Popen(os.path.join(directory,file), shell=True)"
   ]
  },
  {
   "cell_type": "markdown",
   "metadata": {},
   "source": [
    "Let's creata our first class, the poker game"
   ]
  },
  {
   "cell_type": "code",
   "execution_count": 4,
   "metadata": {},
   "outputs": [],
   "source": [
    "class pokerGame:\n",
    "    pass"
   ]
  },
  {
   "cell_type": "markdown",
   "metadata": {},
   "source": [
    "We can instantiate the first instance of the poker game just to get a feel of what we are doing "
   ]
  },
  {
   "cell_type": "code",
   "execution_count": 5,
   "metadata": {},
   "outputs": [],
   "source": [
    "game1 = pokerGame()\n",
    "game1.numberOfGames = 50\n",
    "game1.numberOfHands = 10\n",
    "game1.numberOfPlayers = 4\n",
    "game1.name = \"First_game\"\n",
    "\n",
    "game2 = pokerGame()\n",
    "game2.numberOfGames = 50\n",
    "game2.numberOfHands = 10\n",
    "game2.numberOfPlayers = 4\n",
    "game2.name = \"Second_game\""
   ]
  },
  {
   "cell_type": "code",
   "execution_count": 6,
   "metadata": {},
   "outputs": [
    {
     "name": "stdout",
     "output_type": "stream",
     "text": [
      "\n",
      "\n",
      "<class 'int'> \n",
      "<class 'int'>\n",
      "<class 'int'>\n",
      "<class 'str'>\n",
      "<class '__main__.pokerGame'>\n",
      "\n",
      "    \n"
     ]
    }
   ],
   "source": [
    "print(f\"\"\"\n",
    "\n",
    "{type(game1.numberOfGames)} \n",
    "{type(game1.numberOfHands)}\n",
    "{type(game1.numberOfPlayers)}\n",
    "{type(game1.name)}\n",
    "{type(game1)}\n",
    "\n",
    "    \"\"\")"
   ]
  },
  {
   "cell_type": "markdown",
   "metadata": {},
   "source": [
    " The **<class '__main__.pokerGame'>** notation you're seeing indicates that the class pokerGame was defined in the main module (i.e., the top-level script you are running), and it's not part of a separate module or package. In Python, when you define a class at the top level of a script or module (i.e., not within a function or nested within another class), it is associated with the module in which it is defined. When you print the type of the class using the type() function, you'll see it displayed as <class '__main__.pokerGame'>, where '__main__' is the name of the top-level script or module."
   ]
  },
  {
   "cell_type": "code",
   "execution_count": 7,
   "metadata": {},
   "outputs": [
    {
     "data": {
      "text/plain": [
       "'SFERQDAFR'"
      ]
     },
     "execution_count": 7,
     "metadata": {},
     "output_type": "execute_result"
    }
   ],
   "source": [
    "b = \"sfeRQDAFr\"\n",
    "\n",
    "b.upper()\n",
    "\n",
    "# Here i used the method that is available for my string class"
   ]
  },
  {
   "cell_type": "markdown",
   "metadata": {},
   "source": [
    "Let's create our first method\n",
    "We have to pass at least the **self** argument has to be placed in a method for a class, if we do not do that we get an error. Why? The first argmuent self is needed ad once a method is called the first thing that it does is to pass the class itself to the function. **We have to pass the object itself as first parameter**\n",
    "\n",
    "*It is just a convention to call it \"self\", we could have called anyhow*\n",
    " "
   ]
  },
  {
   "cell_type": "code",
   "execution_count": 8,
   "metadata": {},
   "outputs": [],
   "source": [
    "class pokerGame:\n",
    "    \n",
    "    def totalNumberOfGames(self, x , y):\n",
    "        return x * y\n",
    "        \n",
    "     "
   ]
  },
  {
   "cell_type": "code",
   "execution_count": 9,
   "metadata": {},
   "outputs": [],
   "source": [
    "game1 = pokerGame()\n",
    "game1.numberOfGames = 50\n",
    "game1.numberOfHands = 10\n",
    "game1.numberOfPlayers = 4\n",
    "game1.name = \"First_game\"\n",
    "\n",
    "game2 = pokerGame()\n",
    "game2.numberOfGames = 70\n",
    "game2.numberOfHands = 10\n",
    "game2.numberOfPlayers = 4\n",
    "game2.name = \"Second_game\""
   ]
  },
  {
   "cell_type": "code",
   "execution_count": 10,
   "metadata": {},
   "outputs": [
    {
     "name": "stdout",
     "output_type": "stream",
     "text": [
      "500\n",
      "700\n"
     ]
    }
   ],
   "source": [
    "print(game1.totalNumberOfGames(game1.numberOfGames,game2.numberOfHands))\n",
    "print(game2.totalNumberOfGames(game2.numberOfGames,game2.numberOfHands))"
   ]
  },
  {
   "cell_type": "markdown",
   "metadata": {},
   "source": [
    "Let's see how we can create the class in a different way in order to not to have to hardcode the attributes of my class everytime. This is obtained by using the **__init__** method, also known as the **constructor**, is a special method in Python classes. It is used to initialize the attributes (or properties) of an object when an instance of the class is created. \n",
    "\n",
    "The __init__ method simply is used and it is automatically/dynamically executed whenever a class is instancietad.\n",
    "\n",
    "This means that we could assign the attributes of a method directly when initiating the class i\n",
    "Instead of havinf to type them every time. Let's see hoe it is done"
   ]
  },
  {
   "cell_type": "code",
   "execution_count": 11,
   "metadata": {},
   "outputs": [],
   "source": [
    "class pokerGame:\n",
    "\n",
    "    def __init__(self,\n",
    "                 numberOfGames = 1,\n",
    "                 numberOfHands = 10,\n",
    "                 numberOfPlayers = 2,\n",
    "                 name = \"Game\"):\n",
    "        \n",
    "        self.numberOfGames = numberOfGames\n",
    "        self.numberOfHands = numberOfHands\n",
    "        self.numberOfPlayers = numberOfPlayers\n",
    "        self.name = name\n",
    "    \n",
    "    def totalNumberOfGames(self):\n",
    "        return self.numberOfGames * self.numberOfHands\n",
    "        \n",
    "     "
   ]
  },
  {
   "cell_type": "code",
   "execution_count": 12,
   "metadata": {},
   "outputs": [
    {
     "data": {
      "text/plain": [
       "500"
      ]
     },
     "execution_count": 12,
     "metadata": {},
     "output_type": "execute_result"
    }
   ],
   "source": [
    "game3 = pokerGame(10,50,4, \"First.Game\")\n",
    "game3.totalNumberOfGames()\n",
    "\n",
    "# game3.numberOfGames"
   ]
  },
  {
   "cell_type": "markdown",
   "metadata": {},
   "source": [
    "we can still assign attributes away from the constructor. If we want to assign other parameter we can still assign it just like before"
   ]
  },
  {
   "cell_type": "code",
   "execution_count": 13,
   "metadata": {},
   "outputs": [
    {
     "data": {
      "text/plain": [
       "'banana'"
      ]
     },
     "execution_count": 13,
     "metadata": {},
     "output_type": "execute_result"
    }
   ],
   "source": [
    "game1.taste = \"banana\"\n",
    "\n",
    "game1.taste"
   ]
  },
  {
   "cell_type": "markdown",
   "metadata": {},
   "source": [
    "#### Data validation\n",
    "\n",
    "We have to assure that we are using the correct datatype in order to run the program without errors.\n",
    "This can be done in two ways\n",
    "\n",
    "1. assigning the data type at the very beginning by setting it directly (variable: datatype)\n",
    "2. by using **assert** statements\n",
    "\n",
    "One important thing is that if we already specified a default value in Python we do not need to provide a datatype as Python will detect the datatype directly.\n",
    "\n",
    "One thing to be carefull is to not provide a defalut argument prior to an argument that has a specified datatype so for example:\n",
    "\n",
    "\n",
    "    def __init__(self,\n",
    "                 numberOfGames: float,\n",
    "                 numberOfHands = 10,\n",
    "                 numberOfPlayers = 2,\n",
    "                 name: str):\n",
    "    \n",
    "The code above will rise an error as the name argument is passed after other argumnets for which we are not explicetly defining the datatype.\n",
    "\n",
    "To solve the issue we have to pute the name argument before the arguments with decalred values instead of those with declared datatype:\n",
    "\n",
    "\n",
    "    def __init__(self,\n",
    "                 numberOfGames: float,\n",
    "                 name: str,\n",
    "                 numberOfHands = 10,\n",
    "                 numberOfPlayers = 2):\n",
    "\n"
   ]
  },
  {
   "cell_type": "code",
   "execution_count": 14,
   "metadata": {},
   "outputs": [],
   "source": [
    "class pokerGame:\n",
    "\n",
    "    def __init__(self,\n",
    "                 numberOfGames: float,\n",
    "                 name: str,\n",
    "                 numberOfHands = 10,\n",
    "                 numberOfPlayers = 2):\n",
    "        \n",
    "        self.numberOfGames = numberOfGames\n",
    "        self.numberOfHands = numberOfHands\n",
    "        self.numberOfPlayers = numberOfPlayers\n",
    "        self.name = name\n",
    "    \n",
    "    def totalNumberOfGames(self):\n",
    "        return self.numberOfGames * self.numberOfHands\n",
    "        \n",
    "     "
   ]
  },
  {
   "cell_type": "code",
   "execution_count": 15,
   "metadata": {},
   "outputs": [
    {
     "data": {
      "text/plain": [
       "56"
      ]
     },
     "execution_count": 15,
     "metadata": {},
     "output_type": "execute_result"
    }
   ],
   "source": [
    "game4 = pokerGame(\"sta\", 56)\n",
    "\n",
    "game4.name"
   ]
  },
  {
   "cell_type": "markdown",
   "metadata": {},
   "source": [
    "Below we have an example of how to use an assert statement. It is basically made od two parts one is oprional the other mandatory.\n",
    "\n",
    "1. A condition that a varailble must meet\n",
    "2. A message in case the condition is not met (**optional**)"
   ]
  },
  {
   "cell_type": "code",
   "execution_count": 16,
   "metadata": {},
   "outputs": [],
   "source": [
    "class pokerGame:\n",
    "\n",
    "    def __init__(self,\n",
    "                 numberOfGames = 1,\n",
    "                 numberOfHands = 10,\n",
    "                 numberOfPlayers = 2,\n",
    "                 name = \"Game\"):\n",
    "        \n",
    "        assert numberOfGames >= 1, f\"Minimum numberOfGames >= 1, Current: {numberOfGames}\"\n",
    "        assert numberOfHands >= 1, f\"Minimum numberOfHands >= 1, Current: {numberOfHands}\"\n",
    "        assert numberOfPlayers >= 2, f\"Minimum numberOfPlayers >= 2, Current: {numberOfPlayers}\"\n",
    "        assert str(name) == True, f\"Name is not a string , Current datatype: {type(name)}\"\n",
    "        \n",
    "        self.numberOfGames = numberOfGames\n",
    "        self.numberOfHands = numberOfHands\n",
    "        self.numberOfPlayers = numberOfPlayers\n",
    "        self.name = name\n",
    "    \n",
    "    def totalNumberOfGames(self):\n",
    "        return self.numberOfGames * self.numberOfHands\n",
    "        \n",
    "     "
   ]
  },
  {
   "cell_type": "code",
   "execution_count": 17,
   "metadata": {},
   "outputs": [
    {
     "name": "stderr",
     "output_type": "stream",
     "text": [
      "\n",
      "KeyboardInterrupt\n",
      "\n"
     ]
    }
   ],
   "source": [
    "# This is just an example of the use of the assert statement. As we can see there is an error message that simplifies a lot \n",
    "# the process of finding the issue\n",
    "\n",
    "#game5 = pokerGame(1, 1, 1)\n",
    "game5 = pokerGame(2, 10, 5, 5)"
   ]
  },
  {
   "cell_type": "markdown",
   "metadata": {},
   "source": [
    "### Class Attributes\n",
    "Those are attributes that belong to the class itself. Meaning that such an attribute will impact all my instances at once instead of just one instance.\n",
    "\n",
    "Key characteristics of class attributes:\n",
    "\n",
    "1. Shared Among Instances: Class attributes are shared by all instances of the class. Any modification to the attribute made by one instance will affect the attribute for all instances.\n",
    "\n",
    "2. Defined at the Class Level: Class attributes are defined directly within the class definition but outside of any instance methods (such as  `__init__` ) using the class name.\n",
    "\n",
    "3. Accessed via the Class or Instances: You can access class attributes using either the class name or an instance of the class. However, when accessed via an instance, it's typically recommended to access them through the class name to make it clear that you're referring to a class attribute.\n",
    "\n",
    "One class attribute that we might need here is for example a multiplier of the number of hands that have to be played. So we want to define such a class attribute in order to control all the instances"
   ]
  },
  {
   "cell_type": "code",
   "execution_count": null,
   "metadata": {},
   "outputs": [],
   "source": [
    "class pokerGame:\n",
    "\n",
    "    game_rate = 0.2   # this is just to see how a class attribute works\n",
    "\n",
    "    def __init__(self,\n",
    "                 numberOfGames = 1,\n",
    "                 numberOfHands = 10,\n",
    "                 numberOfPlayers = 2,\n",
    "                 name = \"Game\"):\n",
    "        \n",
    "        assert numberOfGames >= 1, f\"Minimum numberOfGames >= 1, Current: {numberOfGames}\"\n",
    "        assert numberOfHands >= 1, f\"Minimum numberOfHands >= 1, Current: {numberOfHands}\"\n",
    "        assert numberOfPlayers >= 2, f\"Minimum numberOfPlayers >= 2, Current: {numberOfPlayers}\"\n",
    "        \n",
    "        self.numberOfGames = numberOfGames\n",
    "        self.numberOfHands = numberOfHands\n",
    "        self.numberOfPlayers = numberOfPlayers\n",
    "        self.name = name\n",
    "    \n",
    "    def totalNumberOfGames(self):\n",
    "        return self.numberOfGames * self.numberOfHands\n",
    "     "
   ]
  },
  {
   "cell_type": "code",
   "execution_count": null,
   "metadata": {},
   "outputs": [
    {
     "data": {
      "text/plain": [
       "0.2"
      ]
     },
     "execution_count": 19,
     "metadata": {},
     "output_type": "execute_result"
    }
   ],
   "source": [
    "# I can access the class itself like this\n",
    "\n",
    "pokerGame.game_rate"
   ]
  },
  {
   "cell_type": "markdown",
   "metadata": {},
   "source": [
    "Basically the instance tries to find the attribute in the instance level, if it cannot find it they will search for that in a class level."
   ]
  },
  {
   "cell_type": "code",
   "execution_count": null,
   "metadata": {},
   "outputs": [
    {
     "data": {
      "text/plain": [
       "0.2"
      ]
     },
     "execution_count": 20,
     "metadata": {},
     "output_type": "execute_result"
    }
   ],
   "source": [
    "# Or i can access it form the instace level\n",
    "game5 = pokerGame(5,20, 4)\n",
    "\n",
    "game5.game_rate"
   ]
  },
  {
   "cell_type": "markdown",
   "metadata": {},
   "source": [
    "We can visualize all the attributes that are part of an instance using the `__dict__` macig method.\n",
    "I can do this at a class level and at an instance level.\n",
    "\n",
    "*This can be very usefull for debuggind reasons as i cann see all the attributes pertaining an object*"
   ]
  },
  {
   "cell_type": "code",
   "execution_count": null,
   "metadata": {},
   "outputs": [
    {
     "name": "stdout",
     "output_type": "stream",
     "text": [
      "{'__module__': '__main__', 'game_rate': 0.2, '__init__': <function pokerGame.__init__ at 0x00000198FF039BC0>, 'totalNumberOfGames': <function pokerGame.totalNumberOfGames at 0x00000198FF03A160>, '__dict__': <attribute '__dict__' of 'pokerGame' objects>, '__weakref__': <attribute '__weakref__' of 'pokerGame' objects>, '__doc__': None}\n",
      "{'numberOfGames': 5, 'numberOfHands': 20, 'numberOfPlayers': 4, 'name': 'Game'}\n"
     ]
    }
   ],
   "source": [
    "print(pokerGame.__dict__)   # this will give me the attributes at a class level\n",
    "print(game5.__dict__)       # this will do the same but at an instance level"
   ]
  },
  {
   "cell_type": "markdown",
   "metadata": {},
   "source": [
    "Let's add the class parameter to a method in order to ovveride the numer of games for our simulationm"
   ]
  },
  {
   "cell_type": "code",
   "execution_count": null,
   "metadata": {},
   "outputs": [],
   "source": [
    "class pokerGame:\n",
    "\n",
    "    game_rate = 0.2   # this is just to see how a class attribute works\n",
    "\n",
    "    def __init__(self,\n",
    "                 numberOfGames = 1,\n",
    "                 numberOfHands = 10,\n",
    "                 numberOfPlayers = 2,\n",
    "                 name = \"Game\"):\n",
    "        \n",
    "        assert numberOfGames >= 1, f\"Minimum numberOfGames >= 1, Current: {numberOfGames}\"\n",
    "        assert numberOfHands >= 1, f\"Minimum numberOfHands >= 1, Current: {numberOfHands}\"\n",
    "        assert numberOfPlayers >= 2, f\"Minimum numberOfPlayers >= 2, Current: {numberOfPlayers}\"\n",
    "        \n",
    "        self.numberOfGames = numberOfGames\n",
    "        self.numberOfHands = numberOfHands\n",
    "        self.numberOfPlayers = numberOfPlayers\n",
    "        self.name = name\n",
    "    \n",
    "    def totalNumberOfGames(self):\n",
    "        return self.numberOfGames * self.numberOfHands\n",
    "    \n",
    "    def reduceNumberOfGames(self):\n",
    "        self.numberOfGames = self.numberOfGames * (1 - pokerGame.game_rate)\n",
    "     "
   ]
  },
  {
   "cell_type": "code",
   "execution_count": null,
   "metadata": {},
   "outputs": [
    {
     "data": {
      "text/plain": [
       "8.0"
      ]
     },
     "execution_count": 23,
     "metadata": {},
     "output_type": "execute_result"
    }
   ],
   "source": [
    "game5 = pokerGame(10, 100, 4)\n",
    "\n",
    "game5.reduceNumberOfGames()\n",
    "game5.numberOfGames"
   ]
  },
  {
   "cell_type": "markdown",
   "metadata": {},
   "source": [
    "Of course we can assign the same attribute to one of our instances in case we want to assign a different valu to the game_rate varible. Let's see how to do this.\n",
    "\n",
    "\n",
    "I have two instances game4 and game5 and one of them will have a game_rate of 0.8 and the other a game_rate of say 0.4 but i have to keep in mind that i have assigned a class attribute od 0.8 to all my instances\n",
    "\n",
    "TO effectively change the code i have to assign an attribute of the same name  (game_rate ) to my game4 instance"
   ]
  },
  {
   "cell_type": "code",
   "execution_count": null,
   "metadata": {},
   "outputs": [
    {
     "name": "stdout",
     "output_type": "stream",
     "text": [
      "\n",
      "Instance attribute : 0.4\n",
      "Class attribute: 0.2\n",
      "\n"
     ]
    }
   ],
   "source": [
    "game4 = pokerGame(20, 90, 3)\n",
    "\n",
    "game4.game_rate = 0.4  # here by assigning an attribute with the same name to the instance i bacisalli overwrite the class attribute\n",
    "\n",
    "print(f\"\"\"\n",
    "Instance attribute : {game4.game_rate}\n",
    "Class attribute: {pokerGame.game_rate}\n",
    "\"\"\")\n",
    "\n"
   ]
  },
  {
   "cell_type": "code",
   "execution_count": null,
   "metadata": {},
   "outputs": [
    {
     "data": {
      "text/plain": [
       "20"
      ]
     },
     "execution_count": 25,
     "metadata": {},
     "output_type": "execute_result"
    }
   ],
   "source": [
    "#game4.reduceNumberOfGames() # i now apply the method with reduced vlues of game_rate and the result should be that the game_rate should be equal to 0.4\n",
    "\n",
    "game4.numberOfGames"
   ]
  },
  {
   "cell_type": "markdown",
   "metadata": {},
   "source": [
    "As we can see it is still appling the 0.2 game_rate this is due of how we defines our method to reduce the gameNumber. This is because I am accesing the game_rate at an instance level but in the instance I have a reference to the class attribute game_rate =  0.4. It get the class attribute as i have `pokerGame.game_rate` attribute in the instance. To avoid this behaviour we should reference the instance itself in the method by replacing **pokerGame.game_rate** with **self.game_rate**, this should give us the certainity of applying the correct attribute to the instance"
   ]
  },
  {
   "cell_type": "code",
   "execution_count": null,
   "metadata": {},
   "outputs": [],
   "source": [
    "class pokerGame:\n",
    "\n",
    "    game_rate = 0.2   # this is just to see how a class attribute works\n",
    "\n",
    "    def __init__(self,\n",
    "                 numberOfGames = 1,\n",
    "                 numberOfHands = 10,\n",
    "                 numberOfPlayers = 2,\n",
    "                 name = \"Game\"):\n",
    "        \n",
    "        assert numberOfGames >= 1, f\"Minimum numberOfGames >= 1, Current: {numberOfGames}\"\n",
    "        assert numberOfHands >= 1, f\"Minimum numberOfHands >= 1, Current: {numberOfHands}\"\n",
    "        assert numberOfPlayers >= 2, f\"Minimum numberOfPlayers >= 2, Current: {numberOfPlayers}\"\n",
    "        \n",
    "        self.numberOfGames = numberOfGames\n",
    "        self.numberOfHands = numberOfHands\n",
    "        self.numberOfPlayers = numberOfPlayers\n",
    "        self.name = name\n",
    "    \n",
    "    def totalNumberOfGames(self):\n",
    "        return self.numberOfGames * self.numberOfHands\n",
    "    \n",
    "    def reduceNumberOfGames(self):\n",
    "        self.numberOfGames = self.numberOfGames * (1 - self.game_rate) # wE made the change here, it wad pokergame.game_rate now it is self.game_rate\n",
    "        # this is really simple if if finds a game rate defined on an instance level it will use it, instead if it does not find it it will use a class level parameter!!!\n",
    "        \n",
    "     "
   ]
  },
  {
   "cell_type": "code",
   "execution_count": null,
   "metadata": {},
   "outputs": [
    {
     "data": {
      "text/plain": [
       "20"
      ]
     },
     "execution_count": 27,
     "metadata": {},
     "output_type": "execute_result"
    }
   ],
   "source": [
    "game6 = pokerGame(20,50,10)\n",
    "game6.game_rate = 0.4\n",
    "\n",
    "game6.numberOfGames"
   ]
  },
  {
   "cell_type": "code",
   "execution_count": null,
   "metadata": {},
   "outputs": [],
   "source": [
    "# Let's apply the game_rate to game6 and compare it to game4\n",
    "\n",
    "game6.reduceNumberOfGames()"
   ]
  },
  {
   "cell_type": "code",
   "execution_count": null,
   "metadata": {},
   "outputs": [
    {
     "data": {
      "text/plain": [
       "12.0"
      ]
     },
     "execution_count": 29,
     "metadata": {},
     "output_type": "execute_result"
    }
   ],
   "source": [
    "# now it correctly reduces the number of game by 40% from 20 to 12.\n",
    "game6.numberOfGames\n"
   ]
  },
  {
   "cell_type": "markdown",
   "metadata": {},
   "source": [
    "Let's say that we want to create a list of all our objects created up to now. WE can do this by creating a class attribute that is going to store all this information for us. \n",
    "\n",
    "We have to keep in mind that the `__init__` function/method is executed everythim we create an instance, so if we want to add an object/instance to a list to keep track of the object we might want ot add a function inside the `__init__` method that does that in order to allow us to retrieve this inforamtion later on."
   ]
  },
  {
   "cell_type": "code",
   "execution_count": null,
   "metadata": {},
   "outputs": [],
   "source": [
    "class pokerGame:\n",
    "    \n",
    "    # We decide a game rate\n",
    "    \n",
    "    game_rate = 0.2   # this is just to see how a class attribute works\n",
    "    \n",
    "    # Here we can create an \"all lsit that will store the inforamtions about our crated instances\"\n",
    "\n",
    "    all = []\n",
    "\n",
    "    # Definition of the attributes of our instances\n",
    "    \n",
    "    def __init__(self,\n",
    "                 numberOfGames = 1,\n",
    "                 numberOfHands = 10,\n",
    "                 numberOfPlayers = 2,\n",
    "                 name = \"Game\"):\n",
    "        \n",
    "    # Data validation of the input\n",
    "    \n",
    "        assert numberOfGames >= 1, f\"Minimum numberOfGames >= 1, Current: {numberOfGames}\"\n",
    "        assert numberOfHands >= 1, f\"Minimum numberOfHands >= 1, Current: {numberOfHands}\"\n",
    "        assert numberOfPlayers >= 2, f\"Minimum numberOfPlayers >= 2, Current: {numberOfPlayers}\"\n",
    "        \n",
    "    # Assignation of the arguments to self\n",
    "    \n",
    "        self.numberOfGames = numberOfGames\n",
    "        self.numberOfHands = numberOfHands\n",
    "        self.numberOfPlayers = numberOfPlayers\n",
    "        self.name = name\n",
    "    \n",
    "    # We can append whatever inforamtion we want from our object to the new list\n",
    "    \n",
    "\n",
    "    # all.append(self.name)   this will not work because we won't be able to locate \"all\", we have to specify the class as well\n",
    "    # the code below should work as now \"all\" is clearly identified by also referencing the class\n",
    "        \n",
    "        if self.name not in pokerGame.all:    # Check if the name is already in the list\n",
    "\n",
    "            pokerGame.all.append(self.name)\n",
    "\n",
    "\n",
    "    # Methods\n",
    "\n",
    "    def totalNumberOfGames(self):\n",
    "        return self.numberOfGames * self.numberOfHands\n",
    "    \n",
    "    def reduceNumberOfGames(self):\n",
    "        self.numberOfGames = self.numberOfGames * (1 - self.game_rate)\n",
    "     "
   ]
  },
  {
   "cell_type": "code",
   "execution_count": null,
   "metadata": {},
   "outputs": [],
   "source": [
    "game1 = pokerGame(1,100,3,\"Game1\")\n",
    "game2 = pokerGame(4,200,4,\"Game2\")\n",
    "game3 = pokerGame(6,90,4,\"Game3\")\n",
    "game4 = pokerGame(3,70,2,\"Game4\")\n",
    "game5 = pokerGame(3,100,5,\"Game5\")\n",
    "game6 = pokerGame(2,50,5,\"Game6\")"
   ]
  },
  {
   "cell_type": "markdown",
   "metadata": {},
   "source": [
    "Now if we try to retrive the \"all\" list it is just necessary to reference the class. But instead of just retreiving the instance name and adding it into the \"All\" list we can extract all the instance!!"
   ]
  },
  {
   "cell_type": "code",
   "execution_count": null,
   "metadata": {},
   "outputs": [
    {
     "data": {
      "text/plain": [
       "['Game1', 'Game2', 'Game3', 'Game4', 'Game5', 'Game6']"
      ]
     },
     "execution_count": 32,
     "metadata": {},
     "output_type": "execute_result"
    }
   ],
   "source": [
    "pokerGame.all"
   ]
  },
  {
   "cell_type": "code",
   "execution_count": null,
   "metadata": {},
   "outputs": [],
   "source": [
    "class pokerGame:\n",
    "    \n",
    "    # We decide a game rate\n",
    "    \n",
    "    game_rate = 0.2   # this is just to see how a class attribute works\n",
    "    \n",
    "    # Here we can create an \"all lsit that will store the inforamtions about our crated instances\"\n",
    "\n",
    "    all = []\n",
    "\n",
    "    # Definition of the attributes of our instances\n",
    "    \n",
    "    def __init__(self,\n",
    "                 numberOfGames = 1,\n",
    "                 numberOfHands = 10,\n",
    "                 numberOfPlayers = 2,\n",
    "                 name = \"Game\"):\n",
    "        \n",
    "    # Data validation of the input\n",
    "    \n",
    "        assert numberOfGames >= 1, f\"Minimum numberOfGames >= 1, Current: {numberOfGames}\"\n",
    "        assert numberOfHands >= 1, f\"Minimum numberOfHands >= 1, Current: {numberOfHands}\"\n",
    "        assert numberOfPlayers >= 2, f\"Minimum numberOfPlayers >= 2, Current: {numberOfPlayers}\"\n",
    "        \n",
    "    # Assignation of the arguments to self\n",
    "    \n",
    "        self.numberOfGames = numberOfGames\n",
    "        self.numberOfHands = numberOfHands\n",
    "        self.numberOfPlayers = numberOfPlayers\n",
    "        self.name = name\n",
    "    \n",
    "    # We can append whatever inforamtion we want from our object to the new list\n",
    "    \n",
    "\n",
    "   # WE can extract all the INSTANCE instead of just the name\n",
    "        \n",
    "        if self not in pokerGame.all:    # Check if the name is already in the list\n",
    "\n",
    "            pokerGame.all.append(self)\n",
    "\n",
    "\n",
    "    # Methods\n",
    "\n",
    "    def totalNumberOfGames(self):\n",
    "        return self.numberOfGames * self.numberOfHands\n",
    "    \n",
    "    def reduceNumberOfGames(self):\n",
    "        self.numberOfGames = self.numberOfGames * (1 - self.game_rate)\n",
    "     "
   ]
  },
  {
   "cell_type": "code",
   "execution_count": null,
   "metadata": {},
   "outputs": [],
   "source": [
    "game1 = pokerGame(1,100,3,\"Game1\")\n",
    "game2 = pokerGame(4,200,4,\"Game2\")\n",
    "game3 = pokerGame(6,90,4,\"Game3\")\n",
    "game4 = pokerGame(3,70,2,\"Game4\")\n",
    "game5 = pokerGame(3,100,5,\"Game5\")\n",
    "game6 = pokerGame(2,50,5,\"Game6\")"
   ]
  },
  {
   "cell_type": "code",
   "execution_count": null,
   "metadata": {},
   "outputs": [
    {
     "data": {
      "text/plain": [
       "[<__main__.pokerGame at 0x198ff4d0510>,\n",
       " <__main__.pokerGame at 0x198ff4d0650>,\n",
       " <__main__.pokerGame at 0x198feed0990>,\n",
       " <__main__.pokerGame at 0x198fee37e10>,\n",
       " <__main__.pokerGame at 0x198feed1a50>,\n",
       " <__main__.pokerGame at 0x198feec8d50>]"
      ]
     },
     "execution_count": 35,
     "metadata": {},
     "output_type": "execute_result"
    }
   ],
   "source": [
    "# as we can see right now we are showing the instances instead of just the names\n",
    "pokerGame.all"
   ]
  },
  {
   "cell_type": "markdown",
   "metadata": {},
   "source": [
    "If we want let's say a particular attribute from the list we can just use a for loop"
   ]
  },
  {
   "cell_type": "code",
   "execution_count": null,
   "metadata": {},
   "outputs": [
    {
     "name": "stdout",
     "output_type": "stream",
     "text": [
      "The name of the instance is: Game1\n",
      "The name of the instance is: Game2\n",
      "The name of the instance is: Game3\n",
      "The name of the instance is: Game4\n",
      "The name of the instance is: Game5\n",
      "The name of the instance is: Game6\n"
     ]
    }
   ],
   "source": [
    "for instance in pokerGame.all:\n",
    "    print(f\"The name of the instance is: {instance.name}\")"
   ]
  },
  {
   "cell_type": "markdown",
   "metadata": {},
   "source": [
    "THe one thing that is not optima is the way the instances are represented in the all list. The output is not readable though it is representative of our instances. To make the output more readable we can use the `__repr__` magic method that allows us to choose the way in which our instances will be represented"
   ]
  },
  {
   "cell_type": "code",
   "execution_count": null,
   "metadata": {},
   "outputs": [],
   "source": [
    "class pokerGame:\n",
    "    \n",
    "    # We decide a game rate\n",
    "    \n",
    "    game_rate = 0.2   # this is just to see how a class attribute works\n",
    "    \n",
    "    # Here we can create an \"all lsit that will store the inforamtions about our crated instances\"\n",
    "\n",
    "    all = []\n",
    "\n",
    "    # Definition of the attributes of our instances\n",
    "    \n",
    "    def __init__(self,\n",
    "                 numberOfGames = 1,\n",
    "                 numberOfHands = 10,\n",
    "                 numberOfPlayers = 2,\n",
    "                 name = \"Game\"):\n",
    "        \n",
    "    # Data validation of the input\n",
    "    \n",
    "        assert numberOfGames >= 1, f\"Minimum numberOfGames >= 1, Current: {numberOfGames}\"\n",
    "        assert numberOfHands >= 1, f\"Minimum numberOfHands >= 1, Current: {numberOfHands}\"\n",
    "        assert numberOfPlayers >= 2, f\"Minimum numberOfPlayers >= 2, Current: {numberOfPlayers}\"\n",
    "        \n",
    "    # Assignation of the arguments to self\n",
    "    \n",
    "        self.numberOfGames = numberOfGames\n",
    "        self.numberOfHands = numberOfHands\n",
    "        self.numberOfPlayers = numberOfPlayers\n",
    "        self.name = name\n",
    "    \n",
    "    # We can append whatever inforamtion we want from our object to the new list\n",
    "    \n",
    "\n",
    "   # WE can extract all the INSTANCE instead of just the name\n",
    "        \n",
    "        if self not in pokerGame.all:    # Check if the name is already in the list\n",
    "\n",
    "            pokerGame.all.append(self)\n",
    "\n",
    "\n",
    "    # Methods\n",
    "\n",
    "    def totalNumberOfGames(self):\n",
    "        return self.numberOfGames * self.numberOfHands\n",
    "    \n",
    "    def reduceNumberOfGames(self):\n",
    "        self.numberOfGames = self.numberOfGames * (1 - self.game_rate)\n",
    "    \n",
    "    # it is ggood practive to prepresent the instances the same way they are created!!!!\n",
    "    # for example game1 = pokerGame(1,100,3,\"Game1\")\n",
    "    \n",
    "    def __repr__(self):\n",
    "        return f\"pokerGame({self.numberOfGames},{self.numberOfHands}, {self.numberOfPlayers}, '{self.name}')\""
   ]
  },
  {
   "cell_type": "code",
   "execution_count": null,
   "metadata": {},
   "outputs": [],
   "source": [
    "game1 = pokerGame(1,100,3,\"Game1\")\n",
    "game2 = pokerGame(4,200,4,\"Game2\")\n",
    "game3 = pokerGame(6,90,4,\"Game3\")\n",
    "game4 = pokerGame(3,70,2,\"Game4\")\n",
    "game5 = pokerGame(3,100,5,\"Game5\")\n",
    "game6 = pokerGame(2,50,5,\"Game6\")"
   ]
  },
  {
   "cell_type": "code",
   "execution_count": null,
   "metadata": {},
   "outputs": [
    {
     "data": {
      "text/plain": [
       "[pokerGame(1,100, 3, 'Game1'),\n",
       " pokerGame(4,200, 4, 'Game2'),\n",
       " pokerGame(6,90, 4, 'Game3'),\n",
       " pokerGame(3,70, 2, 'Game4'),\n",
       " pokerGame(3,100, 5, 'Game5'),\n",
       " pokerGame(2,50, 5, 'Game6')]"
      ]
     },
     "execution_count": 39,
     "metadata": {},
     "output_type": "execute_result"
    }
   ],
   "source": [
    "# as we can see now the output is much more readable\n",
    "pokerGame.all"
   ]
  },
  {
   "cell_type": "code",
   "execution_count": null,
   "metadata": {},
   "outputs": [],
   "source": [
    "import polars as pl"
   ]
  },
  {
   "cell_type": "markdown",
   "metadata": {},
   "source": [
    "We added the list of our poker games that we have just saved to the csv file to a polars dataframe just in case we want to do something with it in the future"
   ]
  },
  {
   "cell_type": "code",
   "execution_count": null,
   "metadata": {},
   "outputs": [
    {
     "ename": "AttributeError",
     "evalue": "module 'os' has no attribute 'wd'",
     "output_type": "error",
     "traceback": [
      "\u001b[1;31m---------------------------------------------------------------------------\u001b[0m",
      "\u001b[1;31mAttributeError\u001b[0m                            Traceback (most recent call last)",
      "\u001b[1;32mc:\\Users\\jakub\\OneDrive\\Jakub.Personal\\02.Python\\02.Object-Oriented-Programming\\poker_Propability_OOP_v2.ipynb Cell 61\u001b[0m line \u001b[0;36m2\n\u001b[0;32m      <a href='vscode-notebook-cell:/c%3A/Users/jakub/OneDrive/Jakub.Personal/02.Python/02.Object-Oriented-Programming/poker_Propability_OOP_v2.ipynb#Y114sZmlsZQ%3D%3D?line=0'>1</a>\u001b[0m os\u001b[39m.\u001b[39mgetcwd()\n\u001b[1;32m----> <a href='vscode-notebook-cell:/c%3A/Users/jakub/OneDrive/Jakub.Personal/02.Python/02.Object-Oriented-Programming/poker_Propability_OOP_v2.ipynb#Y114sZmlsZQ%3D%3D?line=1'>2</a>\u001b[0m os\u001b[39m.\u001b[39;49mwd\n",
      "\u001b[1;31mAttributeError\u001b[0m: module 'os' has no attribute 'wd'"
     ]
    }
   ],
   "source": [
    "os.getcwd()\n",
    "os.wd"
   ]
  },
  {
   "cell_type": "code",
   "execution_count": null,
   "metadata": {},
   "outputs": [
    {
     "data": {
      "text/html": [
       "<div><style>\n",
       ".dataframe > thead > tr > th,\n",
       ".dataframe > tbody > tr > td {\n",
       "  text-align: right;\n",
       "}\n",
       "</style>\n",
       "<small>shape: (6, 4)</small><table border=\"1\" class=\"dataframe\"><thead><tr><th>column_1</th><th>column_2</th><th>column_3</th><th>column_4</th></tr><tr><td>i64</td><td>i64</td><td>i64</td><td>str</td></tr></thead><tbody><tr><td>1</td><td>100</td><td>3</td><td>&quot; &#x27;Game1&#x27;&quot;</td></tr><tr><td>4</td><td>200</td><td>4</td><td>&quot; &#x27;Game2&#x27;&quot;</td></tr><tr><td>6</td><td>90</td><td>4</td><td>&quot; &#x27;Game3&#x27;&quot;</td></tr><tr><td>3</td><td>70</td><td>2</td><td>&quot; &#x27;Game4&#x27;&quot;</td></tr><tr><td>3</td><td>100</td><td>5</td><td>&quot; &#x27;Game5&#x27;&quot;</td></tr><tr><td>2</td><td>50</td><td>5</td><td>&quot; &#x27;Game6&quot;</td></tr></tbody></table></div>"
      ],
      "text/plain": [
       "shape: (6, 4)\n",
       "┌──────────┬──────────┬──────────┬──────────┐\n",
       "│ column_1 ┆ column_2 ┆ column_3 ┆ column_4 │\n",
       "│ ---      ┆ ---      ┆ ---      ┆ ---      │\n",
       "│ i64      ┆ i64      ┆ i64      ┆ str      │\n",
       "╞══════════╪══════════╪══════════╪══════════╡\n",
       "│ 1        ┆ 100      ┆ 3        ┆  'Game1' │\n",
       "│ 4        ┆ 200      ┆ 4        ┆  'Game2' │\n",
       "│ 6        ┆ 90       ┆ 4        ┆  'Game3' │\n",
       "│ 3        ┆ 70       ┆ 2        ┆  'Game4' │\n",
       "│ 3        ┆ 100      ┆ 5        ┆  'Game5' │\n",
       "│ 2        ┆ 50       ┆ 5        ┆  'Game6  │\n",
       "└──────────┴──────────┴──────────┴──────────┘"
      ]
     },
     "execution_count": 45,
     "metadata": {},
     "output_type": "execute_result"
    }
   ],
   "source": [
    "#csv_file = r\"C:\\Users\\jakub\\OneDrive\\Jakub.Personal\\02.Python\\02.Object-Oriented-Programming\"\n",
    "\n",
    "pl.read_csv(os.path.join(os.getcwd(), \"pokerGames.csv\"), has_header= False)"
   ]
  },
  {
   "cell_type": "markdown",
   "metadata": {},
   "source": [
    "we can now create a method that will allow us to instaciate the instances from the csv files. To do this we have to create a `class method` as it would make no sense to create such a method inside an instance, that is because we want to instanciate those instances and so they are not there\n",
    "\n",
    "To create a `class method` we have to use a `decotator`"
   ]
  },
  {
   "cell_type": "code",
   "execution_count": null,
   "metadata": {},
   "outputs": [],
   "source": [
    "\n",
    "class pokerGame:\n",
    "    \n",
    "    # We decide a game rate\n",
    "    \n",
    "    game_rate = 0.2   # this is just to see how a class attribute works\n",
    "    \n",
    "    # Here we can create an \"all lsit that will store the inforamtions about our crated instances\"\n",
    "\n",
    "    all = []\n",
    "\n",
    "    # Definition of the attributes of our instances\n",
    "    \n",
    "    def __init__(self,\n",
    "                 numberOfGames = 1,\n",
    "                 numberOfHands = 10,\n",
    "                 numberOfPlayers = 2,\n",
    "                 name = \"Game\"):\n",
    "        \n",
    "    # Data validation of the input\n",
    "    \n",
    "        assert numberOfGames >= 1, f\"Minimum numberOfGames >= 1, Current: {numberOfGames}\"\n",
    "        assert numberOfHands >= 1, f\"Minimum numberOfHands >= 1, Current: {numberOfHands}\"\n",
    "        assert numberOfPlayers >= 2, f\"Minimum numberOfPlayers >= 2, Current: {numberOfPlayers}\"\n",
    "        \n",
    "    # Assignation of the arguments to self\n",
    "    \n",
    "        self.numberOfGames = numberOfGames\n",
    "        self.numberOfHands = numberOfHands\n",
    "        self.numberOfPlayers = numberOfPlayers\n",
    "        self.name = name\n",
    "    \n",
    "    # We can append whatever inforamtion we want from our object to the new list\n",
    "    \n",
    "\n",
    "   # WE can extract all the INSTANCE instead of just the name\n",
    "        \n",
    "        if self not in pokerGame.all:    # Check if the name is already in the list\n",
    "\n",
    "            pokerGame.all.append(self)\n",
    "\n",
    "\n",
    "    # Methods\n",
    "\n",
    "    def totalNumberOfGames(self):\n",
    "        return self.numberOfGames * self.numberOfHands\n",
    "    \n",
    "    def reduceNumberOfGames(self):\n",
    "        self.numberOfGames = self.numberOfGames * (1 - self.game_rate)\n",
    "    \n",
    "    @classmethod\n",
    "    def instance_iterator_csv(cls, file):\n",
    "        with open(file, 'r') as f:\n",
    "            reader = csv.DictReader(f)c\n",
    "            items = list(reader)\n",
    "\n",
    "        for item in items:\n",
    "\n",
    "            existing_instance = next(\n",
    "                (instance for instance in cls.all if instance.name == item.get(\"name\")), None)\n",
    "            \n",
    "            if existing_instance is None:\n",
    "                \n",
    "                pokerGame(                \n",
    "                int(item.get(\"numberOfGames\")),\n",
    "                int(item.get(\"numberOfHands\")),\n",
    "                int(item.get(\"numberOfPlayers\")),\n",
    "                str(item.get(\"name\"))\n",
    "\n",
    "            )\n",
    "\n",
    "\n",
    "     # We could have done it using a dataframe as well but in this situation the other appriac seems better   \n",
    "        #with open(\"pokerGames.csv\", \"r\") as f:\n",
    "        #    df = pl.read_csv(\"f\")\n",
    "        #    for column in df.col():\n",
    "        #        for row in df.rows():\n",
    "\n",
    "\n",
    "    # Let's create a method \n",
    "\n",
    "    # it is ggood practive to prepresent the instances the same way they are created!!!!\n",
    "    # for example game1 = pokerGame(1,100,3,\"Game1\")\n",
    "    \n",
    "    def __repr__(self):\n",
    "        return f\"pokerGame({self.numberOfGames},{self.numberOfHands}, {self.numberOfPlayers}, '{self.name}')\"\n",
    "    \n"
   ]
  },
  {
   "cell_type": "code",
   "execution_count": null,
   "metadata": {},
   "outputs": [
    {
     "data": {
      "text/plain": [
       "[pokerGame(1,100, 3, ''Game1' '),\n",
       " pokerGame(4,200, 4, ''Game2''),\n",
       " pokerGame(6,90, 4, ''Game3''),\n",
       " pokerGame(3,70, 2, ''Game4''),\n",
       " pokerGame(3,100, 5, ''Game5''),\n",
       " pokerGame(2,50, 5, ''Game6''),\n",
       " pokerGame(2,75, 3, ''Game7'')]"
      ]
     },
     "execution_count": 144,
     "metadata": {},
     "output_type": "execute_result"
    }
   ],
   "source": [
    "file = \"pokerGames.csv\"\n",
    "\n",
    "pokerGame.instance_iterator_csv(file)\n",
    "\n",
    "pokerGame.all\n",
    "\n"
   ]
  },
  {
   "cell_type": "code",
   "execution_count": null,
   "metadata": {},
   "outputs": [
    {
     "name": "stdout",
     "output_type": "stream",
     "text": [
      "2\n"
     ]
    }
   ],
   "source": [
    "numbers = [1, 2, 3, 4, 5]\n",
    "\n",
    "# Using next to get the next item from the list\n",
    "next_number = next((number for number in numbers if number != 1), None)\n",
    "print(next_number)  # Output: 1\n"
   ]
  },
  {
   "cell_type": "markdown",
   "metadata": {},
   "source": [
    "### next() Function\n",
    "The `next() function`` is used to retrieve the next item from an iterable.  \n",
    "It takes two arguments:\n",
    "* **iterable** to extract from \n",
    "* **default** value to return if the iterable is exhausted.\n",
    "\n",
    "Syntax:\n",
    "\n",
    "`next(iterable, default)`\n",
    "\n",
    "\n",
    "* iterable: The iterable from which to retrieve the next item.\n",
    "* default: An optional argument specifying the value to be returned if the iterable is exhausted.\n",
    "\n",
    "Example:\n",
    "\n",
    "#### Example using a list\n",
    "`\n",
    "numbers = [1, 2, 3, 4, 5]\n",
    "iterator = iter(numbers)\n",
    "`\n",
    "#### Retrieve the next item from the iterator\n",
    "`next_number = next(iterator, None)\n",
    "print(next_number)  # Output: 1`\n",
    "\n",
    "\n",
    "In this example, next() is used to get the first element from the iterator iterator. The second argument, None, is the default value returned if the iterator is exhausted."
   ]
  },
  {
   "cell_type": "markdown",
   "metadata": {},
   "source": [
    "Let's add a static method, they are different from the class methos even thoug they look alike"
   ]
  },
  {
   "cell_type": "code",
   "execution_count": null,
   "metadata": {},
   "outputs": [],
   "source": [
    "\n",
    "class pokerGame:\n",
    "    \n",
    "    # We decide a game rate\n",
    "    \n",
    "    game_rate = 0.2   # this is just to see how a class attribute works\n",
    "    \n",
    "    # Here we can create an \"all lsit that will store the inforamtions about our crated instances\"\n",
    "\n",
    "    all = []\n",
    "\n",
    "    # Definition of the attributes of our instances\n",
    "    \n",
    "    def __init__(self,\n",
    "                 numberOfGames = 1,\n",
    "                 numberOfHands = 10,\n",
    "                 numberOfPlayers = 2,\n",
    "                 name = \"Game\"):\n",
    "        \n",
    "    # Data validation of the input\n",
    "    \n",
    "        assert numberOfGames >= 1, f\"Minimum numberOfGames >= 1, Current: {numberOfGames}\"\n",
    "        assert numberOfHands >= 1, f\"Minimum numberOfHands >= 1, Current: {numberOfHands}\"\n",
    "        assert numberOfPlayers >= 2, f\"Minimum numberOfPlayers >= 2, Current: {numberOfPlayers}\"\n",
    "        \n",
    "    # Assignation of the arguments to self\n",
    "    \n",
    "        self.numberOfGames = numberOfGames\n",
    "        self.numberOfHands = numberOfHands\n",
    "        self.numberOfPlayers = numberOfPlayers\n",
    "        self.name = name\n",
    "    \n",
    "    # We can append whatever inforamtion we want from our object to the new list\n",
    "    \n",
    "\n",
    "   # WE can extract all the INSTANCE instead of just the name\n",
    "        \n",
    "        if self not in pokerGame.all:    # Check if the name is already in the list\n",
    "\n",
    "            pokerGame.all.append(self)\n",
    "\n",
    "\n",
    "    # Methods\n",
    "\n",
    "    def totalNumberOfGames(self):\n",
    "        return self.numberOfGames * self.numberOfHands\n",
    "    \n",
    "    def reduceNumberOfGames(self):\n",
    "        self.numberOfGames = self.numberOfGames * (1 - self.game_rate)\n",
    "    \n",
    "    @classmethod\n",
    "    def instance_iterator_csv(cls, file):\n",
    "        with open(file, 'r') as f:\n",
    "            reader = csv.DictReader(f)\n",
    "            items = list(reader)\n",
    "\n",
    "        for item in items:\n",
    "\n",
    "            existing_instance = next(\n",
    "                (instance for instance in cls.all if instance.name == item.get(\"name\")), None)\n",
    "            \n",
    "            if existing_instance is None:\n",
    "                \n",
    "                pokerGame(                \n",
    "                float(item.get(\"numberOfGames\")),\n",
    "                int(item.get(\"numberOfHands\")),\n",
    "                int(item.get(\"numberOfPlayers\")),\n",
    "                str(item.get(\"name\"))\n",
    "\n",
    "            )\n",
    "    # we are addding another method to check if the number is integer or float\n",
    "   \n",
    "    # STATIC METHODS DO NOT RECEIVE THE BJECT AS THE FIRST PARAMETER, THEY WORK JUST LIKE REGULAR FUNCTIONS \n",
    "    # THUS IN ORDER TO USE THEM WE NEED TO PROVIDE A SET OF ARGUMENTS, IN FACT IF WE LOOK AT IT THE \"self\" ARGUMENT \n",
    "    # IS COLORED DARK BLUE AS UNLIKE OTHER METHODES DEFINED IN THE CLASS HERE WE ARE NOT PASSING THE SELF PARAMETER AUTOMATICALLY\n",
    "   \n",
    "    @staticmethod\n",
    "    def is_integer(num):  \n",
    "\n",
    "    # I cannopt use the self parameter\n",
    "    # We will count out the flaots that are point zero\n",
    "        \n",
    "        if isinstance(num, float):\n",
    "            return num.is_integer()\n",
    "        \n",
    "        elif isinstance(num, int):\n",
    "            return True\n",
    "        \n",
    "        else:\n",
    "            return False\n",
    "\n",
    "    # it is ggood practive to prepresent the instances the same way they are created!!!!\n",
    "    # for example game1 = pokerGame(1,100,3,\"Game1\")\n",
    "    \n",
    "    def __repr__(self):\n",
    "        return f\"pokerGame({self.numberOfGames},{self.numberOfHands}, {self.numberOfPlayers}, '{self.name}')\"\n",
    "    \n"
   ]
  },
  {
   "cell_type": "code",
   "execution_count": null,
   "metadata": {},
   "outputs": [
    {
     "data": {
      "text/plain": [
       "[pokerGame(1.0,100, 3, ''Game1' '),\n",
       " pokerGame(4.0,200, 4, ''Game2''),\n",
       " pokerGame(6.2,90, 4, ''Game3''),\n",
       " pokerGame(3.0,70, 2, ''Game4''),\n",
       " pokerGame(3.0,100, 5, ''Game5''),\n",
       " pokerGame(2.0,50, 5, ''Game6''),\n",
       " pokerGame(2.8,75, 3, ''Game7'')]"
      ]
     },
     "execution_count": 183,
     "metadata": {},
     "output_type": "execute_result"
    }
   ],
   "source": [
    "file = \"pokerGames.csv\"\n",
    "\n",
    "pokerGame.instance_iterator_csv(file)\n",
    "\n",
    "pokerGame.all\n",
    "\n"
   ]
  },
  {
   "cell_type": "code",
   "execution_count": null,
   "metadata": {},
   "outputs": [
    {
     "name": "stdout",
     "output_type": "stream",
     "text": [
      "False\n"
     ]
    }
   ],
   "source": [
    "print(pokerGame.is_integer(7.5))"
   ]
  },
  {
   "cell_type": "code",
   "execution_count": null,
   "metadata": {},
   "outputs": [
    {
     "data": {
      "text/plain": [
       "True"
      ]
     },
     "execution_count": 191,
     "metadata": {},
     "output_type": "execute_result"
    }
   ],
   "source": [
    "7.0.is_integer()"
   ]
  },
  {
   "cell_type": "code",
   "execution_count": null,
   "metadata": {},
   "outputs": [],
   "source": [
    "\n",
    "class pokerGame:\n",
    "    \n",
    "    # We decide a game rate\n",
    "    \n",
    "    game_rate = 0.2   # this is just to see how a class attribute works\n",
    "    \n",
    "    # Here we can create an \"all lsit that will store the inforamtions about our crated instances\"\n",
    "\n",
    "    all = []\n",
    "\n",
    "    # Definition of the attributes of our instances\n",
    "    \n",
    "    def __init__(self,\n",
    "                 numberOfGames = 1,\n",
    "                 numberOfHands = 10,\n",
    "                 numberOfPlayers = 2,\n",
    "                 name = \"Game\"):\n",
    "        \n",
    "    # Data validation of the input\n",
    "    \n",
    "        assert numberOfGames >= 1, f\"Minimum numberOfGames >= 1, Current: {numberOfGames}\"\n",
    "        assert numberOfHands >= 1, f\"Minimum numberOfHands >= 1, Current: {numberOfHands}\"\n",
    "        assert numberOfPlayers >= 2, f\"Minimum numberOfPlayers >= 2, Current: {numberOfPlayers}\"\n",
    "        \n",
    "    # Assignation of the arguments to self\n",
    "    \n",
    "        self.numberOfGames = numberOfGames\n",
    "        self.numberOfHands = numberOfHands\n",
    "        self.numberOfPlayers = numberOfPlayers\n",
    "        self.name = name\n",
    "    \n",
    "    # We can append whatever inforamtion we want from our object to the new list\n",
    "    \n",
    "\n",
    "   # WE can extract all the INSTANCE instead of just the name\n",
    "        \n",
    "        if self not in pokerGame.all:    # Check if the name is already in the list\n",
    "\n",
    "            pokerGame.all.append(self)\n",
    "\n",
    "\n",
    "    # Methods\n",
    "\n",
    "    def totalNumberOfGames(self):\n",
    "        return self.numberOfGames * self.numberOfHands\n",
    "    \n",
    "    def reduceNumberOfGames(self):\n",
    "        self.numberOfGames = self.numberOfGames * (1 - self.game_rate)\n",
    "    \n",
    "    @classmethod\n",
    "    def instance_iterator_csv(cls, file):\n",
    "        with open(file, 'r') as f:\n",
    "            reader = csv.DictReader(f)\n",
    "            items = list(reader)\n",
    "\n",
    "        for item in items:\n",
    "\n",
    "            existing_instance = next(\n",
    "                (instance for instance in cls.all if instance.name == item.get(\"name\")), None)\n",
    "            \n",
    "            if existing_instance is None:\n",
    "                \n",
    "                pokerGame(                \n",
    "                float(item.get(\"numberOfGames\")),\n",
    "                int(item.get(\"numberOfHands\")),\n",
    "                int(item.get(\"numberOfPlayers\")),\n",
    "                str(item.get(\"name\"))\n",
    "\n",
    "            )\n",
    "    # we are addding another method to check if the number is integer or float\n",
    "   \n",
    "    # STATIC METHODS DO NOT RECEIVE THE BJECT AS THE FIRST PARAMETER, THEY WORK JUST LIKE REGULAR FUNCTIONS \n",
    "    # THUS IN ORDER TO USE THEM WE NEED TO PROVIDE A SET OF ARGUMENTS, IN FACT IF WE LOOK AT IT THE \"self\" ARGUMENT \n",
    "    # IS COLORED DARK BLUE AS UNLIKE OTHER METHODES DEFINED IN THE CLASS HERE WE ARE NOT PASSING THE SELF PARAMETER AUTOMATICALLY\n",
    "   \n",
    "    @staticmethod\n",
    "    def is_integer(num):  \n",
    "\n",
    "    # I cannopt use the self parameter\n",
    "    # We will count out the flaots that are point zero\n",
    "        \n",
    "        if isinstance(num, float):\n",
    "            return num.is_integer()\n",
    "        \n",
    "        elif isinstance(num, int):\n",
    "            return True\n",
    "        \n",
    "        else:\n",
    "            return False\n",
    "\n",
    "    # it is ggood practive to prepresent the instances the same way they are created!!!!\n",
    "    # for example game1 = pokerGame(1,100,3,\"Game1\")\n",
    "    \n",
    "    def __repr__(self):\n",
    "        return f\"pokerGame({self.numberOfGames},{self.numberOfHands}, {self.numberOfPlayers}, '{self.name}')\"\n",
    "    \n"
   ]
  }
 ],
 "metadata": {
  "kernelspec": {
   "display_name": "Python 3",
   "language": "python",
   "name": "python3"
  },
  "language_info": {
   "codemirror_mode": {
    "name": "ipython",
    "version": 3
   },
   "file_extension": ".py",
   "mimetype": "text/x-python",
   "name": "python",
   "nbconvert_exporter": "python",
   "pygments_lexer": "ipython3",
   "version": "3.11.2"
  },
  "orig_nbformat": 4
 },
 "nbformat": 4,
 "nbformat_minor": 2
}
