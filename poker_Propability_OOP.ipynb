{
 "cells": [
  {
   "cell_type": "markdown",
   "metadata": {},
   "source": [
    "# Poker Probability check\n",
    "\n",
    "We are going to evaluate perforing some simualations is the rank of the poker hands is justifiesd by propability\n",
    "\n",
    "At first let's just open the files we are going to need for this. Basically some cheatsheets"
   ]
  },
  {
   "cell_type": "code",
   "execution_count": 14,
   "metadata": {},
   "outputs": [],
   "source": [
    "\n",
    "# improt thr typical directories we always use\n",
    "import os\n",
    "import subprocess as sp\n",
    "import PyPDF2\n",
    "import numpy as np"
   ]
  },
  {
   "cell_type": "code",
   "execution_count": 16,
   "metadata": {},
   "outputs": [],
   "source": [
    "directory = r\"C:\\Users\\jakub\\OneDrive\\Jakub.Personal\\02.Python\\99.Cheatsheets\"\n",
    "\n",
    "files = os.listdir(directory)\n",
    "\n"
   ]
  },
  {
   "cell_type": "code",
   "execution_count": 20,
   "metadata": {},
   "outputs": [],
   "source": [
    "for file in range(len(files)) :\n",
    "    sp.Popen(os.path.join(directory,files[file]), shell=True)"
   ]
  }
 ],
 "metadata": {
  "kernelspec": {
   "display_name": "Python 3",
   "language": "python",
   "name": "python3"
  },
  "language_info": {
   "codemirror_mode": {
    "name": "ipython",
    "version": 3
   },
   "file_extension": ".py",
   "mimetype": "text/x-python",
   "name": "python",
   "nbconvert_exporter": "python",
   "pygments_lexer": "ipython3",
   "version": "3.11.2"
  },
  "orig_nbformat": 4
 },
 "nbformat": 4,
 "nbformat_minor": 2
}
