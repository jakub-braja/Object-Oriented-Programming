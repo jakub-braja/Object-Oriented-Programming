{
 "cells": [
  {
   "cell_type": "markdown",
   "metadata": {},
   "source": [
    "# Poker Probability check\n",
    "\n",
    "We are going to evaluate perforing some simualations is the rank of the poker hands is justifiesd by propability\n",
    "\n",
    "At first let's just open the files we are going to need for this. Basically some cheatsheets"
   ]
  },
  {
   "cell_type": "code",
   "execution_count": 1,
   "metadata": {},
   "outputs": [],
   "source": [
    "# import the typical directories we always use\n",
    "\n",
    "import os\n",
    "import subprocess as sp\n",
    "import PyPDF2\n",
    "import numpy as np"
   ]
  },
  {
   "cell_type": "code",
   "execution_count": 3,
   "metadata": {},
   "outputs": [
    {
     "data": {
      "text/plain": [
       "['Polars_cheat_sheet.pdf', 'Python_CheatSheet.pdf', 'VSC_cheatsheet.pdf']"
      ]
     },
     "execution_count": 3,
     "metadata": {},
     "output_type": "execute_result"
    }
   ],
   "source": [
    "# Let's add the cheatsheets as usual so we dom t have to open them evey time \n",
    "\n",
    "directory = r\"C:\\Users\\jakub\\OneDrive\\Jakub.Personal\\02.Python\\99.Cheatsheets\"\n",
    "\n",
    "files = os.listdir(directory)\n",
    "\n",
    "files\n"
   ]
  },
  {
   "cell_type": "code",
   "execution_count": 4,
   "metadata": {},
   "outputs": [],
   "source": [
    "for file in files :\n",
    "    sp.Popen(os.path.join(directory,file), shell=True)"
   ]
  },
  {
   "cell_type": "markdown",
   "metadata": {},
   "source": [
    "Let's creata our first class, the poker game"
   ]
  },
  {
   "cell_type": "code",
   "execution_count": 5,
   "metadata": {},
   "outputs": [],
   "source": [
    "class pokerGame:\n",
    "    pass"
   ]
  },
  {
   "cell_type": "markdown",
   "metadata": {},
   "source": [
    "We can instantiate the first instance of the poker game just to get a feel of what we are doing "
   ]
  },
  {
   "cell_type": "code",
   "execution_count": 6,
   "metadata": {},
   "outputs": [],
   "source": [
    "game1 = pokerGame()\n",
    "game1.numberOfGames = 50\n",
    "game1.numberOfHands = 10\n",
    "game1.numberOfPlayers = 4\n",
    "game1.name = \"First_game\"\n",
    "\n",
    "game2 = pokerGame()\n",
    "game2.numberOfGames = 50\n",
    "game2.numberOfHands = 10\n",
    "game2.numberOfPlayers = 4\n",
    "game2.name = \"Second_game\""
   ]
  },
  {
   "cell_type": "code",
   "execution_count": 7,
   "metadata": {},
   "outputs": [
    {
     "name": "stdout",
     "output_type": "stream",
     "text": [
      "\n",
      "\n",
      "<class 'int'> \n",
      "<class 'int'>\n",
      "<class 'int'>\n",
      "<class 'str'>\n",
      "<class '__main__.pokerGame'>\n",
      "\n",
      "    \n"
     ]
    }
   ],
   "source": [
    "print(f\"\"\"\n",
    "\n",
    "{type(game1.numberOfGames)} \n",
    "{type(game1.numberOfHands)}\n",
    "{type(game1.numberOfPlayers)}\n",
    "{type(game1.name)}\n",
    "{type(game1)}\n",
    "\n",
    "    \"\"\")"
   ]
  },
  {
   "cell_type": "markdown",
   "metadata": {},
   "source": [
    " The **<class '__main__.pokerGame'>** notation you're seeing indicates that the class pokerGame was defined in the main module (i.e., the top-level script you are running), and it's not part of a separate module or package. In Python, when you define a class at the top level of a script or module (i.e., not within a function or nested within another class), it is associated with the module in which it is defined. When you print the type of the class using the type() function, you'll see it displayed as <class '__main__.pokerGame'>, where '__main__' is the name of the top-level script or module."
   ]
  },
  {
   "cell_type": "code",
   "execution_count": 8,
   "metadata": {},
   "outputs": [
    {
     "data": {
      "text/plain": [
       "'SFERQDAFR'"
      ]
     },
     "execution_count": 8,
     "metadata": {},
     "output_type": "execute_result"
    }
   ],
   "source": [
    "b = \"sfeRQDAFr\"\n",
    "\n",
    "b.upper()\n",
    "\n",
    "# Here i used the method that is available for my string class"
   ]
  },
  {
   "cell_type": "markdown",
   "metadata": {},
   "source": [
    "Let's create our first method\n",
    "We have to pass at least the **self** argument has to be placed in a method for a class, if we do not do that we get an error. Why? The first argmuent self is needed ad once a method is called the first thing that it does is to pass the class itself to the function. **We have to pass the object itself as first parameter**\n",
    "\n",
    "*It is just a convention to call it \"self\", we could have called anyhow*\n",
    " "
   ]
  },
  {
   "cell_type": "code",
   "execution_count": 9,
   "metadata": {},
   "outputs": [],
   "source": [
    "class pokerGame:\n",
    "    \n",
    "    def totalNumberOfGames(self, x , y):\n",
    "        return x * y\n",
    "        \n",
    "     "
   ]
  },
  {
   "cell_type": "code",
   "execution_count": 10,
   "metadata": {},
   "outputs": [],
   "source": [
    "game1 = pokerGame()\n",
    "game1.numberOfGames = 50\n",
    "game1.numberOfHands = 10\n",
    "game1.numberOfPlayers = 4\n",
    "game1.name = \"First_game\"\n",
    "\n",
    "game2 = pokerGame()\n",
    "game2.numberOfGames = 70\n",
    "game2.numberOfHands = 10\n",
    "game2.numberOfPlayers = 4\n",
    "game2.name = \"Second_game\""
   ]
  },
  {
   "cell_type": "code",
   "execution_count": 11,
   "metadata": {},
   "outputs": [
    {
     "name": "stdout",
     "output_type": "stream",
     "text": [
      "500\n",
      "700\n"
     ]
    }
   ],
   "source": [
    "print(game1.totalNumberOfGames(game1.numberOfGames,game2.numberOfHands))\n",
    "print(game2.totalNumberOfGames(game2.numberOfGames,game2.numberOfHands))"
   ]
  },
  {
   "cell_type": "markdown",
   "metadata": {},
   "source": [
    "Let's see how we can create the class in a different way in order to not to have to hardcode the attributes of my class everytime. This is obtained by using the **__init__** method, also known as the **constructor**, is a special method in Python classes. It is used to initialize the attributes (or properties) of an object when an instance of the class is created. \n",
    "\n",
    "The __init__ method simply is used and it is automatically/dynamically executed whenever a class is instancietad.\n",
    "\n",
    "This means that we could assign the attributes of a method directly when initiating the class i\n",
    "Instead of havinf to type them every time. Let's see hoe it is done"
   ]
  },
  {
   "cell_type": "code",
   "execution_count": 12,
   "metadata": {},
   "outputs": [],
   "source": [
    "class pokerGame:\n",
    "\n",
    "    def __init__(self,\n",
    "                 numberOfGames = 1,\n",
    "                 numberOfHands = 10,\n",
    "                 numberOfPlayers = 2,\n",
    "                 name = \"Game\"):\n",
    "        \n",
    "        self.numberOfGames = numberOfGames\n",
    "        self.numberOfHands = numberOfHands\n",
    "        self.numberOfPlayers = numberOfPlayers\n",
    "        self.name = name\n",
    "    \n",
    "    def totalNumberOfGames(self):\n",
    "        return self.numberOfGames * self.numberOfHands\n",
    "        \n",
    "     "
   ]
  },
  {
   "cell_type": "code",
   "execution_count": 14,
   "metadata": {},
   "outputs": [
    {
     "data": {
      "text/plain": [
       "500"
      ]
     },
     "execution_count": 14,
     "metadata": {},
     "output_type": "execute_result"
    }
   ],
   "source": [
    "game3 = pokerGame(10,50,4, \"First.Game\")\n",
    "game3.totalNumberOfGames()\n",
    "\n",
    "# game3.numberOfGames"
   ]
  },
  {
   "cell_type": "markdown",
   "metadata": {},
   "source": [
    "we can still assign attributes away from the constructor. If we want to assign other parameter we can still assign it just like before"
   ]
  },
  {
   "cell_type": "code",
   "execution_count": 15,
   "metadata": {},
   "outputs": [
    {
     "data": {
      "text/plain": [
       "'banana'"
      ]
     },
     "execution_count": 15,
     "metadata": {},
     "output_type": "execute_result"
    }
   ],
   "source": [
    "game1.taste = \"banana\"\n",
    "\n",
    "game1.taste"
   ]
  },
  {
   "cell_type": "markdown",
   "metadata": {},
   "source": [
    "#### Data validation\n",
    "\n",
    "We have to assure that we are using the correct datatype in order to run the program without errors.\n",
    "This can be done in two ways\n",
    "\n",
    "1. assigning the data type at the very beginning by setting it directly (variable: datatype)\n",
    "2. by using **assert** statements\n",
    "\n",
    "One important thing is that if we already specified a default value in Python we do not need to provide a datatype as Python will detect the datatype directly.\n",
    "\n",
    "One thing to be carefull is to not provide a defalut argument prior to an argument that has a specified datatype so for example:\n",
    "\n",
    "\n",
    "    def __init__(self,\n",
    "                 numberOfGames: float,\n",
    "                 numberOfHands = 10,\n",
    "                 numberOfPlayers = 2,\n",
    "                 name: str):\n",
    "    \n",
    "The code above will rise an error as the name argument is passed after other argumnets for which we are not explicetly defining the datatype.\n",
    "\n",
    "To solve the issue we have to pute the name argument before the arguments with decalred values instead of those with declared datatype:\n",
    "\n",
    "\n",
    "    def __init__(self,\n",
    "                 numberOfGames: float,\n",
    "                 name: str,\n",
    "                 numberOfHands = 10,\n",
    "                 numberOfPlayers = 2):\n",
    "\n"
   ]
  },
  {
   "cell_type": "code",
   "execution_count": 16,
   "metadata": {},
   "outputs": [],
   "source": [
    "class pokerGame:\n",
    "\n",
    "    def __init__(self,\n",
    "                 numberOfGames: float,\n",
    "                 name: str,\n",
    "                 numberOfHands = 10,\n",
    "                 numberOfPlayers = 2):\n",
    "        \n",
    "        self.numberOfGames = numberOfGames\n",
    "        self.numberOfHands = numberOfHands\n",
    "        self.numberOfPlayers = numberOfPlayers\n",
    "        self.name = name\n",
    "    \n",
    "    def totalNumberOfGames(self):\n",
    "        return self.numberOfGames * self.numberOfHands\n",
    "        \n",
    "     "
   ]
  },
  {
   "cell_type": "code",
   "execution_count": 17,
   "metadata": {},
   "outputs": [],
   "source": [
    "game4 = pokerGame(\"sta\", 56)"
   ]
  },
  {
   "cell_type": "markdown",
   "metadata": {},
   "source": [
    "Below we have an example of how to use an assert statement. It is basically made od two parts one is oprional the other mandatory.\n",
    "\n",
    "1. A condition that a varailble must meet\n",
    "2. A message in case the condition is not met (**optional**)"
   ]
  },
  {
   "cell_type": "code",
   "execution_count": 19,
   "metadata": {},
   "outputs": [],
   "source": [
    "class pokerGame:\n",
    "\n",
    "    def __init__(self,\n",
    "                 numberOfGames = 1,\n",
    "                 numberOfHands = 10,\n",
    "                 numberOfPlayers = 2,\n",
    "                 name = \"Game\"):\n",
    "        \n",
    "        assert numberOfGames >= 1, f\"Minimum numberOfGames >= 1, Current: {numberOfGames}\"\n",
    "        assert numberOfHands >= 1, f\"Minimum numberOfHands >= 1, Current: {numberOfHands}\"\n",
    "        assert numberOfPlayers >= 2, f\"Minimum numberOfPlayers >= 2, Current: {numberOfPlayers}\"\n",
    "        \n",
    "        self.numberOfGames = numberOfGames\n",
    "        self.numberOfHands = numberOfHands\n",
    "        self.numberOfPlayers = numberOfPlayers\n",
    "        self.name = name\n",
    "    \n",
    "    def totalNumberOfGames(self):\n",
    "        return self.numberOfGames * self.numberOfHands\n",
    "        \n",
    "     "
   ]
  },
  {
   "cell_type": "code",
   "execution_count": 20,
   "metadata": {},
   "outputs": [
    {
     "ename": "AssertionError",
     "evalue": "Minimum numberOfPlayers >= 2, Current: 1",
     "output_type": "error",
     "traceback": [
      "\u001b[1;31m---------------------------------------------------------------------------\u001b[0m",
      "\u001b[1;31mAssertionError\u001b[0m                            Traceback (most recent call last)",
      "\u001b[1;32mc:\\Users\\jakub\\OneDrive\\Jakub.Personal\\02.Python\\02.Object-Oriented-Programming\\poker_Propability_OOP.ipynb Cell 26\u001b[0m line \u001b[0;36m4\n\u001b[0;32m      <a href='vscode-notebook-cell:/c%3A/Users/jakub/OneDrive/Jakub.Personal/02.Python/02.Object-Oriented-Programming/poker_Propability_OOP.ipynb#X34sZmlsZQ%3D%3D?line=0'>1</a>\u001b[0m \u001b[39m# This is just an example of the use of the assert statement. As we can see there is an error message that simplifies a lot \u001b[39;00m\n\u001b[0;32m      <a href='vscode-notebook-cell:/c%3A/Users/jakub/OneDrive/Jakub.Personal/02.Python/02.Object-Oriented-Programming/poker_Propability_OOP.ipynb#X34sZmlsZQ%3D%3D?line=1'>2</a>\u001b[0m \u001b[39m# the process of finding the issue\u001b[39;00m\n\u001b[1;32m----> <a href='vscode-notebook-cell:/c%3A/Users/jakub/OneDrive/Jakub.Personal/02.Python/02.Object-Oriented-Programming/poker_Propability_OOP.ipynb#X34sZmlsZQ%3D%3D?line=3'>4</a>\u001b[0m game5 \u001b[39m=\u001b[39m pokerGame(\u001b[39m1\u001b[39;49m, \u001b[39m1\u001b[39;49m, \u001b[39m1\u001b[39;49m)\n",
      "\u001b[1;32mc:\\Users\\jakub\\OneDrive\\Jakub.Personal\\02.Python\\02.Object-Oriented-Programming\\poker_Propability_OOP.ipynb Cell 26\u001b[0m line \u001b[0;36m1\n\u001b[0;32m      <a href='vscode-notebook-cell:/c%3A/Users/jakub/OneDrive/Jakub.Personal/02.Python/02.Object-Oriented-Programming/poker_Propability_OOP.ipynb#X34sZmlsZQ%3D%3D?line=8'>9</a>\u001b[0m \u001b[39massert\u001b[39;00m numberOfGames \u001b[39m>\u001b[39m\u001b[39m=\u001b[39m \u001b[39m1\u001b[39m, \u001b[39mf\u001b[39m\u001b[39m\"\u001b[39m\u001b[39mMinimum numberOfGames >= 1, Current: \u001b[39m\u001b[39m{\u001b[39;00mnumberOfGames\u001b[39m}\u001b[39;00m\u001b[39m\"\u001b[39m\n\u001b[0;32m     <a href='vscode-notebook-cell:/c%3A/Users/jakub/OneDrive/Jakub.Personal/02.Python/02.Object-Oriented-Programming/poker_Propability_OOP.ipynb#X34sZmlsZQ%3D%3D?line=9'>10</a>\u001b[0m \u001b[39massert\u001b[39;00m numberOfHands \u001b[39m>\u001b[39m\u001b[39m=\u001b[39m \u001b[39m1\u001b[39m, \u001b[39mf\u001b[39m\u001b[39m\"\u001b[39m\u001b[39mMinimum numberOfHands >= 1, Current: \u001b[39m\u001b[39m{\u001b[39;00mnumberOfHands\u001b[39m}\u001b[39;00m\u001b[39m\"\u001b[39m\n\u001b[1;32m---> <a href='vscode-notebook-cell:/c%3A/Users/jakub/OneDrive/Jakub.Personal/02.Python/02.Object-Oriented-Programming/poker_Propability_OOP.ipynb#X34sZmlsZQ%3D%3D?line=10'>11</a>\u001b[0m \u001b[39massert\u001b[39;00m numberOfPlayers \u001b[39m>\u001b[39m\u001b[39m=\u001b[39m \u001b[39m2\u001b[39m, \u001b[39mf\u001b[39m\u001b[39m\"\u001b[39m\u001b[39mMinimum numberOfPlayers >= 2, Current: \u001b[39m\u001b[39m{\u001b[39;00mnumberOfPlayers\u001b[39m}\u001b[39;00m\u001b[39m\"\u001b[39m\n\u001b[0;32m     <a href='vscode-notebook-cell:/c%3A/Users/jakub/OneDrive/Jakub.Personal/02.Python/02.Object-Oriented-Programming/poker_Propability_OOP.ipynb#X34sZmlsZQ%3D%3D?line=12'>13</a>\u001b[0m \u001b[39mself\u001b[39m\u001b[39m.\u001b[39mnumberOfGames \u001b[39m=\u001b[39m numberOfGames\n\u001b[0;32m     <a href='vscode-notebook-cell:/c%3A/Users/jakub/OneDrive/Jakub.Personal/02.Python/02.Object-Oriented-Programming/poker_Propability_OOP.ipynb#X34sZmlsZQ%3D%3D?line=13'>14</a>\u001b[0m \u001b[39mself\u001b[39m\u001b[39m.\u001b[39mnumberOfHands \u001b[39m=\u001b[39m numberOfHands\n",
      "\u001b[1;31mAssertionError\u001b[0m: Minimum numberOfPlayers >= 2, Current: 1"
     ]
    }
   ],
   "source": [
    "# This is just an example of the use of the assert statement. As we can see there is an error message that simplifies a lot \n",
    "# the process of finding the issue\n",
    "\n",
    "game5 = pokerGame(1, 1, 1)"
   ]
  },
  {
   "cell_type": "markdown",
   "metadata": {},
   "source": [
    "### Class Attributes\n",
    "THose are attributes that belong to the class itself. Meaning that such an attribute will impact all my instances at once instead of just one instance.\n",
    "\n",
    "Key characteristics of class attributes:\n",
    "\n",
    "1. Shared Among Instances: Class attributes are shared by all instances of the class. Any modification to the attribute made by one instance will affect the attribute for all instances.\n",
    "\n",
    "2. Defined at the Class Level: Class attributes are defined directly within the class definition but outside of any instance methods (such as  `__init__` ) using the class name.\n",
    "\n",
    "3. Accessed via the Class or Instances: You can access class attributes using either the class name or an instance of the class. However, when accessed via an instance, it's typically recommended to access them through the class name to make it clear that you're referring to a class attribute.\n",
    "\n",
    "One class attribute that we might need here is for example a multiplier of the number of hands that have to be played. So we want to define such a class attribute in order to control all the instances"
   ]
  },
  {
   "cell_type": "code",
   "execution_count": 21,
   "metadata": {},
   "outputs": [],
   "source": [
    "class pokerGame:\n",
    "\n",
    "    game_rate = 0.2   # this is just to see how a class attribute works\n",
    "\n",
    "    def __init__(self,\n",
    "                 numberOfGames = 1,\n",
    "                 numberOfHands = 10,\n",
    "                 numberOfPlayers = 2,\n",
    "                 name = \"Game\"):\n",
    "        \n",
    "        assert numberOfGames >= 1, f\"Minimum numberOfGames >= 1, Current: {numberOfGames}\"\n",
    "        assert numberOfHands >= 1, f\"Minimum numberOfHands >= 1, Current: {numberOfHands}\"\n",
    "        assert numberOfPlayers >= 2, f\"Minimum numberOfPlayers >= 2, Current: {numberOfPlayers}\"\n",
    "        \n",
    "        self.numberOfGames = numberOfGames\n",
    "        self.numberOfHands = numberOfHands\n",
    "        self.numberOfPlayers = numberOfPlayers\n",
    "        self.name = name\n",
    "    \n",
    "    def totalNumberOfGames(self):\n",
    "        return self.numberOfGames * self.numberOfHands\n",
    "     "
   ]
  },
  {
   "cell_type": "code",
   "execution_count": 22,
   "metadata": {},
   "outputs": [
    {
     "data": {
      "text/plain": [
       "0.2"
      ]
     },
     "execution_count": 22,
     "metadata": {},
     "output_type": "execute_result"
    }
   ],
   "source": [
    "# I can access the class itself like this\n",
    "\n",
    "pokerGame.game_rate"
   ]
  },
  {
   "cell_type": "markdown",
   "metadata": {},
   "source": [
    "Basically the instance tries to find the attribute in the instance level, if it cannot find it they will search for that in a class level."
   ]
  },
  {
   "cell_type": "code",
   "execution_count": 24,
   "metadata": {},
   "outputs": [
    {
     "data": {
      "text/plain": [
       "0.2"
      ]
     },
     "execution_count": 24,
     "metadata": {},
     "output_type": "execute_result"
    }
   ],
   "source": [
    "# Or i can access it form the instace level\n",
    "game5 = pokerGame(5,20, 4)\n",
    "\n",
    "game5.game_rate"
   ]
  },
  {
   "cell_type": "markdown",
   "metadata": {},
   "source": [
    "We can visualize all the attributes that are part of an instance using the `__dict__` macig method.\n",
    "I can do this at a class level and at an instance level.\n",
    "\n",
    "*This can be very usefull for debuggind reasons as i cann see all the attributes pertaining an object*"
   ]
  },
  {
   "cell_type": "code",
   "execution_count": 27,
   "metadata": {},
   "outputs": [
    {
     "name": "stdout",
     "output_type": "stream",
     "text": [
      "{'__module__': '__main__', 'game_rate': 0.2, '__init__': <function pokerGame.__init__ at 0x000001B77322B9C0>, 'totalNumberOfGames': <function pokerGame.totalNumberOfGames at 0x000001B77322BE20>, '__dict__': <attribute '__dict__' of 'pokerGame' objects>, '__weakref__': <attribute '__weakref__' of 'pokerGame' objects>, '__doc__': None}\n",
      "{'numberOfGames': 5, 'numberOfHands': 20, 'numberOfPlayers': 4, 'name': 'Game'}\n"
     ]
    }
   ],
   "source": [
    "print(pokerGame.__dict__)   # this will give me the attributes at a class level\n",
    "print(game5.__dict__)       # this will do the same but at an instance level"
   ]
  },
  {
   "cell_type": "markdown",
   "metadata": {},
   "source": [
    "Let's add the class parameter to a methog in order to ovverides the numer of games for our simulationm"
   ]
  },
  {
   "cell_type": "code",
   "execution_count": 43,
   "metadata": {},
   "outputs": [],
   "source": [
    "class pokerGame:\n",
    "\n",
    "    game_rate = 0.2   # this is just to see how a class attribute works\n",
    "\n",
    "    def __init__(self,\n",
    "                 numberOfGames = 1,\n",
    "                 numberOfHands = 10,\n",
    "                 numberOfPlayers = 2,\n",
    "                 name = \"Game\"):\n",
    "        \n",
    "        assert numberOfGames >= 1, f\"Minimum numberOfGames >= 1, Current: {numberOfGames}\"\n",
    "        assert numberOfHands >= 1, f\"Minimum numberOfHands >= 1, Current: {numberOfHands}\"\n",
    "        assert numberOfPlayers >= 2, f\"Minimum numberOfPlayers >= 2, Current: {numberOfPlayers}\"\n",
    "        \n",
    "        self.numberOfGames = numberOfGames\n",
    "        self.numberOfHands = numberOfHands\n",
    "        self.numberOfPlayers = numberOfPlayers\n",
    "        self.name = name\n",
    "    \n",
    "    def totalNumberOfGames(self):\n",
    "        return self.numberOfGames * self.numberOfHands\n",
    "    \n",
    "    def reduceNumberOfGames(self):\n",
    "        self.numberOfGames = self.numberOfGames * (1 - pokerGame.game_rate)\n",
    "     "
   ]
  },
  {
   "cell_type": "code",
   "execution_count": 48,
   "metadata": {},
   "outputs": [
    {
     "data": {
      "text/plain": [
       "8.0"
      ]
     },
     "execution_count": 48,
     "metadata": {},
     "output_type": "execute_result"
    }
   ],
   "source": [
    "game5 = pokerGame(10, 100, 4)\n",
    "\n",
    "game5.reduceNumberOfGames()\n",
    "game5.numberOfGames"
   ]
  },
  {
   "cell_type": "markdown",
   "metadata": {},
   "source": [
    "Of course we can assign the same attribute to one of our instances in case we want to assign a different valu to the gane_rate varible. Let's see how to do this.\n",
    "\n",
    "\n",
    "I have two instances game4 and game5 and one of them will have a game_rate of 0.8 and the other a game_rate of say 0.4 but i have to keep in mind that i have assigned a class attribute od 0.8 to all my instances\n",
    "\n",
    "TO effectively change the code i have to assign an attribute od the same name  (game_rate ) to my game4 instance"
   ]
  },
  {
   "cell_type": "code",
   "execution_count": 97,
   "metadata": {},
   "outputs": [
    {
     "data": {
      "text/plain": [
       "0.4"
      ]
     },
     "execution_count": 97,
     "metadata": {},
     "output_type": "execute_result"
    }
   ],
   "source": [
    "game4 = pokerGame(20, 90, 3)\n",
    "\n",
    "game4.game_rate = 0.4  # here by assigning an attribute with the same name to the instance i bacisalli overwrite the class attribute\n",
    "\n",
    "game4.game_rate\n"
   ]
  },
  {
   "cell_type": "code",
   "execution_count": 99,
   "metadata": {},
   "outputs": [
    {
     "data": {
      "text/plain": [
       "16.0"
      ]
     },
     "execution_count": 99,
     "metadata": {},
     "output_type": "execute_result"
    }
   ],
   "source": [
    "# game4.reduceNumberOfGames() # i now apply the method with reduced vlues of game_rate and the result should be that the game_rate should be equal to 0.4\n",
    "\n",
    "game4.numberOfGames"
   ]
  },
  {
   "cell_type": "code",
   "execution_count": null,
   "metadata": {},
   "outputs": [],
   "source": []
  },
  {
   "cell_type": "code",
   "execution_count": 94,
   "metadata": {},
   "outputs": [
    {
     "data": {
      "text/plain": [
       "16.0"
      ]
     },
     "execution_count": 94,
     "metadata": {},
     "output_type": "execute_result"
    }
   ],
   "source": []
  }
 ],
 "metadata": {
  "kernelspec": {
   "display_name": "Python 3",
   "language": "python",
   "name": "python3"
  },
  "language_info": {
   "codemirror_mode": {
    "name": "ipython",
    "version": 3
   },
   "file_extension": ".py",
   "mimetype": "text/x-python",
   "name": "python",
   "nbconvert_exporter": "python",
   "pygments_lexer": "ipython3",
   "version": "3.11.2"
  },
  "orig_nbformat": 4
 },
 "nbformat": 4,
 "nbformat_minor": 2
}
