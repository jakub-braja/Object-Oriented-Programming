{
 "cells": [
  {
   "cell_type": "markdown",
   "metadata": {},
   "source": [
    "### Generate Standard Deck"
   ]
  },
  {
   "cell_type": "code",
   "execution_count": 31,
   "metadata": {},
   "outputs": [],
   "source": [
    "import numpy as np\n",
    "import random as rd\n",
    "import itertools as it"
   ]
  },
  {
   "cell_type": "code",
   "execution_count": 32,
   "metadata": {},
   "outputs": [],
   "source": [
    "deck = []\n",
    "\n",
    "suits = [\"H\", \"D\", \"C\", \"S\"]\n",
    "rank = [14, 13, 12, 11, 10, 9, 8, 7, 6, 5, 4, 3, 2]\n",
    "\n",
    "for s in suits:\n",
    "    for r in rank:\n",
    "\n",
    "        placeHolderDict = {}\n",
    "        # Creating key-value pairs with the combination of suit and rank\n",
    "        placeHolderDict[s] = r  # You can replace None with any relevant information\n",
    "        deck.append(placeHolderDict)\n",
    "\n"
   ]
  },
  {
   "cell_type": "code",
   "execution_count": 67,
   "metadata": {},
   "outputs": [
    {
     "data": {
      "text/plain": [
       "[{'S': 2},\n",
       " {'H': 9},\n",
       " {'D': 3},\n",
       " {'C': 2},\n",
       " {'C': 14},\n",
       " {'S': 14},\n",
       " {'D': 4},\n",
       " {'C': 6},\n",
       " {'H': 14},\n",
       " {'S': 12},\n",
       " {'H': 12},\n",
       " {'D': 5},\n",
       " {'C': 8},\n",
       " {'S': 4},\n",
       " {'S': 7},\n",
       " {'C': 13},\n",
       " {'H': 7},\n",
       " {'S': 11},\n",
       " {'H': 2},\n",
       " {'S': 8},\n",
       " {'C': 5},\n",
       " {'D': 13},\n",
       " {'D': 2},\n",
       " {'S': 6},\n",
       " {'D': 6},\n",
       " {'S': 10},\n",
       " {'C': 10},\n",
       " {'C': 11},\n",
       " {'H': 3},\n",
       " {'S': 5},\n",
       " {'H': 8},\n",
       " {'D': 14},\n",
       " {'D': 7},\n",
       " {'C': 12},\n",
       " {'D': 12},\n",
       " {'H': 4},\n",
       " {'D': 8},\n",
       " {'S': 3},\n",
       " {'S': 13},\n",
       " {'D': 10},\n",
       " {'H': 11},\n",
       " {'D': 11},\n",
       " {'H': 6},\n",
       " {'C': 7},\n",
       " {'S': 9},\n",
       " {'C': 4},\n",
       " {'C': 9},\n",
       " {'H': 13},\n",
       " {'H': 10},\n",
       " {'D': 9},\n",
       " {'H': 5},\n",
       " {'C': 3}]"
      ]
     },
     "execution_count": 67,
     "metadata": {},
     "output_type": "execute_result"
    }
   ],
   "source": [
    "rd.shuffle(deck)\n",
    "deck"
   ]
  }
 ],
 "metadata": {
  "kernelspec": {
   "display_name": "Python 3",
   "language": "python",
   "name": "python3"
  },
  "language_info": {
   "codemirror_mode": {
    "name": "ipython",
    "version": 3
   },
   "file_extension": ".py",
   "mimetype": "text/x-python",
   "name": "python",
   "nbconvert_exporter": "python",
   "pygments_lexer": "ipython3",
   "version": "3.11.2"
  }
 },
 "nbformat": 4,
 "nbformat_minor": 2
}
