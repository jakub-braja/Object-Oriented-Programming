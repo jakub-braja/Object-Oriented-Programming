{
 "cells": [
  {
   "cell_type": "markdown",
   "metadata": {},
   "source": [
    "### Generate Standard Deck"
   ]
  },
  {
   "cell_type": "markdown",
   "metadata": {},
   "source": [
    "### \"@Property\" decorator\n",
    "\n",
    "In object-oriented programming (OOP), `@property` is a decorator in Python that allows you to define a **method that can be accessed like an attribute**, without using parentheses to call it. This can be useful when you want to provide a simple interface for **getting or setting the value of an attribute**, but you want to perform some logic or validation when accessing or modifying that attribute."
   ]
  },
  {
   "cell_type": "code",
   "execution_count": 19,
   "metadata": {},
   "outputs": [
    {
     "name": "stdout",
     "output_type": "stream",
     "text": [
      "Radius: 5\n",
      "Diameter: 10\n",
      "Area: 78.5\n"
     ]
    }
   ],
   "source": [
    "class Circle:\n",
    "    def __init__(self, radius):\n",
    "        self.radius = radius  # This will use the setter method\n",
    "\n",
    "    @property\n",
    "    def radius(self):\n",
    "        return self._radius\n",
    "\n",
    "    @radius.setter\n",
    "    def radius(self, value):\n",
    "        if value < 0:\n",
    "            raise ValueError(\"Radius cannot be negative\")\n",
    "        self._radius = value\n",
    "\n",
    "    @property\n",
    "    def diameter(self):\n",
    "        return 2 * self._radius\n",
    "\n",
    "    @property\n",
    "    def area(self):\n",
    "        return 3.14 * self._radius ** 2\n",
    "\n",
    "# Example usage:\n",
    "circle = Circle(5)\n",
    "print(f\"Radius: {circle.radius}\")\n",
    "print(f\"Diameter: {circle.diameter}\")\n",
    "print(f\"Area: {circle.area}\")\n",
    "\n",
    "# The following line will raise a ValueError since the radius cannot be set to a negative value\n",
    "# circle.radius = -2\n"
   ]
  },
  {
   "cell_type": "markdown",
   "metadata": {},
   "source": [
    "1. **Getter Method (@property):** The `@property` decorator is used to define a getter method for the radius property. In this case, it's the method def radius(self).\n",
    "\n",
    "```\n",
    "@property\n",
    "def radius(self):\n",
    "    return self._radius\n",
    "```\n",
    "\n",
    "This method is called when you try to access the radius property, for example, by writing circle.radius. It returns the value of the private variable _radius.\n",
    "\n",
    "2. **Setter Method (@radius.setter):** The `@radius.setter` decorator is used to define a setter method for the radius property. In this case, it's the method def radius(self, value).\n",
    "\n",
    "```\n",
    "@radius.setter\n",
    "def radius(self, value):\n",
    "    if value < 0:\n",
    "        raise ValueError(\"Radius cannot be negative\")\n",
    "    self._radius = value\n",
    "```\n",
    "\n",
    "3. **Accessing the Property:** When you try to access the property (circle.radius), the getter method (def radius(self)) is automatically called, and it returns the current value of _radius.\n",
    "When you try to set a value to the property (circle.radius = 10), the setter method (def radius(self, value)) is automatically called, and it sets the value of _radius after validation."
   ]
  },
  {
   "cell_type": "markdown",
   "metadata": {},
   "source": [
    "### General Rule\n",
    "\n",
    "* When you use the assignment syntax (instance.attribute = value), Python looks for a property setter method associated with the attribute name.\n",
    "\n",
    "* **IF** a property setter is found (defined with @attribute.setter), it is automatically called, allowing you to execute custom logic before assigning the value to the attribute.\n",
    "\n",
    "* **IF NO** property setter is found, the value is assigned directly to the attribute.\n",
    "\n",
    "#### Protected attributes\n",
    "\n",
    "In Python, **attribute names with a single leading underscore (e.g., _radius) are considered \"protected,\"** indicating that they should not be accessed directly from outside the class. You should avoid using the to go outside of the class and try to keep this syntax in mind where working with classes"
   ]
  },
  {
   "cell_type": "code",
   "execution_count": 59,
   "metadata": {},
   "outputs": [],
   "source": [
    "import numpy as np\n",
    "import random as rd\n",
    "import itertools as it"
   ]
  },
  {
   "cell_type": "code",
   "execution_count": 32,
   "metadata": {},
   "outputs": [],
   "source": [
    "deck = []\n",
    "\n",
    "suits = [\"H\", \"D\", \"C\", \"S\"]\n",
    "ranks = [14, 13, 12, 11, 10, 9, 8, 7, 6, 5, 4, 3, 2]\n",
    "\n",
    "for s in suits:\n",
    "    for r in ranksss:\n",
    "\n",
    "        placeHolderDict = {}\n",
    "        # Creating key-value pairs with the combination of suit and ranks\n",
    "        placeHolderDict[s] = r  # You can replace None with any relevant information\n",
    "        deck.append(placeHolderDict)\n",
    "\n"
   ]
  },
  {
   "cell_type": "code",
   "execution_count": 67,
   "metadata": {},
   "outputs": [
    {
     "data": {
      "text/plain": [
       "[{'S': 2},\n",
       " {'H': 9},\n",
       " {'D': 3},\n",
       " {'C': 2},\n",
       " {'C': 14},\n",
       " {'S': 14},\n",
       " {'D': 4},\n",
       " {'C': 6},\n",
       " {'H': 14},\n",
       " {'S': 12},\n",
       " {'H': 12},\n",
       " {'D': 5},\n",
       " {'C': 8},\n",
       " {'S': 4},\n",
       " {'S': 7},\n",
       " {'C': 13},\n",
       " {'H': 7},\n",
       " {'S': 11},\n",
       " {'H': 2},\n",
       " {'S': 8},\n",
       " {'C': 5},\n",
       " {'D': 13},\n",
       " {'D': 2},\n",
       " {'S': 6},\n",
       " {'D': 6},\n",
       " {'S': 10},\n",
       " {'C': 10},\n",
       " {'C': 11},\n",
       " {'H': 3},\n",
       " {'S': 5},\n",
       " {'H': 8},\n",
       " {'D': 14},\n",
       " {'D': 7},\n",
       " {'C': 12},\n",
       " {'D': 12},\n",
       " {'H': 4},\n",
       " {'D': 8},\n",
       " {'S': 3},\n",
       " {'S': 13},\n",
       " {'D': 10},\n",
       " {'H': 11},\n",
       " {'D': 11},\n",
       " {'H': 6},\n",
       " {'C': 7},\n",
       " {'S': 9},\n",
       " {'C': 4},\n",
       " {'C': 9},\n",
       " {'H': 13},\n",
       " {'H': 10},\n",
       " {'D': 9},\n",
       " {'H': 5},\n",
       " {'C': 3}]"
      ]
     },
     "execution_count": 67,
     "metadata": {},
     "output_type": "execute_result"
    }
   ],
   "source": [
    "rd.shuffle(deck)\n",
    "deck"
   ]
  },
  {
   "cell_type": "code",
   "execution_count": 108,
   "metadata": {},
   "outputs": [],
   "source": [
    "class deckOfCards:\n",
    "    \n",
    "    # Class variable to store the deck\n",
    "    _deck = None\n",
    "\n",
    "    def __init__(self):\n",
    "\n",
    "        if deckOfCards._deck is None:\n",
    "            self._initializeDeck()\n",
    "        \n",
    "        else:\n",
    "            self._deck = deckOfCards._deck.copy()\n",
    "\n",
    "\n",
    "    @classmethod\n",
    "    def _initializeDeck(cls):\n",
    "    \n",
    "        cls._deck = []\n",
    "                        \n",
    "        suits = [\"H\", \"D\", \"C\", \"S\"]\n",
    "        ranks = [14, 13, 12, 11, 10, 9, 8, 7, 6, 5, 4, 3, 2]\n",
    "        \n",
    "        for s in suits:\n",
    "            for r in ranks:\n",
    "        \n",
    "                card = {}\n",
    "                card[s] = r\n",
    "                # Creating key-value pairs with the combination of suit and ranks\n",
    "                cls._deck.append(card)\n",
    "\n",
    "        # we create an instance of the class by assigning it the deck which will be the same for all the instances\n",
    "        # jsut the following methods will change how the deck will be \n",
    "                \n",
    "    # This method shuflfes the deck each time when it is needed\n",
    "    def shuffle(self):\n",
    "        rd.shuffle(self._deck)\n",
    "    # This method deals the cards between community cards anmd the players\n",
    "    def dealCards(self, numberOfPlayers = 2):\n",
    "        \n",
    "        assert numberOfPlayers >= 2, f\"Minimum numberOfPlayers >= 2, Current: {numberOfPlayers}\"\n",
    "        \n",
    "        self.communityCards = []\n",
    "        self.playersCards = [[] for _ in range(numberOfPlayers)]\n",
    "\n",
    "        for player in self.playersCards:\n",
    "                for k in range(2):\n",
    "                    player.append(self._deck.pop(0))\n",
    "        \n",
    "        for _ in range(5):\n",
    "            self.communityCards.append(self._deck.pop(0))\n",
    "    \n",
    "    def viewCards(self):        \n",
    "   \n",
    "        return self.playersCards\n",
    "\n",
    "\n",
    "\n",
    "\n",
    "        \n",
    "\n",
    "        \n",
    "\n"
   ]
  },
  {
   "cell_type": "code",
   "execution_count": 109,
   "metadata": {},
   "outputs": [
    {
     "data": {
      "text/plain": [
       "[[{'C': 8}, {'S': 5}],\n",
       " [{'H': 5}, {'H': 3}],\n",
       " [{'D': 7}, {'D': 5}],\n",
       " [{'C': 9}, {'S': 10}],\n",
       " [{'C': 14}, {'H': 12}]]"
      ]
     },
     "execution_count": 109,
     "metadata": {},
     "output_type": "execute_result"
    }
   ],
   "source": [
    "deck1 = deckOfCards()\n",
    "# deck1._deck\n",
    "deck1.shuffle()\n",
    "deck1.dealCards(5)\n",
    "deck1.viewCards()"
   ]
  }
 ],
 "metadata": {
  "kernelspec": {
   "display_name": "Python 3",
   "language": "python",
   "name": "python3"
  },
  "language_info": {
   "codemirror_mode": {
    "name": "ipython",
    "version": 3
   },
   "file_extension": ".py",
   "mimetype": "text/x-python",
   "name": "python",
   "nbconvert_exporter": "python",
   "pygments_lexer": "ipython3",
   "version": "3.11.2"
  }
 },
 "nbformat": 4,
 "nbformat_minor": 2
}
