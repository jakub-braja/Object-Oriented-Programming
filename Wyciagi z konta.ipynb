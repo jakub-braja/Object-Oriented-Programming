{
 "cells": [
  {
   "cell_type": "code",
   "execution_count": 29,
   "metadata": {},
   "outputs": [],
   "source": [
    "\n",
    "import os\n",
    "import shutil\n",
    "import re"
   ]
  },
  {
   "cell_type": "code",
   "execution_count": 8,
   "metadata": {},
   "outputs": [],
   "source": [
    "directory = r\"C:\\Users\\jakub\\OneDrive\\Jakub.Personal\\00.Administracja\\05. Wyciagi ING\\Wyciagi_dla_KONTO_Direct_\"\n",
    "\n",
    "os.getcwd()\n",
    "\n",
    "os.chdir(directory)"
   ]
  },
  {
   "cell_type": "code",
   "execution_count": 20,
   "metadata": {},
   "outputs": [
    {
     "data": {
      "text/plain": [
       "['C:\\\\Users\\\\jakub\\\\OneDrive\\\\Jakub.Personal\\\\00.Administracja\\\\05. Wyciagi ING\\\\Wyciagi_dla_KONTO_Direct_\\\\Wyciagi_dla_KONTO_Direct_',\n",
       " 'C:\\\\Users\\\\jakub\\\\OneDrive\\\\Jakub.Personal\\\\00.Administracja\\\\05. Wyciagi ING\\\\Wyciagi_dla_KONTO_Direct_\\\\Wyciagi_dla_KONTO_Direct_.zip',\n",
       " 'C:\\\\Users\\\\jakub\\\\OneDrive\\\\Jakub.Personal\\\\00.Administracja\\\\05. Wyciagi ING\\\\Wyciagi_dla_KONTO_Direct_\\\\Wyciag_dla_KONTO Direct__01.09.2018.sta',\n",
       " 'C:\\\\Users\\\\jakub\\\\OneDrive\\\\Jakub.Personal\\\\00.Administracja\\\\05. Wyciagi ING\\\\Wyciagi_dla_KONTO_Direct_\\\\Wyciag_dla_KONTO Direct__01.12.2018.sta',\n",
       " 'C:\\\\Users\\\\jakub\\\\OneDrive\\\\Jakub.Personal\\\\00.Administracja\\\\05. Wyciagi ING\\\\Wyciagi_dla_KONTO_Direct_\\\\Wyciag_dla_KONTO Direct__02.03.2018.sta',\n",
       " 'C:\\\\Users\\\\jakub\\\\OneDrive\\\\Jakub.Personal\\\\00.Administracja\\\\05. Wyciagi ING\\\\Wyciagi_dla_KONTO_Direct_\\\\Wyciag_dla_KONTO Direct__02.05.2018.sta',\n",
       " 'C:\\\\Users\\\\jakub\\\\OneDrive\\\\Jakub.Personal\\\\00.Administracja\\\\05. Wyciagi ING\\\\Wyciagi_dla_KONTO_Direct_\\\\Wyciag_dla_KONTO Direct__02.06.2018.sta',\n",
       " 'C:\\\\Users\\\\jakub\\\\OneDrive\\\\Jakub.Personal\\\\00.Administracja\\\\05. Wyciagi ING\\\\Wyciagi_dla_KONTO_Direct_\\\\Wyciag_dla_KONTO Direct__02.07.2018.sta',\n",
       " 'C:\\\\Users\\\\jakub\\\\OneDrive\\\\Jakub.Personal\\\\00.Administracja\\\\05. Wyciagi ING\\\\Wyciagi_dla_KONTO_Direct_\\\\Wyciag_dla_KONTO Direct__02.08.2018.sta',\n",
       " 'C:\\\\Users\\\\jakub\\\\OneDrive\\\\Jakub.Personal\\\\00.Administracja\\\\05. Wyciagi ING\\\\Wyciagi_dla_KONTO_Direct_\\\\Wyciag_dla_KONTO Direct__02.10.2018.sta',\n",
       " 'C:\\\\Users\\\\jakub\\\\OneDrive\\\\Jakub.Personal\\\\00.Administracja\\\\05. Wyciagi ING\\\\Wyciagi_dla_KONTO_Direct_\\\\Wyciag_dla_KONTO Direct__02.11.2018.sta',\n",
       " 'C:\\\\Users\\\\jakub\\\\OneDrive\\\\Jakub.Personal\\\\00.Administracja\\\\05. Wyciagi ING\\\\Wyciagi_dla_KONTO_Direct_\\\\Wyciag_dla_KONTO Direct__31.03.2018.sta']"
      ]
     },
     "execution_count": 20,
     "metadata": {},
     "output_type": "execute_result"
    }
   ],
   "source": [
    "\n",
    "file_paths = [os.path.join(directory, file) for file in os.listdir()]\n",
    "file_paths"
   ]
  },
  {
   "cell_type": "code",
   "execution_count": 21,
   "metadata": {},
   "outputs": [
    {
     "data": {
      "text/plain": [
       "['Wyciagi_dla_KONTO_Direct_',\n",
       " 'Wyciagi_dla_KONTO_Direct_.zip',\n",
       " 'Wyciag_dla_KONTO Direct__01.09.2018.sta',\n",
       " 'Wyciag_dla_KONTO Direct__01.12.2018.sta',\n",
       " 'Wyciag_dla_KONTO Direct__02.03.2018.sta',\n",
       " 'Wyciag_dla_KONTO Direct__02.05.2018.sta',\n",
       " 'Wyciag_dla_KONTO Direct__02.06.2018.sta',\n",
       " 'Wyciag_dla_KONTO Direct__02.07.2018.sta',\n",
       " 'Wyciag_dla_KONTO Direct__02.08.2018.sta',\n",
       " 'Wyciag_dla_KONTO Direct__02.10.2018.sta',\n",
       " 'Wyciag_dla_KONTO Direct__02.11.2018.sta',\n",
       " 'Wyciag_dla_KONTO Direct__31.03.2018.sta']"
      ]
     },
     "execution_count": 21,
     "metadata": {},
     "output_type": "execute_result"
    }
   ],
   "source": [
    "\n",
    "files = os.listdir()\n",
    "files"
   ]
  },
  {
   "cell_type": "code",
   "execution_count": 37,
   "metadata": {},
   "outputs": [
    {
     "data": {
      "text/html": [
       "<div><style>\n",
       ".dataframe > thead > tr > th,\n",
       ".dataframe > tbody > tr > td {\n",
       "  text-align: right;\n",
       "}\n",
       "</style>\n",
       "<small>shape: (66, 1)</small><table border=\"1\" class=\"dataframe\"><thead><tr><th>column_0</th></tr><tr><td>object</td></tr></thead><tbody><tr><td>&lt;Transaction[2018-08-03] -3.60 PLN&gt;</td></tr><tr><td>&lt;Transaction[2018-08-03] -3.00 PLN&gt;</td></tr><tr><td>&lt;Transaction[2018-08-04] -50.00 PLN&gt;</td></tr><tr><td>&lt;Transaction[2018-08-04] -3.75 PLN&gt;</td></tr><tr><td>&lt;Transaction[2018-08-06] -2.00 PLN&gt;</td></tr><tr><td>&lt;Transaction[2018-08-06] -4.15 PLN&gt;</td></tr><tr><td>&lt;Transaction[2018-08-06] -50.00 PLN&gt;</td></tr><tr><td>&lt;Transaction[2018-08-06] -7.95 PLN&gt;</td></tr><tr><td>&lt;Transaction[2018-08-06] -15.76 PLN&gt;</td></tr><tr><td>&lt;Transaction[2018-08-06] -0.47 PLN&gt;</td></tr><tr><td>&lt;Transaction[2018-08-06] -49.24 PLN&gt;</td></tr><tr><td>&lt;Transaction[2018-08-06] -1.48 PLN&gt;</td></tr><tr><td>&hellip;</td></tr><tr><td>&lt;Transaction[2018-08-27] -5.60 PLN&gt;</td></tr><tr><td>&lt;Transaction[2018-08-28] -750.00 PLN&gt;</td></tr><tr><td>&lt;Transaction[2018-08-30] -19.68 PLN&gt;</td></tr><tr><td>&lt;Transaction[2018-08-31] -5.50 PLN&gt;</td></tr><tr><td>&lt;Transaction[2018-08-31] -9.99 PLN&gt;</td></tr><tr><td>&lt;Transaction[2018-08-31] -8.00 PLN&gt;</td></tr><tr><td>&lt;Transaction[2018-08-31] -14.07 PLN&gt;</td></tr><tr><td>&lt;Transaction[2018-08-31] -15.89 PLN&gt;</td></tr><tr><td>&lt;Transaction[2018-08-31] 3080.81 PLN&gt;</td></tr><tr><td>&lt;Transaction[2018-09-01] -9.47 PLN&gt;</td></tr><tr><td>&lt;Transaction[2018-09-01] -6.50 PLN&gt;</td></tr><tr><td>&lt;Transaction[2018-09-01] -4.68 PLN&gt;</td></tr></tbody></table></div>"
      ],
      "text/plain": [
       "shape: (66, 1)\n",
       "┌───────────────────────────────────┐\n",
       "│ column_0                          │\n",
       "│ ---                               │\n",
       "│ object                            │\n",
       "╞═══════════════════════════════════╡\n",
       "│ <Transaction[2018-08-03] -3.60 P… │\n",
       "│ <Transaction[2018-08-03] -3.00 P… │\n",
       "│ <Transaction[2018-08-04] -50.00 … │\n",
       "│ <Transaction[2018-08-04] -3.75 P… │\n",
       "│ …                                 │\n",
       "│ <Transaction[2018-08-31] 3080.81… │\n",
       "│ <Transaction[2018-09-01] -9.47 P… │\n",
       "│ <Transaction[2018-09-01] -6.50 P… │\n",
       "│ <Transaction[2018-09-01] -4.68 P… │\n",
       "└───────────────────────────────────┘"
      ]
     },
     "execution_count": 37,
     "metadata": {},
     "output_type": "execute_result"
    }
   ],
   "source": [
    "from mt940.models import mt940\n",
    "import polars as pl\n",
    "\n",
    "with open(files[2], 'r', encoding='iso-8859-1') as file:\n",
    "    mt940_data = mt940.parse(files[2])\n",
    "\n",
    "pl.DataFrame(mt940_data)\n"
   ]
  }
 ],
 "metadata": {
  "kernelspec": {
   "display_name": "Python 3",
   "language": "python",
   "name": "python3"
  },
  "language_info": {
   "codemirror_mode": {
    "name": "ipython",
    "version": 3
   },
   "file_extension": ".py",
   "mimetype": "text/x-python",
   "name": "python",
   "nbconvert_exporter": "python",
   "pygments_lexer": "ipython3",
   "version": "3.11.2"
  }
 },
 "nbformat": 4,
 "nbformat_minor": 2
}
